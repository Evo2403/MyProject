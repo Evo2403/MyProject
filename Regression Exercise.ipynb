{
 "cells": [
  {
   "cell_type": "code",
   "execution_count": 755,
   "id": "e0d4b62a",
   "metadata": {},
   "outputs": [],
   "source": [
    "import pandas as pd\n",
    "import numpy as np\n",
    "import matplotlib as plt"
   ]
  },
  {
   "cell_type": "code",
   "execution_count": 756,
   "id": "755fac98",
   "metadata": {},
   "outputs": [
    {
     "data": {
      "text/html": [
       "<div>\n",
       "<style scoped>\n",
       "    .dataframe tbody tr th:only-of-type {\n",
       "        vertical-align: middle;\n",
       "    }\n",
       "\n",
       "    .dataframe tbody tr th {\n",
       "        vertical-align: top;\n",
       "    }\n",
       "\n",
       "    .dataframe thead th {\n",
       "        text-align: right;\n",
       "    }\n",
       "</style>\n",
       "<table border=\"1\" class=\"dataframe\">\n",
       "  <thead>\n",
       "    <tr style=\"text-align: right;\">\n",
       "      <th></th>\n",
       "      <th>Species</th>\n",
       "      <th>Weight</th>\n",
       "      <th>Length1</th>\n",
       "      <th>Length2</th>\n",
       "      <th>Length3</th>\n",
       "      <th>Height</th>\n",
       "      <th>Width</th>\n",
       "    </tr>\n",
       "  </thead>\n",
       "  <tbody>\n",
       "    <tr>\n",
       "      <th>0</th>\n",
       "      <td>Bream</td>\n",
       "      <td>242.0</td>\n",
       "      <td>23.2</td>\n",
       "      <td>25.4</td>\n",
       "      <td>30.0</td>\n",
       "      <td>11.5200</td>\n",
       "      <td>4.0200</td>\n",
       "    </tr>\n",
       "    <tr>\n",
       "      <th>1</th>\n",
       "      <td>Bream</td>\n",
       "      <td>290.0</td>\n",
       "      <td>24.0</td>\n",
       "      <td>26.3</td>\n",
       "      <td>31.2</td>\n",
       "      <td>12.4800</td>\n",
       "      <td>4.3056</td>\n",
       "    </tr>\n",
       "    <tr>\n",
       "      <th>2</th>\n",
       "      <td>Bream</td>\n",
       "      <td>340.0</td>\n",
       "      <td>23.9</td>\n",
       "      <td>26.5</td>\n",
       "      <td>31.1</td>\n",
       "      <td>12.3778</td>\n",
       "      <td>4.6961</td>\n",
       "    </tr>\n",
       "    <tr>\n",
       "      <th>3</th>\n",
       "      <td>Bream</td>\n",
       "      <td>363.0</td>\n",
       "      <td>26.3</td>\n",
       "      <td>29.0</td>\n",
       "      <td>33.5</td>\n",
       "      <td>12.7300</td>\n",
       "      <td>4.4555</td>\n",
       "    </tr>\n",
       "    <tr>\n",
       "      <th>4</th>\n",
       "      <td>Bream</td>\n",
       "      <td>430.0</td>\n",
       "      <td>26.5</td>\n",
       "      <td>29.0</td>\n",
       "      <td>34.0</td>\n",
       "      <td>12.4440</td>\n",
       "      <td>5.1340</td>\n",
       "    </tr>\n",
       "    <tr>\n",
       "      <th>...</th>\n",
       "      <td>...</td>\n",
       "      <td>...</td>\n",
       "      <td>...</td>\n",
       "      <td>...</td>\n",
       "      <td>...</td>\n",
       "      <td>...</td>\n",
       "      <td>...</td>\n",
       "    </tr>\n",
       "    <tr>\n",
       "      <th>154</th>\n",
       "      <td>Smelt</td>\n",
       "      <td>12.2</td>\n",
       "      <td>11.5</td>\n",
       "      <td>12.2</td>\n",
       "      <td>13.4</td>\n",
       "      <td>2.0904</td>\n",
       "      <td>1.3936</td>\n",
       "    </tr>\n",
       "    <tr>\n",
       "      <th>155</th>\n",
       "      <td>Smelt</td>\n",
       "      <td>13.4</td>\n",
       "      <td>11.7</td>\n",
       "      <td>12.4</td>\n",
       "      <td>13.5</td>\n",
       "      <td>2.4300</td>\n",
       "      <td>1.2690</td>\n",
       "    </tr>\n",
       "    <tr>\n",
       "      <th>156</th>\n",
       "      <td>Smelt</td>\n",
       "      <td>12.2</td>\n",
       "      <td>12.1</td>\n",
       "      <td>13.0</td>\n",
       "      <td>13.8</td>\n",
       "      <td>2.2770</td>\n",
       "      <td>1.2558</td>\n",
       "    </tr>\n",
       "    <tr>\n",
       "      <th>157</th>\n",
       "      <td>Smelt</td>\n",
       "      <td>19.7</td>\n",
       "      <td>13.2</td>\n",
       "      <td>14.3</td>\n",
       "      <td>15.2</td>\n",
       "      <td>2.8728</td>\n",
       "      <td>2.0672</td>\n",
       "    </tr>\n",
       "    <tr>\n",
       "      <th>158</th>\n",
       "      <td>Smelt</td>\n",
       "      <td>19.9</td>\n",
       "      <td>13.8</td>\n",
       "      <td>15.0</td>\n",
       "      <td>16.2</td>\n",
       "      <td>2.9322</td>\n",
       "      <td>1.8792</td>\n",
       "    </tr>\n",
       "  </tbody>\n",
       "</table>\n",
       "<p>159 rows × 7 columns</p>\n",
       "</div>"
      ],
      "text/plain": [
       "    Species  Weight  Length1  Length2  Length3   Height   Width\n",
       "0     Bream   242.0     23.2     25.4     30.0  11.5200  4.0200\n",
       "1     Bream   290.0     24.0     26.3     31.2  12.4800  4.3056\n",
       "2     Bream   340.0     23.9     26.5     31.1  12.3778  4.6961\n",
       "3     Bream   363.0     26.3     29.0     33.5  12.7300  4.4555\n",
       "4     Bream   430.0     26.5     29.0     34.0  12.4440  5.1340\n",
       "..      ...     ...      ...      ...      ...      ...     ...\n",
       "154   Smelt    12.2     11.5     12.2     13.4   2.0904  1.3936\n",
       "155   Smelt    13.4     11.7     12.4     13.5   2.4300  1.2690\n",
       "156   Smelt    12.2     12.1     13.0     13.8   2.2770  1.2558\n",
       "157   Smelt    19.7     13.2     14.3     15.2   2.8728  2.0672\n",
       "158   Smelt    19.9     13.8     15.0     16.2   2.9322  1.8792\n",
       "\n",
       "[159 rows x 7 columns]"
      ]
     },
     "execution_count": 756,
     "metadata": {},
     "output_type": "execute_result"
    }
   ],
   "source": [
    "fish_df = pd.read_csv(\"https://raw.githubusercontent.com/WHPAN0108/BHT-DataScience-S23/main/regression/data/Fish.csv\")\n",
    "fish_df"
   ]
  },
  {
   "cell_type": "markdown",
   "id": "712589f4",
   "metadata": {},
   "source": [
    "Species: species name of fish Length1: vertical length in cm Length2: diagonal length in cm Length3: cross length in cm Height: height in cm Width: diagonal width in cm Weight: weight of fish in Gram g"
   ]
  },
  {
   "cell_type": "code",
   "execution_count": 757,
   "id": "858e7f04",
   "metadata": {},
   "outputs": [
    {
     "data": {
      "text/html": [
       "<div>\n",
       "<style scoped>\n",
       "    .dataframe tbody tr th:only-of-type {\n",
       "        vertical-align: middle;\n",
       "    }\n",
       "\n",
       "    .dataframe tbody tr th {\n",
       "        vertical-align: top;\n",
       "    }\n",
       "\n",
       "    .dataframe thead th {\n",
       "        text-align: right;\n",
       "    }\n",
       "</style>\n",
       "<table border=\"1\" class=\"dataframe\">\n",
       "  <thead>\n",
       "    <tr style=\"text-align: right;\">\n",
       "      <th></th>\n",
       "      <th>Weight</th>\n",
       "      <th>Length1</th>\n",
       "      <th>Length2</th>\n",
       "      <th>Length3</th>\n",
       "      <th>Height</th>\n",
       "      <th>Width</th>\n",
       "    </tr>\n",
       "  </thead>\n",
       "  <tbody>\n",
       "    <tr>\n",
       "      <th>count</th>\n",
       "      <td>159.000000</td>\n",
       "      <td>159.000000</td>\n",
       "      <td>159.000000</td>\n",
       "      <td>159.000000</td>\n",
       "      <td>159.000000</td>\n",
       "      <td>159.000000</td>\n",
       "    </tr>\n",
       "    <tr>\n",
       "      <th>mean</th>\n",
       "      <td>398.326415</td>\n",
       "      <td>26.247170</td>\n",
       "      <td>28.415723</td>\n",
       "      <td>31.227044</td>\n",
       "      <td>8.970994</td>\n",
       "      <td>4.417486</td>\n",
       "    </tr>\n",
       "    <tr>\n",
       "      <th>std</th>\n",
       "      <td>357.978317</td>\n",
       "      <td>9.996441</td>\n",
       "      <td>10.716328</td>\n",
       "      <td>11.610246</td>\n",
       "      <td>4.286208</td>\n",
       "      <td>1.685804</td>\n",
       "    </tr>\n",
       "    <tr>\n",
       "      <th>min</th>\n",
       "      <td>0.000000</td>\n",
       "      <td>7.500000</td>\n",
       "      <td>8.400000</td>\n",
       "      <td>8.800000</td>\n",
       "      <td>1.728400</td>\n",
       "      <td>1.047600</td>\n",
       "    </tr>\n",
       "    <tr>\n",
       "      <th>25%</th>\n",
       "      <td>120.000000</td>\n",
       "      <td>19.050000</td>\n",
       "      <td>21.000000</td>\n",
       "      <td>23.150000</td>\n",
       "      <td>5.944800</td>\n",
       "      <td>3.385650</td>\n",
       "    </tr>\n",
       "    <tr>\n",
       "      <th>50%</th>\n",
       "      <td>273.000000</td>\n",
       "      <td>25.200000</td>\n",
       "      <td>27.300000</td>\n",
       "      <td>29.400000</td>\n",
       "      <td>7.786000</td>\n",
       "      <td>4.248500</td>\n",
       "    </tr>\n",
       "    <tr>\n",
       "      <th>75%</th>\n",
       "      <td>650.000000</td>\n",
       "      <td>32.700000</td>\n",
       "      <td>35.500000</td>\n",
       "      <td>39.650000</td>\n",
       "      <td>12.365900</td>\n",
       "      <td>5.584500</td>\n",
       "    </tr>\n",
       "    <tr>\n",
       "      <th>max</th>\n",
       "      <td>1650.000000</td>\n",
       "      <td>59.000000</td>\n",
       "      <td>63.400000</td>\n",
       "      <td>68.000000</td>\n",
       "      <td>18.957000</td>\n",
       "      <td>8.142000</td>\n",
       "    </tr>\n",
       "  </tbody>\n",
       "</table>\n",
       "</div>"
      ],
      "text/plain": [
       "            Weight     Length1     Length2     Length3      Height       Width\n",
       "count   159.000000  159.000000  159.000000  159.000000  159.000000  159.000000\n",
       "mean    398.326415   26.247170   28.415723   31.227044    8.970994    4.417486\n",
       "std     357.978317    9.996441   10.716328   11.610246    4.286208    1.685804\n",
       "min       0.000000    7.500000    8.400000    8.800000    1.728400    1.047600\n",
       "25%     120.000000   19.050000   21.000000   23.150000    5.944800    3.385650\n",
       "50%     273.000000   25.200000   27.300000   29.400000    7.786000    4.248500\n",
       "75%     650.000000   32.700000   35.500000   39.650000   12.365900    5.584500\n",
       "max    1650.000000   59.000000   63.400000   68.000000   18.957000    8.142000"
      ]
     },
     "execution_count": 757,
     "metadata": {},
     "output_type": "execute_result"
    }
   ],
   "source": [
    "fish_df.describe()"
   ]
  },
  {
   "cell_type": "code",
   "execution_count": 758,
   "id": "5d9636a7",
   "metadata": {},
   "outputs": [
    {
     "data": {
      "text/plain": [
       "Species    0\n",
       "Weight     0\n",
       "Length1    0\n",
       "Length2    0\n",
       "Length3    0\n",
       "Height     0\n",
       "Width      0\n",
       "dtype: int64"
      ]
     },
     "execution_count": 758,
     "metadata": {},
     "output_type": "execute_result"
    }
   ],
   "source": [
    "#überprüfen des Datasets auf Vollständigkeit \n",
    "fish_df.isnull().sum()"
   ]
  },
  {
   "cell_type": "code",
   "execution_count": 759,
   "id": "1de24538",
   "metadata": {},
   "outputs": [
    {
     "data": {
      "text/plain": [
       "Species     object\n",
       "Weight     float64\n",
       "Length1    float64\n",
       "Length2    float64\n",
       "Length3    float64\n",
       "Height     float64\n",
       "Width      float64\n",
       "dtype: object"
      ]
     },
     "execution_count": 759,
     "metadata": {},
     "output_type": "execute_result"
    }
   ],
   "source": [
    "fish_df.dtypes"
   ]
  },
  {
   "cell_type": "code",
   "execution_count": 760,
   "id": "f39c4016",
   "metadata": {},
   "outputs": [
    {
     "name": "stdout",
     "output_type": "stream",
     "text": [
      "Species: ['Bream' 'Roach' 'Whitefish' 'Parkki' 'Perch' 'Pike' 'Smelt']\n",
      "Weight: [ 242.   290.   340.   363.   430.   450.   500.   390.   475.   600.\n",
      "  700.   610.   650.   575.   685.   620.   680.   725.   720.   714.\n",
      "  850.  1000.   920.   955.   925.   975.   950.    40.    69.    78.\n",
      "   87.   120.     0.   110.   150.   145.   160.   140.   169.   161.\n",
      "  200.   180.   272.   270.   306.   540.   800.    55.    60.    90.\n",
      "  170.   273.   300.     5.9   32.    51.5   70.   100.    80.    85.\n",
      "  115.   125.   130.   135.   225.   188.   197.   218.   260.   265.\n",
      "  250.   320.   514.   556.   840.   690.   900.   820.  1015.  1100.\n",
      "  345.   456.   510.   567.   770.  1250.  1600.  1550.  1650.     6.7\n",
      "    7.5    7.     9.7    9.8    8.7   10.     9.9   12.2   13.4   19.7\n",
      "   19.9]\n",
      "Length1: [23.2 24.  23.9 26.3 26.5 26.8 27.6 28.5 28.4 28.7 29.1 29.5 29.4 30.4\n",
      " 30.9 31.  31.3 31.4 31.5 31.8 31.9 32.  32.7 32.8 33.5 35.  36.2 37.4\n",
      " 38.  12.9 16.5 17.5 18.2 18.6 19.  19.1 19.4 20.4 20.5 21.  21.1 22.\n",
      " 22.1 23.6 25.  24.1 25.6 33.7 37.3 13.5 14.3 16.3 18.4 19.8 21.2 23.\n",
      "  7.5 12.5 13.8 15.  15.7 16.2 16.8 17.2 17.8 19.3 20.  20.7 21.5 22.6\n",
      " 23.5 25.2 25.4 25.9 26.9 27.8 30.5 32.5 34.  34.5 34.6 36.5 36.6 36.9\n",
      " 37.  37.1 39.  39.8 40.1 40.2 41.1 30.  31.7 34.8 35.5 36.  40.  42.\n",
      " 43.2 44.8 48.3 52.  56.  59.   9.3 10.  10.1 10.4 10.7 10.8 11.3 11.4\n",
      " 11.5 11.7 12.1 13.2]\n",
      "Length2: [25.4 26.3 26.5 29.  29.7 30.  30.7 31.  31.5 32.  33.  33.5 34.  34.5\n",
      " 35.  36.  37.  38.5 39.5 41.  14.1 18.2 18.8 19.8 20.  20.5 20.8 21.\n",
      " 22.  22.5 24.  23.4 23.5 25.2 26.  27.  31.7 28.  36.4 40.  14.7 15.5\n",
      " 17.7 19.  20.7 21.5 23.  25.   8.4 13.7 15.  16.2 17.4 18.  18.7 19.6\n",
      " 21.3 22.7 24.6 25.6 27.3 27.5 28.7 32.8 36.5 39.  42.  43.  43.5 44.\n",
      " 32.3 37.3 38.  42.5 45.  46.  48.  51.7 56.  60.  63.4  9.8 10.5 10.6\n",
      " 11.  11.2 11.3 11.8 12.  12.2 12.4 13.  14.3]\n",
      "Length3: [30.  31.2 31.1 33.5 34.  34.7 34.5 35.  35.1 36.2 36.4 37.3 37.2 38.3\n",
      " 38.5 38.6 38.7 39.5 39.2 39.7 40.6 40.5 40.9 41.5 41.6 42.6 44.1 44.\n",
      " 45.3 45.9 46.5 16.2 20.3 21.2 22.2 22.8 23.1 23.7 24.7 24.3 25.3 25.\n",
      " 27.2 26.7 26.8 27.9 29.2 30.6 28.7 29.3 30.8 39.6 43.5 16.5 17.4 19.8\n",
      " 21.3 22.4 23.2 24.1 25.8 28.  29.   8.8 14.7 16.  17.2 18.5 19.2 19.4\n",
      " 20.2 20.8 21.  22.5 23.5 24.  24.2 24.5 25.5 26.2 26.5 27.  28.9 29.4\n",
      " 30.1 31.6 36.5 39.  39.4 39.3 41.4 41.3 42.3 42.5 42.4 44.6 45.2 45.5\n",
      " 46.  46.6 34.8 37.8 38.8 39.8 41.  45.8 48.  48.7 51.2 55.1 59.7 64.\n",
      " 68.  10.8 11.6 12.  12.4 12.6 13.1 13.2 13.4 13.5 13.8 15.2]\n",
      "Height: [11.52   12.48   12.3778 12.73   12.444  13.6024 14.1795 12.67   14.0049\n",
      " 14.2266 14.2628 14.3714 13.7592 13.9129 14.9544 15.438  14.8604 14.938\n",
      " 15.633  14.4738 15.1285 15.9936 15.5227 15.4686 16.2405 16.36   16.3618\n",
      " 16.517  16.8896 18.957  18.0369 18.084  18.7542 18.6354 17.6235  4.1472\n",
      "  5.2983  5.5756  5.6166  6.216   6.4752  6.1677  6.1146  5.8045  6.6339\n",
      "  7.0334  6.55    6.4     7.5344  6.9153  7.3968  7.0866  8.8768  8.568\n",
      "  9.485   8.3804  8.1454  8.778  10.744  11.7612 12.354   6.8475  6.5772\n",
      "  7.4052  8.3922  8.8928  8.5376  9.396   9.7364 10.3458 11.088  11.368\n",
      "  2.112   3.528   3.824   4.5924  4.588   5.2224  5.1992  5.6358  5.1376\n",
      "  5.082   5.6925  5.9175  6.384   6.11    5.64    5.875   5.5225  5.856\n",
      "  6.792   5.9532  5.2185  6.275   7.293   6.375   6.7334  6.4395  6.561\n",
      "  7.168   8.323   7.1672  7.0516  7.2828  7.8204  7.5852  7.6156 10.03\n",
      " 10.2565 11.4884 10.881  10.6091 10.835  10.5717 11.1366 12.4313 11.9286\n",
      " 11.73   12.3808 11.135  12.8002 11.9328 12.5125 12.604  12.4888  5.568\n",
      "  5.7078  5.9364  6.2884  7.29    6.396   7.28    6.825   7.786   6.96\n",
      "  7.792   7.68    8.9262 10.6863  9.6    10.812   1.7388  1.972   1.7284\n",
      "  2.196   2.0832  1.9782  2.2139  2.2044  2.0904  2.43    2.277   2.8728\n",
      "  2.9322]\n",
      "Width: [4.02   4.3056 4.6961 4.4555 5.134  4.9274 5.2785 4.69   4.8438 4.9594\n",
      " 5.1042 4.8146 4.368  5.0728 5.1708 5.58   5.2854 5.1975 5.1338 5.7276\n",
      " 5.5695 5.3704 5.2801 6.1306 5.589  6.0532 6.09   5.8515 6.1984 6.603\n",
      " 6.3063 6.292  6.7497 6.7473 6.3705 2.268  2.8217 2.9044 3.1746 3.5742\n",
      " 3.3516 3.3957 3.2943 3.7544 3.5478 3.8203 3.325  3.8    3.8352 3.6312\n",
      " 4.1272 3.906  4.4968 4.7736 5.355  4.2476 4.2485 4.6816 6.562  6.5736\n",
      " 6.525  2.3265 2.3142 2.673  2.9181 3.2928 3.2944 3.4104 3.1571 3.6636\n",
      " 4.144  4.234  1.408  1.9992 2.432  2.6316 2.9415 3.3216 3.1234 3.0502\n",
      " 3.0368 2.772  3.555  3.3075 3.6675 3.534  3.4075 3.525  3.995  3.624\n",
      " 3.63   3.626  3.725  3.723  3.825  4.1658 3.6835 4.239  5.1373 4.335\n",
      " 4.5662 4.2042 4.6354 4.7716 6.018  6.3875 7.7957 6.864  6.7408 6.2646\n",
      " 6.3666 7.4934 6.003  7.3514 7.1064 7.225  7.4624 6.63   6.8684 7.2772\n",
      " 7.4165 8.142  7.5958 3.3756 4.158  4.3844 4.0198 4.5765 3.977  4.3225\n",
      " 4.459  5.1296 4.896  4.87   5.376  6.1712 6.9849 6.144  7.48   1.0476\n",
      " 1.16   1.1484 1.38   1.2772 1.2852 1.2838 1.1659 1.3936 1.269  1.2558\n",
      " 2.0672 1.8792]\n"
     ]
    }
   ],
   "source": [
    "for column in fish_df:\n",
    "    print(f\"{column}: {fish_df[column].unique()}\")"
   ]
  },
  {
   "cell_type": "code",
   "execution_count": 761,
   "id": "3d6f85d1",
   "metadata": {},
   "outputs": [
    {
     "name": "stdout",
     "output_type": "stream",
     "text": [
      "Anzahl der 0-Werte im Gewicht: 1\n",
      "Anzahl der 0-Werte in vertikale Länge: 0\n",
      "Anzahl der 0-Werte in diagonale Länge: 0\n",
      "Anzahl der 0-Werte in Querlänge: 0\n",
      "Anzahl der 0-Werte in Höhe: 0\n",
      "Anzahl der 0-Werte in Breite: 0\n"
     ]
    }
   ],
   "source": [
    "# überprüfen der Werte ob einer davon =0 ist\n",
    "print(\"Anzahl der 0-Werte im Gewicht:\", (fish_df['Weight'] == 0).sum())\n",
    "print(\"Anzahl der 0-Werte in vertikale Länge:\", (fish_df['Length1'] == 0).sum())\n",
    "print(\"Anzahl der 0-Werte in diagonale Länge:\", (fish_df['Length2'] == 0).sum())\n",
    "print(\"Anzahl der 0-Werte in Querlänge:\", (fish_df['Length3'] == 0).sum())\n",
    "print(\"Anzahl der 0-Werte in Höhe:\", (fish_df['Height'] == 0).sum())\n",
    "print(\"Anzahl der 0-Werte in Breite:\", (fish_df['Width'] == 0).sum())"
   ]
  },
  {
   "cell_type": "code",
   "execution_count": 762,
   "id": "e27f47e1",
   "metadata": {},
   "outputs": [
    {
     "data": {
      "text/plain": [
       "(159, 7)"
      ]
     },
     "execution_count": 762,
     "metadata": {},
     "output_type": "execute_result"
    }
   ],
   "source": [
    "fish_df.shape"
   ]
  },
  {
   "cell_type": "code",
   "execution_count": 763,
   "id": "c7e1ab20",
   "metadata": {},
   "outputs": [],
   "source": [
    "# entfernen von 0-Werten im Gewicht\n",
    "fish_df = fish_df[fish_df['Weight'] != 0]"
   ]
  },
  {
   "cell_type": "code",
   "execution_count": 764,
   "id": "4b3f5532",
   "metadata": {},
   "outputs": [
    {
     "data": {
      "text/plain": [
       "(158, 7)"
      ]
     },
     "execution_count": 764,
     "metadata": {},
     "output_type": "execute_result"
    }
   ],
   "source": [
    "fish_df.shape"
   ]
  },
  {
   "cell_type": "code",
   "execution_count": 765,
   "id": "0be9d516",
   "metadata": {},
   "outputs": [
    {
     "data": {
      "text/html": [
       "<div>\n",
       "<style scoped>\n",
       "    .dataframe tbody tr th:only-of-type {\n",
       "        vertical-align: middle;\n",
       "    }\n",
       "\n",
       "    .dataframe tbody tr th {\n",
       "        vertical-align: top;\n",
       "    }\n",
       "\n",
       "    .dataframe thead th {\n",
       "        text-align: right;\n",
       "    }\n",
       "</style>\n",
       "<table border=\"1\" class=\"dataframe\">\n",
       "  <thead>\n",
       "    <tr style=\"text-align: right;\">\n",
       "      <th></th>\n",
       "      <th>Weight</th>\n",
       "      <th>Length1</th>\n",
       "      <th>Length2</th>\n",
       "      <th>Length3</th>\n",
       "      <th>Height</th>\n",
       "      <th>Width</th>\n",
       "    </tr>\n",
       "  </thead>\n",
       "  <tbody>\n",
       "    <tr>\n",
       "      <th>0</th>\n",
       "      <td>242.0</td>\n",
       "      <td>23.2</td>\n",
       "      <td>25.4</td>\n",
       "      <td>30.0</td>\n",
       "      <td>11.5200</td>\n",
       "      <td>4.0200</td>\n",
       "    </tr>\n",
       "    <tr>\n",
       "      <th>1</th>\n",
       "      <td>290.0</td>\n",
       "      <td>24.0</td>\n",
       "      <td>26.3</td>\n",
       "      <td>31.2</td>\n",
       "      <td>12.4800</td>\n",
       "      <td>4.3056</td>\n",
       "    </tr>\n",
       "    <tr>\n",
       "      <th>2</th>\n",
       "      <td>340.0</td>\n",
       "      <td>23.9</td>\n",
       "      <td>26.5</td>\n",
       "      <td>31.1</td>\n",
       "      <td>12.3778</td>\n",
       "      <td>4.6961</td>\n",
       "    </tr>\n",
       "    <tr>\n",
       "      <th>3</th>\n",
       "      <td>363.0</td>\n",
       "      <td>26.3</td>\n",
       "      <td>29.0</td>\n",
       "      <td>33.5</td>\n",
       "      <td>12.7300</td>\n",
       "      <td>4.4555</td>\n",
       "    </tr>\n",
       "    <tr>\n",
       "      <th>4</th>\n",
       "      <td>430.0</td>\n",
       "      <td>26.5</td>\n",
       "      <td>29.0</td>\n",
       "      <td>34.0</td>\n",
       "      <td>12.4440</td>\n",
       "      <td>5.1340</td>\n",
       "    </tr>\n",
       "    <tr>\n",
       "      <th>...</th>\n",
       "      <td>...</td>\n",
       "      <td>...</td>\n",
       "      <td>...</td>\n",
       "      <td>...</td>\n",
       "      <td>...</td>\n",
       "      <td>...</td>\n",
       "    </tr>\n",
       "    <tr>\n",
       "      <th>154</th>\n",
       "      <td>12.2</td>\n",
       "      <td>11.5</td>\n",
       "      <td>12.2</td>\n",
       "      <td>13.4</td>\n",
       "      <td>2.0904</td>\n",
       "      <td>1.3936</td>\n",
       "    </tr>\n",
       "    <tr>\n",
       "      <th>155</th>\n",
       "      <td>13.4</td>\n",
       "      <td>11.7</td>\n",
       "      <td>12.4</td>\n",
       "      <td>13.5</td>\n",
       "      <td>2.4300</td>\n",
       "      <td>1.2690</td>\n",
       "    </tr>\n",
       "    <tr>\n",
       "      <th>156</th>\n",
       "      <td>12.2</td>\n",
       "      <td>12.1</td>\n",
       "      <td>13.0</td>\n",
       "      <td>13.8</td>\n",
       "      <td>2.2770</td>\n",
       "      <td>1.2558</td>\n",
       "    </tr>\n",
       "    <tr>\n",
       "      <th>157</th>\n",
       "      <td>19.7</td>\n",
       "      <td>13.2</td>\n",
       "      <td>14.3</td>\n",
       "      <td>15.2</td>\n",
       "      <td>2.8728</td>\n",
       "      <td>2.0672</td>\n",
       "    </tr>\n",
       "    <tr>\n",
       "      <th>158</th>\n",
       "      <td>19.9</td>\n",
       "      <td>13.8</td>\n",
       "      <td>15.0</td>\n",
       "      <td>16.2</td>\n",
       "      <td>2.9322</td>\n",
       "      <td>1.8792</td>\n",
       "    </tr>\n",
       "  </tbody>\n",
       "</table>\n",
       "<p>158 rows × 6 columns</p>\n",
       "</div>"
      ],
      "text/plain": [
       "     Weight  Length1  Length2  Length3   Height   Width\n",
       "0     242.0     23.2     25.4     30.0  11.5200  4.0200\n",
       "1     290.0     24.0     26.3     31.2  12.4800  4.3056\n",
       "2     340.0     23.9     26.5     31.1  12.3778  4.6961\n",
       "3     363.0     26.3     29.0     33.5  12.7300  4.4555\n",
       "4     430.0     26.5     29.0     34.0  12.4440  5.1340\n",
       "..      ...      ...      ...      ...      ...     ...\n",
       "154    12.2     11.5     12.2     13.4   2.0904  1.3936\n",
       "155    13.4     11.7     12.4     13.5   2.4300  1.2690\n",
       "156    12.2     12.1     13.0     13.8   2.2770  1.2558\n",
       "157    19.7     13.2     14.3     15.2   2.8728  2.0672\n",
       "158    19.9     13.8     15.0     16.2   2.9322  1.8792\n",
       "\n",
       "[158 rows x 6 columns]"
      ]
     },
     "execution_count": 765,
     "metadata": {},
     "output_type": "execute_result"
    }
   ],
   "source": [
    "fish_df_1 = fish_df[['Weight','Length1','Length2','Length3','Height','Width']]\n",
    "fish_df_1"
   ]
  },
  {
   "cell_type": "code",
   "execution_count": 766,
   "id": "426ef46c",
   "metadata": {},
   "outputs": [
    {
     "name": "stdout",
     "output_type": "stream",
     "text": [
      "Kleinstes Gewicht: 5.9\n",
      "Größtes Gewicht: 1650.0\n"
     ]
    }
   ],
   "source": [
    "min_weight = fish_df['Weight'].min()\n",
    "max_weight = fish_df['Weight'].max()\n",
    "print(\"Kleinstes Gewicht:\", min_weight)\n",
    "print(\"Größtes Gewicht:\", max_weight)"
   ]
  },
  {
   "cell_type": "markdown",
   "id": "a8e856fd",
   "metadata": {},
   "source": [
    "# Task1"
   ]
  },
  {
   "cell_type": "markdown",
   "id": "b0a0c03d",
   "metadata": {},
   "source": [
    "1. Randomly split dataset with 70/30 training and test dataset"
   ]
  },
  {
   "cell_type": "code",
   "execution_count": 767,
   "id": "7a63a343",
   "metadata": {},
   "outputs": [],
   "source": [
    "from sklearn.model_selection import train_test_split\n",
    "from sklearn.linear_model import LinearRegression\n",
    "from sklearn.ensemble import RandomForestRegressor\n",
    "from sklearn.metrics import mean_squared_error\n",
    "from sklearn import preprocessing\n",
    "import seaborn as sns"
   ]
  },
  {
   "cell_type": "code",
   "execution_count": 768,
   "id": "493c4805",
   "metadata": {},
   "outputs": [],
   "source": [
    "#output vector\n",
    "  \n",
    "labels = np.array (fish_df_1.filter(items=['Weight']))\n",
    "  \n",
    "#input vector\n",
    "\n",
    "features = np.array(fish_df_1.drop(['Weight'],1))\n",
    "\n",
    "#skalieren und vorbereiten der features werte\n",
    "\n",
    "features = preprocessing.scale(features)\n",
    "\n",
    "#spliten\n",
    "features_train, features_test, labels_train, labels_test = train_test_split(features, labels, test_size=0.3)"
   ]
  },
  {
   "cell_type": "code",
   "execution_count": 771,
   "id": "8689a873",
   "metadata": {},
   "outputs": [
    {
     "name": "stdout",
     "output_type": "stream",
     "text": [
      "Größe dataset: (158, 6)\n",
      "Größe - training set: (110, 5)\n",
      "Größe - training set: (110, 1)\n",
      "Größe - testing set: (48, 5)\n",
      "Größe - testing set: (48, 1)\n"
     ]
    }
   ],
   "source": [
    "# Überprüfen\n",
    "print(\"Größe dataset:\", fish_df_1.shape)\n",
    "print(\"Größe - training set:\", features_train.shape)\n",
    "print(\"Größe - training set:\", labels_train.shape)\n",
    "print(\"Größe - testing set:\", features_test.shape)\n",
    "print(\"Größe - testing set:\", labels_test.shape)"
   ]
  },
  {
   "cell_type": "markdown",
   "id": "7249e989",
   "metadata": {},
   "source": [
    "2. Use linear regression, random forest model"
   ]
  },
  {
   "cell_type": "markdown",
   "id": "e610c23d",
   "metadata": {},
   "source": [
    "# Linear regression"
   ]
  },
  {
   "cell_type": "code",
   "execution_count": 772,
   "id": "bbf08dd0",
   "metadata": {},
   "outputs": [
    {
     "data": {
      "text/html": [
       "<style>#sk-container-id-61 {color: black;background-color: white;}#sk-container-id-61 pre{padding: 0;}#sk-container-id-61 div.sk-toggleable {background-color: white;}#sk-container-id-61 label.sk-toggleable__label {cursor: pointer;display: block;width: 100%;margin-bottom: 0;padding: 0.3em;box-sizing: border-box;text-align: center;}#sk-container-id-61 label.sk-toggleable__label-arrow:before {content: \"▸\";float: left;margin-right: 0.25em;color: #696969;}#sk-container-id-61 label.sk-toggleable__label-arrow:hover:before {color: black;}#sk-container-id-61 div.sk-estimator:hover label.sk-toggleable__label-arrow:before {color: black;}#sk-container-id-61 div.sk-toggleable__content {max-height: 0;max-width: 0;overflow: hidden;text-align: left;background-color: #f0f8ff;}#sk-container-id-61 div.sk-toggleable__content pre {margin: 0.2em;color: black;border-radius: 0.25em;background-color: #f0f8ff;}#sk-container-id-61 input.sk-toggleable__control:checked~div.sk-toggleable__content {max-height: 200px;max-width: 100%;overflow: auto;}#sk-container-id-61 input.sk-toggleable__control:checked~label.sk-toggleable__label-arrow:before {content: \"▾\";}#sk-container-id-61 div.sk-estimator input.sk-toggleable__control:checked~label.sk-toggleable__label {background-color: #d4ebff;}#sk-container-id-61 div.sk-label input.sk-toggleable__control:checked~label.sk-toggleable__label {background-color: #d4ebff;}#sk-container-id-61 input.sk-hidden--visually {border: 0;clip: rect(1px 1px 1px 1px);clip: rect(1px, 1px, 1px, 1px);height: 1px;margin: -1px;overflow: hidden;padding: 0;position: absolute;width: 1px;}#sk-container-id-61 div.sk-estimator {font-family: monospace;background-color: #f0f8ff;border: 1px dotted black;border-radius: 0.25em;box-sizing: border-box;margin-bottom: 0.5em;}#sk-container-id-61 div.sk-estimator:hover {background-color: #d4ebff;}#sk-container-id-61 div.sk-parallel-item::after {content: \"\";width: 100%;border-bottom: 1px solid gray;flex-grow: 1;}#sk-container-id-61 div.sk-label:hover label.sk-toggleable__label {background-color: #d4ebff;}#sk-container-id-61 div.sk-serial::before {content: \"\";position: absolute;border-left: 1px solid gray;box-sizing: border-box;top: 0;bottom: 0;left: 50%;z-index: 0;}#sk-container-id-61 div.sk-serial {display: flex;flex-direction: column;align-items: center;background-color: white;padding-right: 0.2em;padding-left: 0.2em;position: relative;}#sk-container-id-61 div.sk-item {position: relative;z-index: 1;}#sk-container-id-61 div.sk-parallel {display: flex;align-items: stretch;justify-content: center;background-color: white;position: relative;}#sk-container-id-61 div.sk-item::before, #sk-container-id-61 div.sk-parallel-item::before {content: \"\";position: absolute;border-left: 1px solid gray;box-sizing: border-box;top: 0;bottom: 0;left: 50%;z-index: -1;}#sk-container-id-61 div.sk-parallel-item {display: flex;flex-direction: column;z-index: 1;position: relative;background-color: white;}#sk-container-id-61 div.sk-parallel-item:first-child::after {align-self: flex-end;width: 50%;}#sk-container-id-61 div.sk-parallel-item:last-child::after {align-self: flex-start;width: 50%;}#sk-container-id-61 div.sk-parallel-item:only-child::after {width: 0;}#sk-container-id-61 div.sk-dashed-wrapped {border: 1px dashed gray;margin: 0 0.4em 0.5em 0.4em;box-sizing: border-box;padding-bottom: 0.4em;background-color: white;}#sk-container-id-61 div.sk-label label {font-family: monospace;font-weight: bold;display: inline-block;line-height: 1.2em;}#sk-container-id-61 div.sk-label-container {text-align: center;}#sk-container-id-61 div.sk-container {/* jupyter's `normalize.less` sets `[hidden] { display: none; }` but bootstrap.min.css set `[hidden] { display: none !important; }` so we also need the `!important` here to be able to override the default hidden behavior on the sphinx rendered scikit-learn.org. See: https://github.com/scikit-learn/scikit-learn/issues/21755 */display: inline-block !important;position: relative;}#sk-container-id-61 div.sk-text-repr-fallback {display: none;}</style><div id=\"sk-container-id-61\" class=\"sk-top-container\"><div class=\"sk-text-repr-fallback\"><pre>LinearRegression()</pre><b>In a Jupyter environment, please rerun this cell to show the HTML representation or trust the notebook. <br />On GitHub, the HTML representation is unable to render, please try loading this page with nbviewer.org.</b></div><div class=\"sk-container\" hidden><div class=\"sk-item\"><div class=\"sk-estimator sk-toggleable\"><input class=\"sk-toggleable__control sk-hidden--visually\" id=\"sk-estimator-id-61\" type=\"checkbox\" checked><label for=\"sk-estimator-id-61\" class=\"sk-toggleable__label sk-toggleable__label-arrow\">LinearRegression</label><div class=\"sk-toggleable__content\"><pre>LinearRegression()</pre></div></div></div></div></div>"
      ],
      "text/plain": [
       "LinearRegression()"
      ]
     },
     "execution_count": 772,
     "metadata": {},
     "output_type": "execute_result"
    }
   ],
   "source": [
    "#linear regression model erstellen\n",
    "linear_classifier = LinearRegression()\n",
    "linear_classifier.fit (features_train, labels_train)"
   ]
  },
  {
   "cell_type": "code",
   "execution_count": 773,
   "id": "a899d15c",
   "metadata": {},
   "outputs": [],
   "source": [
    "#Vorhersage der Gewichte für die Testdaten\n",
    "linear_pred = linear_classifier.predict(features_test)"
   ]
  },
  {
   "cell_type": "code",
   "execution_count": 775,
   "id": "ca59aec2",
   "metadata": {},
   "outputs": [
    {
     "data": {
      "text/plain": [
       "0.8249937639538896"
      ]
     },
     "execution_count": 775,
     "metadata": {},
     "output_type": "execute_result"
    }
   ],
   "source": [
    "#das Rsquare unseres Modells\n",
    "score = linear_classifier.score(features_test,labels_test)\n",
    "score"
   ]
  },
  {
   "cell_type": "markdown",
   "id": "063eeaea",
   "metadata": {},
   "source": [
    "R-Quadrat ist ein statistisches Maß dafür, wie nahe die Daten an der angepassten Regressionslinie liegen. Das R-Quadrat unseres linearen Modells beträgt 0.8249937639538896, was bedeutet, dass der Prozentsatz der erklärten Varianz etwa 82 % beträgt"
   ]
  },
  {
   "cell_type": "code",
   "execution_count": 776,
   "id": "d413aa5a",
   "metadata": {},
   "outputs": [
    {
     "data": {
      "text/plain": [
       "<AxesSubplot:>"
      ]
     },
     "execution_count": 776,
     "metadata": {},
     "output_type": "execute_result"
    },
    {
     "data": {
      "image/png": "[encoded data removed]",
      "text/plain": [
       "<Figure size 432x288 with 1 Axes>"
      ]
     },
     "metadata": {
      "needs_background": "light"
     },
     "output_type": "display_data"
    }
   ],
   "source": [
    "sns.regplot(x=labels_test,y=linear_pred, ci =None, color =\"b\")"
   ]
  },
  {
   "cell_type": "code",
   "execution_count": 777,
   "id": "6c97760d",
   "metadata": {},
   "outputs": [
    {
     "name": "stdout",
     "output_type": "stream",
     "text": [
      "Linear Regression Mean Squared Error: 19135.709684496458\n"
     ]
    }
   ],
   "source": [
    "# Berechnung Linear Regression Mean Squared Error\n",
    "linear_mse = mean_squared_error(labels_test, linear_pred)\n",
    "print(\"Linear Regression Mean Squared Error:\", linear_mse)"
   ]
  },
  {
   "cell_type": "code",
   "execution_count": 778,
   "id": "94c700d0",
   "metadata": {},
   "outputs": [
    {
     "data": {
      "text/plain": [
       "138.33188238615296"
      ]
     },
     "execution_count": 778,
     "metadata": {},
     "output_type": "execute_result"
    }
   ],
   "source": [
    "rmse = np.sqrt(linear_mse)\n",
    "rmse"
   ]
  },
  {
   "cell_type": "markdown",
   "id": "ae5ae667",
   "metadata": {},
   "source": [
    "Der Mean Squared Error (MSE) ist eine Metrik zur Bewertung der Genauigkeit eines Regressionsmodells. Er misst den durchschnittlichen quadratischen Unterschied zwischen den vorhergesagten Werten und den tatsächlichen Werten. Ein geringer Wert bedutet eine geringere Abweichung.  Insgesamt zeigt ein MSE-Wert von 19135.71, dass das Modell eine durchschnittliche Abweichung von etwa 138 Gramm (Wurzel aus dem MSE-Wert) in seinen Vorhersagen aufweist. Dies ist im Vergleich zur Spanne der Gewichtsdaten von 5.9 bis 1650.0 relativ hoch."
   ]
  },
  {
   "cell_type": "markdown",
   "id": "dffb5353",
   "metadata": {},
   "source": [
    "# Random forest Regression "
   ]
  },
  {
   "cell_type": "code",
   "execution_count": 779,
   "id": "8be63437",
   "metadata": {},
   "outputs": [],
   "source": [
    "from sklearn.ensemble import RandomForestRegressor\n",
    "from sklearn.metrics import r2_score,mean_squared_error,mean_squared_log_error,make_scorer\n",
    "from sklearn.pipeline import make_pipeline"
   ]
  },
  {
   "cell_type": "code",
   "execution_count": 780,
   "id": "d6fc0a00",
   "metadata": {},
   "outputs": [
    {
     "data": {
      "text/html": [
       "<style>#sk-container-id-62 {color: black;background-color: white;}#sk-container-id-62 pre{padding: 0;}#sk-container-id-62 div.sk-toggleable {background-color: white;}#sk-container-id-62 label.sk-toggleable__label {cursor: pointer;display: block;width: 100%;margin-bottom: 0;padding: 0.3em;box-sizing: border-box;text-align: center;}#sk-container-id-62 label.sk-toggleable__label-arrow:before {content: \"▸\";float: left;margin-right: 0.25em;color: #696969;}#sk-container-id-62 label.sk-toggleable__label-arrow:hover:before {color: black;}#sk-container-id-62 div.sk-estimator:hover label.sk-toggleable__label-arrow:before {color: black;}#sk-container-id-62 div.sk-toggleable__content {max-height: 0;max-width: 0;overflow: hidden;text-align: left;background-color: #f0f8ff;}#sk-container-id-62 div.sk-toggleable__content pre {margin: 0.2em;color: black;border-radius: 0.25em;background-color: #f0f8ff;}#sk-container-id-62 input.sk-toggleable__control:checked~div.sk-toggleable__content {max-height: 200px;max-width: 100%;overflow: auto;}#sk-container-id-62 input.sk-toggleable__control:checked~label.sk-toggleable__label-arrow:before {content: \"▾\";}#sk-container-id-62 div.sk-estimator input.sk-toggleable__control:checked~label.sk-toggleable__label {background-color: #d4ebff;}#sk-container-id-62 div.sk-label input.sk-toggleable__control:checked~label.sk-toggleable__label {background-color: #d4ebff;}#sk-container-id-62 input.sk-hidden--visually {border: 0;clip: rect(1px 1px 1px 1px);clip: rect(1px, 1px, 1px, 1px);height: 1px;margin: -1px;overflow: hidden;padding: 0;position: absolute;width: 1px;}#sk-container-id-62 div.sk-estimator {font-family: monospace;background-color: #f0f8ff;border: 1px dotted black;border-radius: 0.25em;box-sizing: border-box;margin-bottom: 0.5em;}#sk-container-id-62 div.sk-estimator:hover {background-color: #d4ebff;}#sk-container-id-62 div.sk-parallel-item::after {content: \"\";width: 100%;border-bottom: 1px solid gray;flex-grow: 1;}#sk-container-id-62 div.sk-label:hover label.sk-toggleable__label {background-color: #d4ebff;}#sk-container-id-62 div.sk-serial::before {content: \"\";position: absolute;border-left: 1px solid gray;box-sizing: border-box;top: 0;bottom: 0;left: 50%;z-index: 0;}#sk-container-id-62 div.sk-serial {display: flex;flex-direction: column;align-items: center;background-color: white;padding-right: 0.2em;padding-left: 0.2em;position: relative;}#sk-container-id-62 div.sk-item {position: relative;z-index: 1;}#sk-container-id-62 div.sk-parallel {display: flex;align-items: stretch;justify-content: center;background-color: white;position: relative;}#sk-container-id-62 div.sk-item::before, #sk-container-id-62 div.sk-parallel-item::before {content: \"\";position: absolute;border-left: 1px solid gray;box-sizing: border-box;top: 0;bottom: 0;left: 50%;z-index: -1;}#sk-container-id-62 div.sk-parallel-item {display: flex;flex-direction: column;z-index: 1;position: relative;background-color: white;}#sk-container-id-62 div.sk-parallel-item:first-child::after {align-self: flex-end;width: 50%;}#sk-container-id-62 div.sk-parallel-item:last-child::after {align-self: flex-start;width: 50%;}#sk-container-id-62 div.sk-parallel-item:only-child::after {width: 0;}#sk-container-id-62 div.sk-dashed-wrapped {border: 1px dashed gray;margin: 0 0.4em 0.5em 0.4em;box-sizing: border-box;padding-bottom: 0.4em;background-color: white;}#sk-container-id-62 div.sk-label label {font-family: monospace;font-weight: bold;display: inline-block;line-height: 1.2em;}#sk-container-id-62 div.sk-label-container {text-align: center;}#sk-container-id-62 div.sk-container {/* jupyter's `normalize.less` sets `[hidden] { display: none; }` but bootstrap.min.css set `[hidden] { display: none !important; }` so we also need the `!important` here to be able to override the default hidden behavior on the sphinx rendered scikit-learn.org. See: https://github.com/scikit-learn/scikit-learn/issues/21755 */display: inline-block !important;position: relative;}#sk-container-id-62 div.sk-text-repr-fallback {display: none;}</style><div id=\"sk-container-id-62\" class=\"sk-top-container\"><div class=\"sk-text-repr-fallback\"><pre>RandomForestRegressor()</pre><b>In a Jupyter environment, please rerun this cell to show the HTML representation or trust the notebook. <br />On GitHub, the HTML representation is unable to render, please try loading this page with nbviewer.org.</b></div><div class=\"sk-container\" hidden><div class=\"sk-item\"><div class=\"sk-estimator sk-toggleable\"><input class=\"sk-toggleable__control sk-hidden--visually\" id=\"sk-estimator-id-62\" type=\"checkbox\" checked><label for=\"sk-estimator-id-62\" class=\"sk-toggleable__label sk-toggleable__label-arrow\">RandomForestRegressor</label><div class=\"sk-toggleable__content\"><pre>RandomForestRegressor()</pre></div></div></div></div></div>"
      ],
      "text/plain": [
       "RandomForestRegressor()"
      ]
     },
     "execution_count": 780,
     "metadata": {},
     "output_type": "execute_result"
    }
   ],
   "source": [
    "# Erstellen und Trainieren des random forest models\n",
    "rf = RandomForestRegressor()\n",
    "\n",
    "rf.fit(features_train, labels_train.ravel())"
   ]
  },
  {
   "cell_type": "code",
   "execution_count": 781,
   "id": "71ee1960",
   "metadata": {},
   "outputs": [],
   "source": [
    "# Vorhersage der Gewichte für die Testdaten\n",
    "rf_pred = rf.predict(features_test)\n"
   ]
  },
  {
   "cell_type": "code",
   "execution_count": 782,
   "id": "e0585b56",
   "metadata": {},
   "outputs": [
    {
     "data": {
      "text/plain": [
       "0.9707175584760963"
      ]
     },
     "execution_count": 782,
     "metadata": {},
     "output_type": "execute_result"
    }
   ],
   "source": [
    "# berecnen des R2Squared\n",
    "rf_score= rf.score(features_test,labels_test)\n",
    "rf_score"
   ]
  },
  {
   "cell_type": "code",
   "execution_count": 783,
   "id": "25b75a07",
   "metadata": {},
   "outputs": [
    {
     "name": "stdout",
     "output_type": "stream",
     "text": [
      "Random Forest Mean Squared Error: 3201.8304748124997\n"
     ]
    }
   ],
   "source": [
    "# Berechnen Random Forest Mean Squared Error\n",
    "rf_mse = mean_squared_error(labels_test, rf_pred)\n",
    "print(\"Random Forest Mean Squared Error:\", rf_mse)"
   ]
  },
  {
   "cell_type": "code",
   "execution_count": 784,
   "id": "5cc48b31",
   "metadata": {},
   "outputs": [
    {
     "data": {
      "text/plain": [
       "56.58471944626481"
      ]
     },
     "execution_count": 784,
     "metadata": {},
     "output_type": "execute_result"
    }
   ],
   "source": [
    "rf_mse = np.sqrt(rf_mse)\n",
    "rf_mse"
   ]
  },
  {
   "cell_type": "markdown",
   "id": "85f0071e",
   "metadata": {},
   "source": [
    "Der Random Forest-Algorithmus hat einen Mean Squared Error (MSE) von 3525.89 und einen R2-Wert von 0.9735. Das bedeutet, dass die durchschnittliche quadratische Abweichung der Vorhersagen des Random Forest-Modells von den tatsächlichen Werten bei etwa 3525.89 bzw. 56 g liegt. Ein hoher R2-Wert von 0.9707 deutet darauf hin, dass der Random Forest-Algorithmus etwa 97% der Varianz in den abhängigen Variablen erklären kann."
   ]
  },
  {
   "cell_type": "markdown",
   "id": "4f78b0f2",
   "metadata": {},
   "source": [
    "# Visualized the predictions and compare the method"
   ]
  },
  {
   "cell_type": "code",
   "execution_count": 785,
   "id": "60f7678c",
   "metadata": {},
   "outputs": [],
   "source": [
    "import matplotlib.pyplot as plt"
   ]
  },
  {
   "cell_type": "code",
   "execution_count": 786,
   "id": "2da68d66",
   "metadata": {},
   "outputs": [
    {
     "data": {
      "image/png": "[encoded data removed]",
      "text/plain": [
       "<Figure size 432x288 with 1 Axes>"
      ]
     },
     "metadata": {
      "needs_background": "light"
     },
     "output_type": "display_data"
    }
   ],
   "source": [
    "plt.scatter(labels_test, linear_pred, label=\"Linear Regression Vorhergesage\")\n",
    "plt.scatter(labels_test, rf_pred, label=\"Random Forest Vorhergesage\")\n",
    "plt.plot(labels_test,labels_test, color='red', label=\"Tatsächliche Werte\")\n",
    "plt.xlabel(\"Tatsächliche Werte\")\n",
    "plt.ylabel(\"Vorhergesagtes Gewicht\")\n",
    "plt.title(\"Vergleich der prognostizierten Werte\")\n",
    "plt.legend()\n",
    "plt.show()"
   ]
  },
  {
   "cell_type": "markdown",
   "id": "dbca0bb2",
   "metadata": {},
   "source": [
    "Das Random forest Regression Modell zeigt \"bessere\" Ergebnisse als Linear regression Modell. In Bezug auf die Leistung der beiden Modelle zeigt der Random Forest-Algorithmus eine geringere durchschnittliche Abweichung (geringerer MSE) und eine höhere Trefferquote (höherer R2-Wert) im Vergleich zur linearen Regression. Aus der Grafik ist ebenfalls ersichtlich , dass die durch Vorhergesagte Wertze Random forest Regression näher an den tatsächlichen Werten liegen."
   ]
  },
  {
   "cell_type": "markdown",
   "id": "687a1046",
   "metadata": {},
   "source": [
    "# Task2:"
   ]
  },
  {
   "cell_type": "markdown",
   "id": "7c39e5df",
   "metadata": {},
   "source": [
    "\n",
    "5. Change the training-test split setting, with the 70/30 principle for each species. That means, in any of the species, there needs to be 70% of the sample in the training set, and 30% of the sample in the test set."
   ]
  },
  {
   "cell_type": "code",
   "execution_count": 787,
   "id": "e4fbd014",
   "metadata": {},
   "outputs": [],
   "source": [
    "import pandas as pd\n",
    "import matplotlib.pyplot as plt\n",
    "from sklearn.model_selection import train_test_split\n",
    "from sklearn.linear_model import LinearRegression\n",
    "from sklearn.ensemble import RandomForestRegressor\n",
    "from sklearn.metrics import mean_squared_error, r2_score"
   ]
  },
  {
   "cell_type": "code",
   "execution_count": 788,
   "id": "11a30e09",
   "metadata": {},
   "outputs": [
    {
     "name": "stdout",
     "output_type": "stream",
     "text": [
      "Perch        56\n",
      "Bream        35\n",
      "Roach        19\n",
      "Pike         17\n",
      "Smelt        14\n",
      "Parkki       11\n",
      "Whitefish     6\n",
      "Name: Species, dtype: int64\n"
     ]
    }
   ],
   "source": [
    "data_counts = fish_df['Species'].value_counts()\n",
    "\n",
    "print(data_counts)"
   ]
  },
  {
   "cell_type": "code",
   "execution_count": 789,
   "id": "8ff0a852",
   "metadata": {},
   "outputs": [],
   "source": [
    "# Eindeutige Arten im Datensatz ermitteln\n",
    "species = fish_df['Species'].unique()\n",
    "\n",
    "# Für jede Art die Daten aufteilen und dem entsprechenden Trainings- oder Testdatensatz hinzufügen\n",
    "for specie in species:\n",
    "    # Daten für die aktuelle Art auswählen\n",
    "    specie_data = fish_df[fish_df['Species'] == specie]\n",
    "    \n",
    "    # Aufteilen der Daten in Trainings- und Testdaten nach dem 70/30-Prinzip\n",
    "    train_specie, test_specie = train_test_split(specie_data, test_size=0.3, random_state=42)\n",
    "    \n",
    "    # Hinzufügen der aufgeteilten Daten zur Gesamtmenge von Trainings- und Testdaten\n",
    "    train_data = pd.concat([train_data, train_specie])\n",
    "    test_data = pd.concat([test_data, test_specie])\n",
    "\n",
    "#Auswählen der Merkmale und der Zielvariable\n",
    "x = ['Length1', 'Length2', 'Length3', 'Height', 'Width']\n",
    "y = 'Weight'\n",
    "\n",
    "X_train = train_data[x]\n",
    "y_train = train_data[y]\n",
    "X_test = test_data[x]\n",
    "y_test = test_data[y]"
   ]
  },
  {
   "cell_type": "markdown",
   "id": "d435fffe",
   "metadata": {},
   "source": [
    "# Lineare Regression"
   ]
  },
  {
   "cell_type": "code",
   "execution_count": 795,
   "id": "3ed7333f",
   "metadata": {},
   "outputs": [
    {
     "data": {
      "text/html": [
       "<style>#sk-container-id-64 {color: black;background-color: white;}#sk-container-id-64 pre{padding: 0;}#sk-container-id-64 div.sk-toggleable {background-color: white;}#sk-container-id-64 label.sk-toggleable__label {cursor: pointer;display: block;width: 100%;margin-bottom: 0;padding: 0.3em;box-sizing: border-box;text-align: center;}#sk-container-id-64 label.sk-toggleable__label-arrow:before {content: \"▸\";float: left;margin-right: 0.25em;color: #696969;}#sk-container-id-64 label.sk-toggleable__label-arrow:hover:before {color: black;}#sk-container-id-64 div.sk-estimator:hover label.sk-toggleable__label-arrow:before {color: black;}#sk-container-id-64 div.sk-toggleable__content {max-height: 0;max-width: 0;overflow: hidden;text-align: left;background-color: #f0f8ff;}#sk-container-id-64 div.sk-toggleable__content pre {margin: 0.2em;color: black;border-radius: 0.25em;background-color: #f0f8ff;}#sk-container-id-64 input.sk-toggleable__control:checked~div.sk-toggleable__content {max-height: 200px;max-width: 100%;overflow: auto;}#sk-container-id-64 input.sk-toggleable__control:checked~label.sk-toggleable__label-arrow:before {content: \"▾\";}#sk-container-id-64 div.sk-estimator input.sk-toggleable__control:checked~label.sk-toggleable__label {background-color: #d4ebff;}#sk-container-id-64 div.sk-label input.sk-toggleable__control:checked~label.sk-toggleable__label {background-color: #d4ebff;}#sk-container-id-64 input.sk-hidden--visually {border: 0;clip: rect(1px 1px 1px 1px);clip: rect(1px, 1px, 1px, 1px);height: 1px;margin: -1px;overflow: hidden;padding: 0;position: absolute;width: 1px;}#sk-container-id-64 div.sk-estimator {font-family: monospace;background-color: #f0f8ff;border: 1px dotted black;border-radius: 0.25em;box-sizing: border-box;margin-bottom: 0.5em;}#sk-container-id-64 div.sk-estimator:hover {background-color: #d4ebff;}#sk-container-id-64 div.sk-parallel-item::after {content: \"\";width: 100%;border-bottom: 1px solid gray;flex-grow: 1;}#sk-container-id-64 div.sk-label:hover label.sk-toggleable__label {background-color: #d4ebff;}#sk-container-id-64 div.sk-serial::before {content: \"\";position: absolute;border-left: 1px solid gray;box-sizing: border-box;top: 0;bottom: 0;left: 50%;z-index: 0;}#sk-container-id-64 div.sk-serial {display: flex;flex-direction: column;align-items: center;background-color: white;padding-right: 0.2em;padding-left: 0.2em;position: relative;}#sk-container-id-64 div.sk-item {position: relative;z-index: 1;}#sk-container-id-64 div.sk-parallel {display: flex;align-items: stretch;justify-content: center;background-color: white;position: relative;}#sk-container-id-64 div.sk-item::before, #sk-container-id-64 div.sk-parallel-item::before {content: \"\";position: absolute;border-left: 1px solid gray;box-sizing: border-box;top: 0;bottom: 0;left: 50%;z-index: -1;}#sk-container-id-64 div.sk-parallel-item {display: flex;flex-direction: column;z-index: 1;position: relative;background-color: white;}#sk-container-id-64 div.sk-parallel-item:first-child::after {align-self: flex-end;width: 50%;}#sk-container-id-64 div.sk-parallel-item:last-child::after {align-self: flex-start;width: 50%;}#sk-container-id-64 div.sk-parallel-item:only-child::after {width: 0;}#sk-container-id-64 div.sk-dashed-wrapped {border: 1px dashed gray;margin: 0 0.4em 0.5em 0.4em;box-sizing: border-box;padding-bottom: 0.4em;background-color: white;}#sk-container-id-64 div.sk-label label {font-family: monospace;font-weight: bold;display: inline-block;line-height: 1.2em;}#sk-container-id-64 div.sk-label-container {text-align: center;}#sk-container-id-64 div.sk-container {/* jupyter's `normalize.less` sets `[hidden] { display: none; }` but bootstrap.min.css set `[hidden] { display: none !important; }` so we also need the `!important` here to be able to override the default hidden behavior on the sphinx rendered scikit-learn.org. See: https://github.com/scikit-learn/scikit-learn/issues/21755 */display: inline-block !important;position: relative;}#sk-container-id-64 div.sk-text-repr-fallback {display: none;}</style><div id=\"sk-container-id-64\" class=\"sk-top-container\"><div class=\"sk-text-repr-fallback\"><pre>LinearRegression()</pre><b>In a Jupyter environment, please rerun this cell to show the HTML representation or trust the notebook. <br />On GitHub, the HTML representation is unable to render, please try loading this page with nbviewer.org.</b></div><div class=\"sk-container\" hidden><div class=\"sk-item\"><div class=\"sk-estimator sk-toggleable\"><input class=\"sk-toggleable__control sk-hidden--visually\" id=\"sk-estimator-id-64\" type=\"checkbox\" checked><label for=\"sk-estimator-id-64\" class=\"sk-toggleable__label sk-toggleable__label-arrow\">LinearRegression</label><div class=\"sk-toggleable__content\"><pre>LinearRegression()</pre></div></div></div></div></div>"
      ],
      "text/plain": [
       "LinearRegression()"
      ]
     },
     "execution_count": 795,
     "metadata": {},
     "output_type": "execute_result"
    }
   ],
   "source": [
    "#Trainieren der linearen Regression\n",
    "linear_model = LinearRegression()\n",
    "linear_model.fit(X_train, y_train)"
   ]
  },
  {
   "cell_type": "code",
   "execution_count": 796,
   "id": "89495403",
   "metadata": {},
   "outputs": [],
   "source": [
    "#Vorhersagen auf dem Testdatensatz machen\n",
    "linear_predictions = linear_model.predict(X_test)"
   ]
  },
  {
   "cell_type": "code",
   "execution_count": 797,
   "id": "901d4701",
   "metadata": {},
   "outputs": [
    {
     "name": "stdout",
     "output_type": "stream",
     "text": [
      "Lineare Regression - RMSE: 143.17882173523202\n",
      "Lineare Regression - R-squared: 0.8489865552170937\n"
     ]
    }
   ],
   "source": [
    "linear_rmse = mean_squared_error(y_test, linear_predictions, squared=False)\n",
    "linear_r2 = r2_score(y_test, linear_predictions)\n",
    "\n",
    "print(\"Lineare Regression - RMSE:\", linear_rmse)\n",
    "print(\"Lineare Regression - R-squared:\", linear_r2)"
   ]
  },
  {
   "cell_type": "code",
   "execution_count": 798,
   "id": "e1774bb3",
   "metadata": {},
   "outputs": [
    {
     "data": {
      "text/plain": [
       "11.96573531945413"
      ]
     },
     "execution_count": 798,
     "metadata": {},
     "output_type": "execute_result"
    }
   ],
   "source": [
    "rmse = np.sqrt(linear_rmse)\n",
    "rmse"
   ]
  },
  {
   "cell_type": "code",
   "execution_count": 793,
   "id": "2924e4d1",
   "metadata": {},
   "outputs": [
    {
     "data": {
      "text/plain": [
       "<matplotlib.collections.PathCollection at 0x209f34baee0>"
      ]
     },
     "execution_count": 793,
     "metadata": {},
     "output_type": "execute_result"
    },
    {
     "data": {
      "image/png": "[encoded data removed]",
      "text/plain": [
       "<Figure size 432x288 with 1 Axes>"
      ]
     },
     "metadata": {
      "needs_background": "light"
     },
     "output_type": "display_data"
    }
   ],
   "source": [
    "plt.scatter(y_test, linear_predictions, label=\"Lineare Regression Predictions\")"
   ]
  },
  {
   "cell_type": "markdown",
   "id": "60b50660",
   "metadata": {},
   "source": [
    "Das R-Quadrat unseres linearen Modells nach dem Aufarbeitung der Daten beträgt 0.8489865552170937, was bedeutet, dass der Prozentsatz der erklärten Varianz etwa 85 % beträgt. Der RMSEWert beträgt 143.17882173523202( bzw. 11.9657g).  Insgesamt hat sich die Leistungsfähigkeit hat sich im Vergleich zum Task1 deutlich verbessert."
   ]
  },
  {
   "cell_type": "markdown",
   "id": "f8b43018",
   "metadata": {},
   "source": [
    "# Random forest Regression"
   ]
  },
  {
   "cell_type": "code",
   "execution_count": 799,
   "id": "1c930558",
   "metadata": {},
   "outputs": [
    {
     "data": {
      "text/html": [
       "<style>#sk-container-id-65 {color: black;background-color: white;}#sk-container-id-65 pre{padding: 0;}#sk-container-id-65 div.sk-toggleable {background-color: white;}#sk-container-id-65 label.sk-toggleable__label {cursor: pointer;display: block;width: 100%;margin-bottom: 0;padding: 0.3em;box-sizing: border-box;text-align: center;}#sk-container-id-65 label.sk-toggleable__label-arrow:before {content: \"▸\";float: left;margin-right: 0.25em;color: #696969;}#sk-container-id-65 label.sk-toggleable__label-arrow:hover:before {color: black;}#sk-container-id-65 div.sk-estimator:hover label.sk-toggleable__label-arrow:before {color: black;}#sk-container-id-65 div.sk-toggleable__content {max-height: 0;max-width: 0;overflow: hidden;text-align: left;background-color: #f0f8ff;}#sk-container-id-65 div.sk-toggleable__content pre {margin: 0.2em;color: black;border-radius: 0.25em;background-color: #f0f8ff;}#sk-container-id-65 input.sk-toggleable__control:checked~div.sk-toggleable__content {max-height: 200px;max-width: 100%;overflow: auto;}#sk-container-id-65 input.sk-toggleable__control:checked~label.sk-toggleable__label-arrow:before {content: \"▾\";}#sk-container-id-65 div.sk-estimator input.sk-toggleable__control:checked~label.sk-toggleable__label {background-color: #d4ebff;}#sk-container-id-65 div.sk-label input.sk-toggleable__control:checked~label.sk-toggleable__label {background-color: #d4ebff;}#sk-container-id-65 input.sk-hidden--visually {border: 0;clip: rect(1px 1px 1px 1px);clip: rect(1px, 1px, 1px, 1px);height: 1px;margin: -1px;overflow: hidden;padding: 0;position: absolute;width: 1px;}#sk-container-id-65 div.sk-estimator {font-family: monospace;background-color: #f0f8ff;border: 1px dotted black;border-radius: 0.25em;box-sizing: border-box;margin-bottom: 0.5em;}#sk-container-id-65 div.sk-estimator:hover {background-color: #d4ebff;}#sk-container-id-65 div.sk-parallel-item::after {content: \"\";width: 100%;border-bottom: 1px solid gray;flex-grow: 1;}#sk-container-id-65 div.sk-label:hover label.sk-toggleable__label {background-color: #d4ebff;}#sk-container-id-65 div.sk-serial::before {content: \"\";position: absolute;border-left: 1px solid gray;box-sizing: border-box;top: 0;bottom: 0;left: 50%;z-index: 0;}#sk-container-id-65 div.sk-serial {display: flex;flex-direction: column;align-items: center;background-color: white;padding-right: 0.2em;padding-left: 0.2em;position: relative;}#sk-container-id-65 div.sk-item {position: relative;z-index: 1;}#sk-container-id-65 div.sk-parallel {display: flex;align-items: stretch;justify-content: center;background-color: white;position: relative;}#sk-container-id-65 div.sk-item::before, #sk-container-id-65 div.sk-parallel-item::before {content: \"\";position: absolute;border-left: 1px solid gray;box-sizing: border-box;top: 0;bottom: 0;left: 50%;z-index: -1;}#sk-container-id-65 div.sk-parallel-item {display: flex;flex-direction: column;z-index: 1;position: relative;background-color: white;}#sk-container-id-65 div.sk-parallel-item:first-child::after {align-self: flex-end;width: 50%;}#sk-container-id-65 div.sk-parallel-item:last-child::after {align-self: flex-start;width: 50%;}#sk-container-id-65 div.sk-parallel-item:only-child::after {width: 0;}#sk-container-id-65 div.sk-dashed-wrapped {border: 1px dashed gray;margin: 0 0.4em 0.5em 0.4em;box-sizing: border-box;padding-bottom: 0.4em;background-color: white;}#sk-container-id-65 div.sk-label label {font-family: monospace;font-weight: bold;display: inline-block;line-height: 1.2em;}#sk-container-id-65 div.sk-label-container {text-align: center;}#sk-container-id-65 div.sk-container {/* jupyter's `normalize.less` sets `[hidden] { display: none; }` but bootstrap.min.css set `[hidden] { display: none !important; }` so we also need the `!important` here to be able to override the default hidden behavior on the sphinx rendered scikit-learn.org. See: https://github.com/scikit-learn/scikit-learn/issues/21755 */display: inline-block !important;position: relative;}#sk-container-id-65 div.sk-text-repr-fallback {display: none;}</style><div id=\"sk-container-id-65\" class=\"sk-top-container\"><div class=\"sk-text-repr-fallback\"><pre>RandomForestRegressor()</pre><b>In a Jupyter environment, please rerun this cell to show the HTML representation or trust the notebook. <br />On GitHub, the HTML representation is unable to render, please try loading this page with nbviewer.org.</b></div><div class=\"sk-container\" hidden><div class=\"sk-item\"><div class=\"sk-estimator sk-toggleable\"><input class=\"sk-toggleable__control sk-hidden--visually\" id=\"sk-estimator-id-65\" type=\"checkbox\" checked><label for=\"sk-estimator-id-65\" class=\"sk-toggleable__label sk-toggleable__label-arrow\">RandomForestRegressor</label><div class=\"sk-toggleable__content\"><pre>RandomForestRegressor()</pre></div></div></div></div></div>"
      ],
      "text/plain": [
       "RandomForestRegressor()"
      ]
     },
     "execution_count": 799,
     "metadata": {},
     "output_type": "execute_result"
    }
   ],
   "source": [
    "#Trainieren des Random Forest\n",
    "rf_model = RandomForestRegressor()\n",
    "rf_model.fit(X_train, y_train)"
   ]
  },
  {
   "cell_type": "code",
   "execution_count": 800,
   "id": "cb1c1ea1",
   "metadata": {},
   "outputs": [],
   "source": [
    "##Vorhersagen auf dem Testdatensatz machen\n",
    "rf_predictions = rf_model.predict(X_test)"
   ]
  },
  {
   "cell_type": "code",
   "execution_count": 801,
   "id": "b461db3f",
   "metadata": {},
   "outputs": [
    {
     "name": "stdout",
     "output_type": "stream",
     "text": [
      "Random Forest - RMSE: 72.1144409741062\n",
      "Random Forest - R-squared: 0.9616908488882864\n"
     ]
    }
   ],
   "source": [
    "#Berechnen RMSE und R-squared\n",
    "rf_rmse = mean_squared_error(y_test, rf_predictions, squared=False)\n",
    "rf_r2 = r2_score(y_test, rf_predictions)\n",
    "\n",
    "print(\"Random Forest - RMSE:\", rf_rmse)\n",
    "print(\"Random Forest - R-squared:\", rf_r2)"
   ]
  },
  {
   "cell_type": "code",
   "execution_count": 803,
   "id": "2a912047",
   "metadata": {},
   "outputs": [
    {
     "data": {
      "text/plain": [
       "8.492022195808616"
      ]
     },
     "execution_count": 803,
     "metadata": {},
     "output_type": "execute_result"
    }
   ],
   "source": [
    "rf_rmse = np.sqrt(rf_rmse)\n",
    "rf_rmse"
   ]
  },
  {
   "cell_type": "code",
   "execution_count": 804,
   "id": "2a6e6ca4",
   "metadata": {},
   "outputs": [
    {
     "data": {
      "text/plain": [
       "<matplotlib.collections.PathCollection at 0x209f73b9550>"
      ]
     },
     "execution_count": 804,
     "metadata": {},
     "output_type": "execute_result"
    },
    {
     "data": {
      "image/png": "[encoded data removed]",
      "text/plain": [
       "<Figure size 432x288 with 1 Axes>"
      ]
     },
     "metadata": {
      "needs_background": "light"
     },
     "output_type": "display_data"
    }
   ],
   "source": [
    "plt.scatter(y_test, rf_predictions, label=\"Random Forest Predictions\")"
   ]
  },
  {
   "cell_type": "markdown",
   "id": "57233809",
   "metadata": {},
   "source": [
    "Der R-squared-Wert des Random forest Models nach dem Aufarbeitung der Daten beträgt 0.9616908488882864, was bedeutet, dass der Prozentsatz der erklärten Varianz etwa 96 % beträgt. Der RMSEWert beträgt 0.9616908488882864( bzw. 8.49g).  Insgesamt hat sich die Leistungsfähigkeit hat sich im Vergleich zum Task1 etwas verbessert. Allerdings kann der zu hohe R-squared-Wert und sehr niedriger RMSE auf die Überanpassung hindeuten."
   ]
  },
  {
   "cell_type": "markdown",
   "id": "afd89fed",
   "metadata": {},
   "source": [
    "# Visualized the predictions and compare the method\n"
   ]
  },
  {
   "cell_type": "code",
   "execution_count": 805,
   "id": "08d11f42",
   "metadata": {},
   "outputs": [
    {
     "data": {
      "image/png": "[encoded data removed]",
      "text/plain": [
       "<Figure size 432x288 with 1 Axes>"
      ]
     },
     "metadata": {
      "needs_background": "light"
     },
     "output_type": "display_data"
    }
   ],
   "source": [
    "plt.scatter(y_test, linear_predictions, label=\"Linear Regression Predictions\")\n",
    "plt.scatter(y_test, rf_predictions, label=\"Random Forest Predictions\")\n",
    "plt.plot(labels_test,labels_test, color='red', label=\"Tatsächliche Werte\")\n",
    "plt.xlabel(\"Tatsächliche Werte\")\n",
    "plt.ylabel(\"Vorhergesagtes Gewicht\")\n",
    "plt.title(\"Vergleich der prognostizierten Werte\")\n",
    "plt.legend()\n",
    "plt.show()"
   ]
  },
  {
   "cell_type": "markdown",
   "id": "ad91a200",
   "metadata": {},
   "source": [
    "Der Random Forest hat einen niedrigeren RMSE (Root Mean Squared Error) von 73.04 im Vergleich zum RMSE der linearen Regression von 142.91. Ein niedrigerer RMSE deutet darauf hin, dass die Vorhersagen des Modells näher an den tatsächlichen Werten liegen.\n",
    "\n",
    "Der R-squared-Wert, der das Bestimmtheitsmaß des Modells darstellt, ist ebenfalls höher für den Random Forest (0.961) im Vergleich zur linearen Regression (0.849). Ein höherer R-squared-Wert bedeutet, dass das Modell eine bessere Anpassung an die Daten hat und mehr Variation in den abhängigen Variablen erklären kann.\n",
    "\n",
    "Insgesamt liefert der Random Forest-Algorithmus genauere Vorhersagen und eine bessere Anpassung an die Daten als die lineare Regression in diesem Szenario."
   ]
  },
  {
   "cell_type": "markdown",
   "id": "7295befd",
   "metadata": {},
   "source": [
    "# Compare the results in task1 and task2 "
   ]
  },
  {
   "cell_type": "markdown",
   "id": "10c9643d",
   "metadata": {},
   "source": [
    "Task 1:\n",
    "\n",
    "Lineare Regression - Mean Squared Error: 19135.71, R-squared: 0.8249\n",
    "Random Forest - Mean Squared Error: 3201.83, R-squared: 0.9707\n",
    "\n",
    "\n",
    "Task 2:\n",
    "\n",
    "Lineare Regression - RMSE: 142.91, R-squared: 0.849\n",
    "Random Forest - RMSE: 73.04, R-squared: 0.961\n",
    "\n",
    "Die Ergebnisse zeigen, dass durch die Anpassung der Training-Test-Aufteilung nach dem 70/30-Prinzip für jede Art im Task 2 eine deutliche Verbesserung der Vorhersagegenauigkeit erreicht wurde."
   ]
  },
  {
   "cell_type": "code",
   "execution_count": null,
   "id": "bb383276",
   "metadata": {},
   "outputs": [],
   "source": []
  }
 ],
 "metadata": {
  "kernelspec": {
   "display_name": "Python 3",
   "language": "python",
   "name": "python3"
  },
  "language_info": {
   "codemirror_mode": {
    "name": "ipython",
    "version": 3
   },
   "file_extension": ".py",
   "mimetype": "text/x-python",
   "name": "python",
   "nbconvert_exporter": "python",
   "pygments_lexer": "ipython3",
   "version": "3.8.8"
  }
 },
 "nbformat": 4,
 "nbformat_minor": 5
}
