{
 "cells": [
  {
   "cell_type": "code",
   "execution_count": 1,
   "id": "a727d5ff",
   "metadata": {},
   "outputs": [],
   "source": [
    "import pandas as pd\n",
    "import numpy as np"
   ]
  },
  {
   "cell_type": "code",
   "execution_count": 2,
   "id": "c997190a",
   "metadata": {},
   "outputs": [
    {
     "data": {
      "text/html": [
       "<div>\n",
       "<style scoped>\n",
       "    .dataframe tbody tr th:only-of-type {\n",
       "        vertical-align: middle;\n",
       "    }\n",
       "\n",
       "    .dataframe tbody tr th {\n",
       "        vertical-align: top;\n",
       "    }\n",
       "\n",
       "    .dataframe thead th {\n",
       "        text-align: right;\n",
       "    }\n",
       "</style>\n",
       "<table border=\"1\" class=\"dataframe\">\n",
       "  <thead>\n",
       "    <tr style=\"text-align: right;\">\n",
       "      <th></th>\n",
       "      <th>city_development_index</th>\n",
       "      <th>gender</th>\n",
       "      <th>relevent_experience</th>\n",
       "      <th>enrolled_university</th>\n",
       "      <th>education_level</th>\n",
       "      <th>major_discipline</th>\n",
       "      <th>experience</th>\n",
       "      <th>company_type</th>\n",
       "      <th>last_new_job</th>\n",
       "      <th>training_hours</th>\n",
       "      <th>target</th>\n",
       "    </tr>\n",
       "  </thead>\n",
       "  <tbody>\n",
       "    <tr>\n",
       "      <th>0</th>\n",
       "      <td>0.624</td>\n",
       "      <td>NaN</td>\n",
       "      <td>Has relevent experience</td>\n",
       "      <td>Full time course</td>\n",
       "      <td>Graduate</td>\n",
       "      <td>Other</td>\n",
       "      <td>3</td>\n",
       "      <td>Pvt Ltd</td>\n",
       "      <td>1</td>\n",
       "      <td>134</td>\n",
       "      <td>0</td>\n",
       "    </tr>\n",
       "    <tr>\n",
       "      <th>1</th>\n",
       "      <td>0.920</td>\n",
       "      <td>Female</td>\n",
       "      <td>No relevent experience</td>\n",
       "      <td>no_enrollment</td>\n",
       "      <td>Graduate</td>\n",
       "      <td>STEM</td>\n",
       "      <td>5</td>\n",
       "      <td>Early Stage Startup</td>\n",
       "      <td>1</td>\n",
       "      <td>34</td>\n",
       "      <td>1</td>\n",
       "    </tr>\n",
       "    <tr>\n",
       "      <th>2</th>\n",
       "      <td>0.767</td>\n",
       "      <td>NaN</td>\n",
       "      <td>Has relevent experience</td>\n",
       "      <td>Full time course</td>\n",
       "      <td>Graduate</td>\n",
       "      <td>STEM</td>\n",
       "      <td>10</td>\n",
       "      <td>Pvt Ltd</td>\n",
       "      <td>2</td>\n",
       "      <td>90</td>\n",
       "      <td>0</td>\n",
       "    </tr>\n",
       "    <tr>\n",
       "      <th>3</th>\n",
       "      <td>0.910</td>\n",
       "      <td>Male</td>\n",
       "      <td>No relevent experience</td>\n",
       "      <td>NaN</td>\n",
       "      <td>High School</td>\n",
       "      <td>NaN</td>\n",
       "      <td>10</td>\n",
       "      <td>NaN</td>\n",
       "      <td>never</td>\n",
       "      <td>42</td>\n",
       "      <td>0</td>\n",
       "    </tr>\n",
       "    <tr>\n",
       "      <th>4</th>\n",
       "      <td>0.624</td>\n",
       "      <td>Male</td>\n",
       "      <td>Has relevent experience</td>\n",
       "      <td>Part time course</td>\n",
       "      <td>Graduate</td>\n",
       "      <td>STEM</td>\n",
       "      <td>3</td>\n",
       "      <td>Pvt Ltd</td>\n",
       "      <td>1</td>\n",
       "      <td>198</td>\n",
       "      <td>0</td>\n",
       "    </tr>\n",
       "  </tbody>\n",
       "</table>\n",
       "</div>"
      ],
      "text/plain": [
       "   city_development_index  gender      relevent_experience  \\\n",
       "0                   0.624     NaN  Has relevent experience   \n",
       "1                   0.920  Female   No relevent experience   \n",
       "2                   0.767     NaN  Has relevent experience   \n",
       "3                   0.910    Male   No relevent experience   \n",
       "4                   0.624    Male  Has relevent experience   \n",
       "\n",
       "  enrolled_university education_level major_discipline experience  \\\n",
       "0    Full time course        Graduate            Other          3   \n",
       "1       no_enrollment        Graduate             STEM          5   \n",
       "2    Full time course        Graduate             STEM         10   \n",
       "3                 NaN     High School              NaN         10   \n",
       "4    Part time course        Graduate             STEM          3   \n",
       "\n",
       "          company_type last_new_job  training_hours  target  \n",
       "0              Pvt Ltd            1             134       0  \n",
       "1  Early Stage Startup            1              34       1  \n",
       "2              Pvt Ltd            2              90       0  \n",
       "3                  NaN        never              42       0  \n",
       "4              Pvt Ltd            1             198       0  "
      ]
     },
     "execution_count": 2,
     "metadata": {},
     "output_type": "execute_result"
    }
   ],
   "source": [
    "test_df = pd.read_csv(\"https://raw.githubusercontent.com/WHPAN0108/BHT-DataScience-S23/main/classification/data/Assigment/aug_test.csv\")\n",
    "test_df.head()"
   ]
  },
  {
   "cell_type": "code",
   "execution_count": 3,
   "id": "4a5861e4",
   "metadata": {},
   "outputs": [
    {
     "name": "stdout",
     "output_type": "stream",
     "text": [
      "<class 'pandas.core.frame.DataFrame'>\n",
      "RangeIndex: 100 entries, 0 to 99\n",
      "Data columns (total 11 columns):\n",
      " #   Column                  Non-Null Count  Dtype  \n",
      "---  ------                  --------------  -----  \n",
      " 0   city_development_index  100 non-null    float64\n",
      " 1   gender                  72 non-null     object \n",
      " 2   relevent_experience     100 non-null    object \n",
      " 3   enrolled_university     96 non-null     object \n",
      " 4   education_level         98 non-null     object \n",
      " 5   major_discipline        88 non-null     object \n",
      " 6   experience              100 non-null    object \n",
      " 7   company_type            64 non-null     object \n",
      " 8   last_new_job            100 non-null    object \n",
      " 9   training_hours          100 non-null    int64  \n",
      " 10  target                  100 non-null    int64  \n",
      "dtypes: float64(1), int64(2), object(8)\n",
      "memory usage: 8.7+ KB\n"
     ]
    }
   ],
   "source": [
    "test_df.info()"
   ]
  },
  {
   "cell_type": "code",
   "execution_count": 4,
   "id": "a962bf59",
   "metadata": {},
   "outputs": [],
   "source": [
    "#entfernen der fehlenden Werte aus den testdaten\n",
    "test_df = test_df.dropna()"
   ]
  },
  {
   "cell_type": "code",
   "execution_count": 5,
   "id": "41b591d9",
   "metadata": {},
   "outputs": [
    {
     "data": {
      "text/html": [
       "<div>\n",
       "<style scoped>\n",
       "    .dataframe tbody tr th:only-of-type {\n",
       "        vertical-align: middle;\n",
       "    }\n",
       "\n",
       "    .dataframe tbody tr th {\n",
       "        vertical-align: top;\n",
       "    }\n",
       "\n",
       "    .dataframe thead th {\n",
       "        text-align: right;\n",
       "    }\n",
       "</style>\n",
       "<table border=\"1\" class=\"dataframe\">\n",
       "  <thead>\n",
       "    <tr style=\"text-align: right;\">\n",
       "      <th></th>\n",
       "      <th>city_development_index</th>\n",
       "      <th>training_hours</th>\n",
       "      <th>target</th>\n",
       "    </tr>\n",
       "  </thead>\n",
       "  <tbody>\n",
       "    <tr>\n",
       "      <th>count</th>\n",
       "      <td>43.000000</td>\n",
       "      <td>43.000000</td>\n",
       "      <td>43.000000</td>\n",
       "    </tr>\n",
       "    <tr>\n",
       "      <th>mean</th>\n",
       "      <td>0.858093</td>\n",
       "      <td>69.930233</td>\n",
       "      <td>0.139535</td>\n",
       "    </tr>\n",
       "    <tr>\n",
       "      <th>std</th>\n",
       "      <td>0.105406</td>\n",
       "      <td>62.299735</td>\n",
       "      <td>0.350605</td>\n",
       "    </tr>\n",
       "    <tr>\n",
       "      <th>min</th>\n",
       "      <td>0.558000</td>\n",
       "      <td>4.000000</td>\n",
       "      <td>0.000000</td>\n",
       "    </tr>\n",
       "    <tr>\n",
       "      <th>25%</th>\n",
       "      <td>0.829500</td>\n",
       "      <td>22.500000</td>\n",
       "      <td>0.000000</td>\n",
       "    </tr>\n",
       "    <tr>\n",
       "      <th>50%</th>\n",
       "      <td>0.910000</td>\n",
       "      <td>50.000000</td>\n",
       "      <td>0.000000</td>\n",
       "    </tr>\n",
       "    <tr>\n",
       "      <th>75%</th>\n",
       "      <td>0.920000</td>\n",
       "      <td>98.500000</td>\n",
       "      <td>0.000000</td>\n",
       "    </tr>\n",
       "    <tr>\n",
       "      <th>max</th>\n",
       "      <td>0.939000</td>\n",
       "      <td>226.000000</td>\n",
       "      <td>1.000000</td>\n",
       "    </tr>\n",
       "  </tbody>\n",
       "</table>\n",
       "</div>"
      ],
      "text/plain": [
       "       city_development_index  training_hours     target\n",
       "count               43.000000       43.000000  43.000000\n",
       "mean                 0.858093       69.930233   0.139535\n",
       "std                  0.105406       62.299735   0.350605\n",
       "min                  0.558000        4.000000   0.000000\n",
       "25%                  0.829500       22.500000   0.000000\n",
       "50%                  0.910000       50.000000   0.000000\n",
       "75%                  0.920000       98.500000   0.000000\n",
       "max                  0.939000      226.000000   1.000000"
      ]
     },
     "execution_count": 5,
     "metadata": {},
     "output_type": "execute_result"
    }
   ],
   "source": [
    "test_df.describe()"
   ]
  },
  {
   "cell_type": "code",
   "execution_count": 6,
   "id": "5b539a09",
   "metadata": {},
   "outputs": [
    {
     "data": {
      "text/plain": [
       "(43, 11)"
      ]
     },
     "execution_count": 6,
     "metadata": {},
     "output_type": "execute_result"
    }
   ],
   "source": [
    "test_df.shape"
   ]
  },
  {
   "cell_type": "code",
   "execution_count": 7,
   "id": "6b1f4b2d",
   "metadata": {},
   "outputs": [
    {
     "data": {
      "text/html": [
       "<div>\n",
       "<style scoped>\n",
       "    .dataframe tbody tr th:only-of-type {\n",
       "        vertical-align: middle;\n",
       "    }\n",
       "\n",
       "    .dataframe tbody tr th {\n",
       "        vertical-align: top;\n",
       "    }\n",
       "\n",
       "    .dataframe thead th {\n",
       "        text-align: right;\n",
       "    }\n",
       "</style>\n",
       "<table border=\"1\" class=\"dataframe\">\n",
       "  <thead>\n",
       "    <tr style=\"text-align: right;\">\n",
       "      <th></th>\n",
       "      <th>city_development_index</th>\n",
       "      <th>gender</th>\n",
       "      <th>relevent_experience</th>\n",
       "      <th>enrolled_university</th>\n",
       "      <th>education_level</th>\n",
       "      <th>major_discipline</th>\n",
       "      <th>experience</th>\n",
       "      <th>company_type</th>\n",
       "      <th>last_new_job</th>\n",
       "      <th>training_hours</th>\n",
       "      <th>target</th>\n",
       "    </tr>\n",
       "  </thead>\n",
       "  <tbody>\n",
       "    <tr>\n",
       "      <th>0</th>\n",
       "      <td>0.624</td>\n",
       "      <td>Male</td>\n",
       "      <td>No relevent experience</td>\n",
       "      <td>no_enrollment</td>\n",
       "      <td>High School</td>\n",
       "      <td>NaN</td>\n",
       "      <td>5</td>\n",
       "      <td>NaN</td>\n",
       "      <td>never</td>\n",
       "      <td>21</td>\n",
       "      <td>0</td>\n",
       "    </tr>\n",
       "    <tr>\n",
       "      <th>1</th>\n",
       "      <td>0.926</td>\n",
       "      <td>Male</td>\n",
       "      <td>Has relevent experience</td>\n",
       "      <td>no_enrollment</td>\n",
       "      <td>Graduate</td>\n",
       "      <td>STEM</td>\n",
       "      <td>&gt;20</td>\n",
       "      <td>NaN</td>\n",
       "      <td>&gt;4</td>\n",
       "      <td>12</td>\n",
       "      <td>0</td>\n",
       "    </tr>\n",
       "    <tr>\n",
       "      <th>2</th>\n",
       "      <td>0.920</td>\n",
       "      <td>Male</td>\n",
       "      <td>Has relevent experience</td>\n",
       "      <td>no_enrollment</td>\n",
       "      <td>Graduate</td>\n",
       "      <td>STEM</td>\n",
       "      <td>&gt;20</td>\n",
       "      <td>Public Sector</td>\n",
       "      <td>&gt;4</td>\n",
       "      <td>26</td>\n",
       "      <td>0</td>\n",
       "    </tr>\n",
       "    <tr>\n",
       "      <th>3</th>\n",
       "      <td>0.624</td>\n",
       "      <td>Male</td>\n",
       "      <td>No relevent experience</td>\n",
       "      <td>Full time course</td>\n",
       "      <td>High School</td>\n",
       "      <td>NaN</td>\n",
       "      <td>1</td>\n",
       "      <td>NaN</td>\n",
       "      <td>never</td>\n",
       "      <td>30</td>\n",
       "      <td>1</td>\n",
       "    </tr>\n",
       "    <tr>\n",
       "      <th>4</th>\n",
       "      <td>0.920</td>\n",
       "      <td>Female</td>\n",
       "      <td>Has relevent experience</td>\n",
       "      <td>no_enrollment</td>\n",
       "      <td>Masters</td>\n",
       "      <td>STEM</td>\n",
       "      <td>&gt;20</td>\n",
       "      <td>NaN</td>\n",
       "      <td>&gt;4</td>\n",
       "      <td>46</td>\n",
       "      <td>0</td>\n",
       "    </tr>\n",
       "  </tbody>\n",
       "</table>\n",
       "</div>"
      ],
      "text/plain": [
       "   city_development_index  gender      relevent_experience  \\\n",
       "0                   0.624    Male   No relevent experience   \n",
       "1                   0.926    Male  Has relevent experience   \n",
       "2                   0.920    Male  Has relevent experience   \n",
       "3                   0.624    Male   No relevent experience   \n",
       "4                   0.920  Female  Has relevent experience   \n",
       "\n",
       "  enrolled_university education_level major_discipline experience  \\\n",
       "0       no_enrollment     High School              NaN          5   \n",
       "1       no_enrollment        Graduate             STEM        >20   \n",
       "2       no_enrollment        Graduate             STEM        >20   \n",
       "3    Full time course     High School              NaN          1   \n",
       "4       no_enrollment         Masters             STEM        >20   \n",
       "\n",
       "    company_type last_new_job  training_hours  target  \n",
       "0            NaN        never              21       0  \n",
       "1            NaN           >4              12       0  \n",
       "2  Public Sector           >4              26       0  \n",
       "3            NaN        never              30       1  \n",
       "4            NaN           >4              46       0  "
      ]
     },
     "execution_count": 7,
     "metadata": {},
     "output_type": "execute_result"
    }
   ],
   "source": [
    "train_df = pd.read_csv(\"https://raw.githubusercontent.com/WHPAN0108/BHT-DataScience-S23/main/classification/data/Assigment/aug_train.csv\")\n",
    "train_df.head()"
   ]
  },
  {
   "cell_type": "code",
   "execution_count": 8,
   "id": "4d51c51d",
   "metadata": {},
   "outputs": [
    {
     "name": "stdout",
     "output_type": "stream",
     "text": [
      "<class 'pandas.core.frame.DataFrame'>\n",
      "RangeIndex: 2100 entries, 0 to 2099\n",
      "Data columns (total 11 columns):\n",
      " #   Column                  Non-Null Count  Dtype  \n",
      "---  ------                  --------------  -----  \n",
      " 0   city_development_index  2100 non-null   float64\n",
      " 1   gender                  1585 non-null   object \n",
      " 2   relevent_experience     2100 non-null   object \n",
      " 3   enrolled_university     2051 non-null   object \n",
      " 4   education_level         2049 non-null   object \n",
      " 5   major_discipline        1768 non-null   object \n",
      " 6   experience              2090 non-null   object \n",
      " 7   company_type            1415 non-null   object \n",
      " 8   last_new_job            2048 non-null   object \n",
      " 9   training_hours          2100 non-null   int64  \n",
      " 10  target                  2100 non-null   int64  \n",
      "dtypes: float64(1), int64(2), object(8)\n",
      "memory usage: 180.6+ KB\n"
     ]
    }
   ],
   "source": [
    "train_df.info()"
   ]
  },
  {
   "cell_type": "code",
   "execution_count": 9,
   "id": "d6e3ba09",
   "metadata": {},
   "outputs": [],
   "source": [
    "##entfernen der fehlenden Werte aus den trainigsdaten\n",
    "train_df = train_df.dropna()"
   ]
  },
  {
   "cell_type": "code",
   "execution_count": 10,
   "id": "fa13f601",
   "metadata": {},
   "outputs": [
    {
     "data": {
      "text/html": [
       "<div>\n",
       "<style scoped>\n",
       "    .dataframe tbody tr th:only-of-type {\n",
       "        vertical-align: middle;\n",
       "    }\n",
       "\n",
       "    .dataframe tbody tr th {\n",
       "        vertical-align: top;\n",
       "    }\n",
       "\n",
       "    .dataframe thead th {\n",
       "        text-align: right;\n",
       "    }\n",
       "</style>\n",
       "<table border=\"1\" class=\"dataframe\">\n",
       "  <thead>\n",
       "    <tr style=\"text-align: right;\">\n",
       "      <th></th>\n",
       "      <th>city_development_index</th>\n",
       "      <th>training_hours</th>\n",
       "      <th>target</th>\n",
       "    </tr>\n",
       "  </thead>\n",
       "  <tbody>\n",
       "    <tr>\n",
       "      <th>count</th>\n",
       "      <td>981.000000</td>\n",
       "      <td>981.000000</td>\n",
       "      <td>981.000000</td>\n",
       "    </tr>\n",
       "    <tr>\n",
       "      <th>mean</th>\n",
       "      <td>0.847670</td>\n",
       "      <td>66.977574</td>\n",
       "      <td>0.172273</td>\n",
       "    </tr>\n",
       "    <tr>\n",
       "      <th>std</th>\n",
       "      <td>0.114722</td>\n",
       "      <td>58.955825</td>\n",
       "      <td>0.377810</td>\n",
       "    </tr>\n",
       "    <tr>\n",
       "      <th>min</th>\n",
       "      <td>0.493000</td>\n",
       "      <td>2.000000</td>\n",
       "      <td>0.000000</td>\n",
       "    </tr>\n",
       "    <tr>\n",
       "      <th>25%</th>\n",
       "      <td>0.802000</td>\n",
       "      <td>24.000000</td>\n",
       "      <td>0.000000</td>\n",
       "    </tr>\n",
       "    <tr>\n",
       "      <th>50%</th>\n",
       "      <td>0.910000</td>\n",
       "      <td>50.000000</td>\n",
       "      <td>0.000000</td>\n",
       "    </tr>\n",
       "    <tr>\n",
       "      <th>75%</th>\n",
       "      <td>0.920000</td>\n",
       "      <td>90.000000</td>\n",
       "      <td>0.000000</td>\n",
       "    </tr>\n",
       "    <tr>\n",
       "      <th>max</th>\n",
       "      <td>0.949000</td>\n",
       "      <td>336.000000</td>\n",
       "      <td>1.000000</td>\n",
       "    </tr>\n",
       "  </tbody>\n",
       "</table>\n",
       "</div>"
      ],
      "text/plain": [
       "       city_development_index  training_hours      target\n",
       "count              981.000000      981.000000  981.000000\n",
       "mean                 0.847670       66.977574    0.172273\n",
       "std                  0.114722       58.955825    0.377810\n",
       "min                  0.493000        2.000000    0.000000\n",
       "25%                  0.802000       24.000000    0.000000\n",
       "50%                  0.910000       50.000000    0.000000\n",
       "75%                  0.920000       90.000000    0.000000\n",
       "max                  0.949000      336.000000    1.000000"
      ]
     },
     "execution_count": 10,
     "metadata": {},
     "output_type": "execute_result"
    }
   ],
   "source": [
    "train_df.describe()"
   ]
  },
  {
   "cell_type": "code",
   "execution_count": 11,
   "id": "27d3157d",
   "metadata": {},
   "outputs": [
    {
     "data": {
      "text/plain": [
       "(981, 11)"
      ]
     },
     "execution_count": 11,
     "metadata": {},
     "output_type": "execute_result"
    }
   ],
   "source": [
    "train_df.shape"
   ]
  },
  {
   "cell_type": "markdown",
   "id": "2523b448",
   "metadata": {},
   "source": [
    "## Task1 Data clean, imputation"
   ]
  },
  {
   "cell_type": "markdown",
   "id": "a8553980",
   "metadata": {},
   "source": [
    "1.in experience, replace >20 to 21; <1 to 1, and convert this as a numerical column"
   ]
  },
  {
   "cell_type": "code",
   "execution_count": 12,
   "id": "2bb02399",
   "metadata": {},
   "outputs": [],
   "source": [
    "## Ersetzen \">20\" durch \"21\" im trainingsdatensatz\n",
    "train_df[\"experience\"]= train_df[\"experience\"].replace(\">20\", \"21\")\n",
    "\n",
    "## Ersetzen \"<1\" durch \"1\" im trainingsdatensatz\n",
    "train_df[\"experience\"]= train_df[\"experience\"].replace(\"<1\", \"1\")\n",
    "\n",
    "## Konvertieren der Spalte in numerischen Datentyp\n",
    "train_df[\"experience\"]= pd.to_numeric(train_df[\"experience\"])"
   ]
  },
  {
   "cell_type": "code",
   "execution_count": 13,
   "id": "4d125e11",
   "metadata": {},
   "outputs": [
    {
     "name": "stdout",
     "output_type": "stream",
     "text": [
      "int64\n"
     ]
    }
   ],
   "source": [
    "print(train_df['experience'].dtype)"
   ]
  },
  {
   "cell_type": "code",
   "execution_count": 14,
   "id": "a546802f",
   "metadata": {},
   "outputs": [],
   "source": [
    "## Ersetzen \">20\" durch \"21\" im testdatensatz\n",
    "test_df[\"experience\"]= test_df[\"experience\"].replace(\">20\", \"21\")\n",
    "\n",
    "## Ersetzen \"<1\" durch \"1\" im testdatensatz\n",
    "test_df[\"experience\"]= test_df[\"experience\"].replace(\"<1\", \"1\")\n",
    "\n",
    "## Konvertieren der Spalte in numerischen Datentyp\n",
    "test_df[\"experience\"]= pd.to_numeric(test_df[\"experience\"])"
   ]
  },
  {
   "cell_type": "code",
   "execution_count": 15,
   "id": "bbd8c4b9",
   "metadata": {},
   "outputs": [
    {
     "name": "stdout",
     "output_type": "stream",
     "text": [
      "int64\n"
     ]
    }
   ],
   "source": [
    "print(test_df['experience'].dtype)"
   ]
  },
  {
   "cell_type": "markdown",
   "id": "07c98fa6",
   "metadata": {},
   "source": [
    "2. in last_new_job, replace >4 to 5; never to 0, and convert this as a numerical column"
   ]
  },
  {
   "cell_type": "code",
   "execution_count": 16,
   "id": "3bd739fb",
   "metadata": {},
   "outputs": [],
   "source": [
    "## Ersetzen \">4\" durch \"5\" im trainingsdatensatz\n",
    "train_df[\"last_new_job\"]= train_df[\"last_new_job\"].replace(\">4\", \"5\")\n",
    "#### Ersetzen \">never\" durch \"0\" im trainingsdatensatz\n",
    "train_df[\"last_new_job\"]= train_df[\"last_new_job\"].replace(\"never\", \"0\")\n",
    "#### Konvertieren der Spalte in numerischen Datentyp\n",
    "train_df[\"last_new_job\"]= pd.to_numeric(train_df[\"last_new_job\"])"
   ]
  },
  {
   "cell_type": "code",
   "execution_count": 17,
   "id": "5828f8c5",
   "metadata": {},
   "outputs": [],
   "source": [
    "## Ersetzen \">4\" durch \"5\" im testdatensatz\n",
    "test_df[\"last_new_job\"]= test_df[\"last_new_job\"].replace(\">4\", \"5\")\n",
    "#### Ersetzen \">never\" durch \"0\" im testdatensatz\n",
    "test_df[\"last_new_job\"]= test_df[\"last_new_job\"].replace(\"never\", \"0\")\n",
    "## Konvertieren der Spalte in numerischen Datentyp\n",
    "test_df[\"last_new_job\"]= pd.to_numeric(test_df[\"last_new_job\"])"
   ]
  },
  {
   "cell_type": "markdown",
   "id": "44e5fb6d",
   "metadata": {},
   "source": [
    "3. If the column is categorical, impute the missing value as its mode. If the column is numerical, impute the missing value as its median"
   ]
  },
  {
   "cell_type": "code",
   "execution_count": 18,
   "id": "4d6d8db6",
   "metadata": {},
   "outputs": [],
   "source": [
    "#Aufbereitung für trainingdatensatz\n",
    "\n",
    "# Finde Spalten mit fehlenden Werten und deren Datentypen\n",
    "missing_columns = train_df.columns[train_df.isnull().any()]\n",
    "column_types = train_df[missing_columns].dtypes\n",
    "\n",
    "## Imputiere fehlende Werte in kategorischen Spalten mit Modus\n",
    "for column in missing_columns[column_types == \"object\"]:\n",
    "    train_df[column].fillna(train_df[column].mode()[0], inplace=True)\n",
    "\n",
    "    # Impute missing values in numerical columns with median\n",
    "for column in missing_columns[column_types != \"object\"]:\n",
    "    train_df[column].fillna(train_df[column].median(), inplace=True)\n"
   ]
  },
  {
   "cell_type": "code",
   "execution_count": 19,
   "id": "74300a6c",
   "metadata": {},
   "outputs": [],
   "source": [
    "#Aufbereitung für testdatensatz\n",
    "\n",
    "# Finde Spalten mit fehlenden Werten und deren Datentypen\n",
    "missing_columns = test_df.columns[test_df.isnull().any()]\n",
    "column_types = test_df[missing_columns].dtypes\n",
    "\n",
    "## Imputiere fehlende Werte in kategorischen Spalten mit Modus\n",
    "for column in missing_columns[column_types == \"object\"]:\n",
    "    test_df[column].fillna(train_df[column].mode()[0], inplace=True)\n",
    "\n",
    "    # Impute missing values in numerical columns with median\n",
    "for column in missing_columns[column_types != \"object\"]:\n",
    "    test_df[column].fillna(test_df[column].median(), inplace=True)"
   ]
  },
  {
   "cell_type": "markdown",
   "id": "17f5671f",
   "metadata": {},
   "source": [
    "## Task2 Classification"
   ]
  },
  {
   "cell_type": "code",
   "execution_count": 20,
   "id": "c9e17ac4",
   "metadata": {},
   "outputs": [],
   "source": [
    "import pandas as pd\n",
    "from sklearn.ensemble import RandomForestClassifier\n",
    "from sklearn.model_selection import train_test_split\n",
    "from sklearn.metrics import accuracy_score\n",
    "from sklearn.compose import ColumnTransformer\n",
    "from sklearn.metrics import mean_squared_error\n",
    "from sklearn import preprocessing\n"
   ]
  },
  {
   "cell_type": "code",
   "execution_count": 21,
   "id": "e849ffd8",
   "metadata": {},
   "outputs": [],
   "source": [
    "from sklearn.preprocessing import LabelEncoder\n"
   ]
  },
  {
   "cell_type": "markdown",
   "id": "89ded644",
   "metadata": {},
   "source": [
    "Im folgenden wird  Imputation fehlender Werte in der Spalte  des DataFrames train_df und test_df durchgeführt und anschließend eine Label-Encoding-Transformation auf die imputierten Werte angewendet. Dieser Code ermöglicht es, fehlende Werte in den Spalten zu behandeln und sie in numerische Werte umzuwandeln, um sie für weitere Analysen oder das Training von Machine-Learning-Modellen zu verwenden."
   ]
  },
  {
   "cell_type": "code",
   "execution_count": 23,
   "id": "8fd8fb1c",
   "metadata": {},
   "outputs": [],
   "source": [
    "train_df['gender'].fillna(method='ffill',inplace=True)\n",
    "genderEncoder = LabelEncoder().fit(train_df['gender'])\n",
    "gender_List = genderEncoder.classes_\n",
    "train_df['gender'] = genderEncoder.transform(train_df['gender'])\n",
    "\n",
    "test_df['gender'].fillna(method='ffill',inplace=True)\n",
    "genderEncoder = LabelEncoder().fit(test_df['gender'])\n",
    "gender_List = genderEncoder.classes_\n",
    "test_df['gender'] = genderEncoder.transform(test_df['gender'])"
   ]
  },
  {
   "cell_type": "code",
   "execution_count": 24,
   "id": "58791465",
   "metadata": {},
   "outputs": [],
   "source": [
    "train_df['enrolled_university'] = train_df['enrolled_university'].fillna(train_df['enrolled_university'].value_counts().index[0])\n",
    "EnrolledUniversityEncoder = LabelEncoder().fit(train_df['enrolled_university'])\n",
    "EnrolledUniversityEncoder_List = EnrolledUniversityEncoder.classes_\n",
    "train_df['enrolled_university'] = EnrolledUniversityEncoder.transform(train_df['enrolled_university'])\n",
    "\n",
    "test_df['enrolled_university'] = test_df['enrolled_university'].fillna(test_df['enrolled_university'].value_counts().index[0])\n",
    "EnrolledUniversityEncoder = LabelEncoder().fit(test_df['enrolled_university'])\n",
    "EnrolledUniversityEncoder_List = EnrolledUniversityEncoder.classes_\n",
    "test_df['enrolled_university'] = EnrolledUniversityEncoder.transform(test_df['enrolled_university'])"
   ]
  },
  {
   "cell_type": "code",
   "execution_count": 25,
   "id": "2d1d41a8",
   "metadata": {},
   "outputs": [],
   "source": [
    "train_df['education_level'].fillna(method='ffill',inplace=True)\n",
    "EducationLevelEncoder = LabelEncoder().fit(train_df['education_level'])\n",
    "EducationLevelEncoder_List = EducationLevelEncoder.classes_\n",
    "train_df['education_level'] = EducationLevelEncoder.transform(train_df['education_level'])\n",
    "\n",
    "test_df['education_level'].fillna(method='ffill',inplace=True)\n",
    "EducationLevelEncoder = LabelEncoder().fit(test_df['education_level'])\n",
    "EducationLevelEncoder_List = EducationLevelEncoder.classes_\n",
    "test_df['education_level'] = EducationLevelEncoder.transform(test_df['education_level'])\n"
   ]
  },
  {
   "cell_type": "code",
   "execution_count": 26,
   "id": "c34bca09",
   "metadata": {},
   "outputs": [],
   "source": [
    "train_df['major_discipline'].fillna(method='ffill',inplace=True)\n",
    "major_disciplineEncoder = LabelEncoder().fit(train_df['major_discipline'])\n",
    "major_disciplineEncoder_List = major_disciplineEncoder.classes_\n",
    "train_df['major_discipline'] = major_disciplineEncoder.transform(train_df['major_discipline'])\n",
    "\n",
    "test_df['major_discipline'].fillna(method='ffill',inplace=True)\n",
    "major_disciplineEncoder = LabelEncoder().fit(test_df['major_discipline'])\n",
    "major_disciplineEncoder_List = major_disciplineEncoder.classes_\n",
    "test_df['major_discipline'] = major_disciplineEncoder.transform(test_df['major_discipline'])"
   ]
  },
  {
   "cell_type": "code",
   "execution_count": 27,
   "id": "4fc44998",
   "metadata": {},
   "outputs": [],
   "source": [
    "train_df['experience'].fillna(method='ffill',inplace=True)\n",
    "experienceEncoder = LabelEncoder().fit(train_df['experience'])\n",
    "experienceEncoder_List = experienceEncoder.classes_\n",
    "train_df['experience'] = experienceEncoder.transform(train_df['experience'])\n",
    "\n",
    "test_df['experience'].fillna(method='ffill',inplace=True)\n",
    "experienceEncoder = LabelEncoder().fit(test_df['experience'])\n",
    "experienceEncoder_List = experienceEncoder.classes_\n",
    "test_df['experience'] = experienceEncoder.transform(test_df['experience'])"
   ]
  },
  {
   "cell_type": "code",
   "execution_count": 28,
   "id": "c4a36442",
   "metadata": {},
   "outputs": [],
   "source": [
    "train_df['company_type'].fillna(method='ffill',inplace=True)\n",
    "company_typeEncoder = LabelEncoder().fit(train_df['company_type'])\n",
    "company_typeEncoder_List = company_typeEncoder.classes_\n",
    "train_df['company_type'] = company_typeEncoder.transform(train_df['company_type'])\n",
    "\n",
    "test_df['company_type'].fillna(method='ffill',inplace=True)\n",
    "company_typeEncoder = LabelEncoder().fit(test_df['company_type'])\n",
    "company_typeEncoder_List = company_typeEncoder.classes_\n",
    "test_df['company_type'] = company_typeEncoder.transform(test_df['company_type'])"
   ]
  },
  {
   "cell_type": "code",
   "execution_count": 29,
   "id": "03fd4bce",
   "metadata": {},
   "outputs": [],
   "source": [
    "train_df['last_new_job'].fillna(method='ffill',inplace=True)\n",
    "last_new_jobEncoder = LabelEncoder().fit(train_df['last_new_job'])\n",
    "last_new_jobEncoder_List = last_new_jobEncoder.classes_\n",
    "train_df['last_new_job'] = last_new_jobEncoder.transform(train_df['last_new_job'])\n",
    "\n",
    "test_df['last_new_job'].fillna(method='ffill',inplace=True)\n",
    "last_new_jobEncoder = LabelEncoder().fit(test_df['last_new_job'])\n",
    "last_new_jobEncoder_List = last_new_jobEncoder.classes_\n",
    "test_df['last_new_job'] = last_new_jobEncoder.transform(test_df['last_new_job'])"
   ]
  },
  {
   "cell_type": "code",
   "execution_count": 30,
   "id": "9001a699",
   "metadata": {},
   "outputs": [],
   "source": [
    "train_df['relevent_experience'].fillna(method='ffill',inplace=True)\n",
    "relevent_experienceEncoder = LabelEncoder().fit(train_df['relevent_experience'])\n",
    "relevent_experience_List = relevent_experienceEncoder.classes_\n",
    "train_df['relevent_experience'] = relevent_experienceEncoder.transform(train_df['relevent_experience'])\n",
    "\n",
    "test_df['relevent_experience'].fillna(method='ffill',inplace=True)\n",
    "relevent_experienceEncoder = LabelEncoder().fit(test_df['relevent_experience'])\n",
    "relevent_experience_List = relevent_experienceEncoder.classes_\n",
    "test_df['relevent_experience'] = relevent_experienceEncoder.transform(test_df['relevent_experience'])"
   ]
  },
  {
   "cell_type": "markdown",
   "id": "fc680d59",
   "metadata": {},
   "source": [
    "Überprüfung :"
   ]
  },
  {
   "cell_type": "code",
   "execution_count": 31,
   "id": "b64f45eb",
   "metadata": {},
   "outputs": [
    {
     "name": "stdout",
     "output_type": "stream",
     "text": [
      "<class 'pandas.core.frame.DataFrame'>\n",
      "Int64Index: 981 entries, 2 to 2099\n",
      "Data columns (total 11 columns):\n",
      " #   Column                  Non-Null Count  Dtype  \n",
      "---  ------                  --------------  -----  \n",
      " 0   city_development_index  981 non-null    float64\n",
      " 1   gender                  981 non-null    int64  \n",
      " 2   relevent_experience     981 non-null    int32  \n",
      " 3   enrolled_university     981 non-null    int32  \n",
      " 4   education_level         981 non-null    int32  \n",
      " 5   major_discipline        981 non-null    int32  \n",
      " 6   experience              981 non-null    int64  \n",
      " 7   company_type            981 non-null    int32  \n",
      " 8   last_new_job            981 non-null    int64  \n",
      " 9   training_hours          981 non-null    int64  \n",
      " 10  target                  981 non-null    int64  \n",
      "dtypes: float64(1), int32(5), int64(5)\n",
      "memory usage: 72.8 KB\n"
     ]
    }
   ],
   "source": [
    "train_df.info()"
   ]
  },
  {
   "cell_type": "code",
   "execution_count": 32,
   "id": "e36dc09c",
   "metadata": {},
   "outputs": [
    {
     "name": "stdout",
     "output_type": "stream",
     "text": [
      "<class 'pandas.core.frame.DataFrame'>\n",
      "Int64Index: 43 entries, 1 to 99\n",
      "Data columns (total 11 columns):\n",
      " #   Column                  Non-Null Count  Dtype  \n",
      "---  ------                  --------------  -----  \n",
      " 0   city_development_index  43 non-null     float64\n",
      " 1   gender                  43 non-null     int64  \n",
      " 2   relevent_experience     43 non-null     int32  \n",
      " 3   enrolled_university     43 non-null     int32  \n",
      " 4   education_level         43 non-null     int32  \n",
      " 5   major_discipline        43 non-null     int32  \n",
      " 6   experience              43 non-null     int64  \n",
      " 7   company_type            43 non-null     int32  \n",
      " 8   last_new_job            43 non-null     int64  \n",
      " 9   training_hours          43 non-null     int64  \n",
      " 10  target                  43 non-null     int64  \n",
      "dtypes: float64(1), int32(5), int64(5)\n",
      "memory usage: 3.2 KB\n"
     ]
    }
   ],
   "source": [
    "test_df.info()"
   ]
  },
  {
   "cell_type": "markdown",
   "id": "d48165d4",
   "metadata": {},
   "source": [
    "1. Build a classification model from the training set ( you can use any algorithm)"
   ]
  },
  {
   "cell_type": "code",
   "execution_count": 33,
   "id": "bb95a894",
   "metadata": {},
   "outputs": [],
   "source": [
    "# Aufteilen der Features (X) und der Zielvariable (y)\n",
    "X_train = train_df.drop(\"target\", axis=1) # Features\n",
    "y_train= train_df[\"target\"]  # Zielvariable"
   ]
  },
  {
   "cell_type": "code",
   "execution_count": 34,
   "id": "0b2de1e5",
   "metadata": {},
   "outputs": [],
   "source": [
    "# Separate Aufteilen der Features (X) und der Zielvariable (y) für test\n",
    "X_test = test_df.drop(\"target\", axis=1)  # Features für test\n",
    "y_test = test_df[\"target\"]  # zielvariable für Test\n"
   ]
  },
  {
   "cell_type": "code",
   "execution_count": 35,
   "id": "e248930a",
   "metadata": {},
   "outputs": [],
   "source": [
    "# Initialisieren des Random Forest Klassifikators\n",
    "clf = RandomForestClassifier()"
   ]
  },
  {
   "cell_type": "code",
   "execution_count": 36,
   "id": "780030a9",
   "metadata": {},
   "outputs": [
    {
     "data": {
      "text/html": [
       "<style>#sk-container-id-1 {color: black;background-color: white;}#sk-container-id-1 pre{padding: 0;}#sk-container-id-1 div.sk-toggleable {background-color: white;}#sk-container-id-1 label.sk-toggleable__label {cursor: pointer;display: block;width: 100%;margin-bottom: 0;padding: 0.3em;box-sizing: border-box;text-align: center;}#sk-container-id-1 label.sk-toggleable__label-arrow:before {content: \"▸\";float: left;margin-right: 0.25em;color: #696969;}#sk-container-id-1 label.sk-toggleable__label-arrow:hover:before {color: black;}#sk-container-id-1 div.sk-estimator:hover label.sk-toggleable__label-arrow:before {color: black;}#sk-container-id-1 div.sk-toggleable__content {max-height: 0;max-width: 0;overflow: hidden;text-align: left;background-color: #f0f8ff;}#sk-container-id-1 div.sk-toggleable__content pre {margin: 0.2em;color: black;border-radius: 0.25em;background-color: #f0f8ff;}#sk-container-id-1 input.sk-toggleable__control:checked~div.sk-toggleable__content {max-height: 200px;max-width: 100%;overflow: auto;}#sk-container-id-1 input.sk-toggleable__control:checked~label.sk-toggleable__label-arrow:before {content: \"▾\";}#sk-container-id-1 div.sk-estimator input.sk-toggleable__control:checked~label.sk-toggleable__label {background-color: #d4ebff;}#sk-container-id-1 div.sk-label input.sk-toggleable__control:checked~label.sk-toggleable__label {background-color: #d4ebff;}#sk-container-id-1 input.sk-hidden--visually {border: 0;clip: rect(1px 1px 1px 1px);clip: rect(1px, 1px, 1px, 1px);height: 1px;margin: -1px;overflow: hidden;padding: 0;position: absolute;width: 1px;}#sk-container-id-1 div.sk-estimator {font-family: monospace;background-color: #f0f8ff;border: 1px dotted black;border-radius: 0.25em;box-sizing: border-box;margin-bottom: 0.5em;}#sk-container-id-1 div.sk-estimator:hover {background-color: #d4ebff;}#sk-container-id-1 div.sk-parallel-item::after {content: \"\";width: 100%;border-bottom: 1px solid gray;flex-grow: 1;}#sk-container-id-1 div.sk-label:hover label.sk-toggleable__label {background-color: #d4ebff;}#sk-container-id-1 div.sk-serial::before {content: \"\";position: absolute;border-left: 1px solid gray;box-sizing: border-box;top: 0;bottom: 0;left: 50%;z-index: 0;}#sk-container-id-1 div.sk-serial {display: flex;flex-direction: column;align-items: center;background-color: white;padding-right: 0.2em;padding-left: 0.2em;position: relative;}#sk-container-id-1 div.sk-item {position: relative;z-index: 1;}#sk-container-id-1 div.sk-parallel {display: flex;align-items: stretch;justify-content: center;background-color: white;position: relative;}#sk-container-id-1 div.sk-item::before, #sk-container-id-1 div.sk-parallel-item::before {content: \"\";position: absolute;border-left: 1px solid gray;box-sizing: border-box;top: 0;bottom: 0;left: 50%;z-index: -1;}#sk-container-id-1 div.sk-parallel-item {display: flex;flex-direction: column;z-index: 1;position: relative;background-color: white;}#sk-container-id-1 div.sk-parallel-item:first-child::after {align-self: flex-end;width: 50%;}#sk-container-id-1 div.sk-parallel-item:last-child::after {align-self: flex-start;width: 50%;}#sk-container-id-1 div.sk-parallel-item:only-child::after {width: 0;}#sk-container-id-1 div.sk-dashed-wrapped {border: 1px dashed gray;margin: 0 0.4em 0.5em 0.4em;box-sizing: border-box;padding-bottom: 0.4em;background-color: white;}#sk-container-id-1 div.sk-label label {font-family: monospace;font-weight: bold;display: inline-block;line-height: 1.2em;}#sk-container-id-1 div.sk-label-container {text-align: center;}#sk-container-id-1 div.sk-container {/* jupyter's `normalize.less` sets `[hidden] { display: none; }` but bootstrap.min.css set `[hidden] { display: none !important; }` so we also need the `!important` here to be able to override the default hidden behavior on the sphinx rendered scikit-learn.org. See: https://github.com/scikit-learn/scikit-learn/issues/21755 */display: inline-block !important;position: relative;}#sk-container-id-1 div.sk-text-repr-fallback {display: none;}</style><div id=\"sk-container-id-1\" class=\"sk-top-container\"><div class=\"sk-text-repr-fallback\"><pre>RandomForestClassifier()</pre><b>In a Jupyter environment, please rerun this cell to show the HTML representation or trust the notebook. <br />On GitHub, the HTML representation is unable to render, please try loading this page with nbviewer.org.</b></div><div class=\"sk-container\" hidden><div class=\"sk-item\"><div class=\"sk-estimator sk-toggleable\"><input class=\"sk-toggleable__control sk-hidden--visually\" id=\"sk-estimator-id-1\" type=\"checkbox\" checked><label for=\"sk-estimator-id-1\" class=\"sk-toggleable__label sk-toggleable__label-arrow\">RandomForestClassifier</label><div class=\"sk-toggleable__content\"><pre>RandomForestClassifier()</pre></div></div></div></div></div>"
      ],
      "text/plain": [
       "RandomForestClassifier()"
      ]
     },
     "execution_count": 36,
     "metadata": {},
     "output_type": "execute_result"
    }
   ],
   "source": [
    "clf.fit(X_train, y_train)"
   ]
  },
  {
   "cell_type": "markdown",
   "id": "67c9f618",
   "metadata": {},
   "source": [
    "2.generate the confusion matrix for the training set and calculate the accuracy, precision, recall, and F1-score "
   ]
  },
  {
   "cell_type": "code",
   "execution_count": 37,
   "id": "4dc4e2be",
   "metadata": {},
   "outputs": [],
   "source": [
    "from sklearn.metrics import confusion_matrix, accuracy_score, precision_score, recall_score, f1_score"
   ]
  },
  {
   "cell_type": "code",
   "execution_count": 38,
   "id": "79dd5cb3",
   "metadata": {},
   "outputs": [
    {
     "name": "stdout",
     "output_type": "stream",
     "text": [
      "Confusion Matrix (Trainingmenge):\n",
      "[[812   0]\n",
      " [  0 169]]\n",
      "Accuracy (Trainingmenge): 1.0\n",
      "Precision (Trainingmenge): 1.0\n",
      "Recall (Trainingmenge): 1.0\n",
      "F1-score (Trainingmenge): 1.0\n"
     ]
    }
   ],
   "source": [
    "# Vorhersagen für die Trainingsmenge treffen\n",
    "y_pred_train = clf.predict(X_train)\n",
    "\n",
    "# Erzeugen Sie die Konfusionsmatrix für die Trainingsmenge\n",
    "cm_train = confusion_matrix(y_train, y_pred_train)\n",
    "print(\"Confusion Matrix (Trainingmenge):\")\n",
    "print(cm_train)\n",
    "\n",
    "# Berechnen Sie die Genauigkeit für die Trainingsmenge\n",
    "accuracy_train = accuracy_score(y_train, y_pred_train)\n",
    "print(\"Accuracy (Trainingmenge):\", accuracy_train)\n",
    "\n",
    "# Berechnen Sie die Präzision für den Trainingssatz\n",
    "precision_train = precision_score(y_train, y_pred_train)\n",
    "print(\"Precision (Trainingmenge):\", precision_train)\n",
    "\n",
    "#Berechnung der Recall für die Trainingsmenge\n",
    "recall_train = recall_score(y_train, y_pred_train)\n",
    "print(\"Recall (Trainingmenge):\", recall_train)\n",
    "\n",
    "# Berechnen des F1-Scores für den Trainingssatz\n",
    "f1_train = f1_score(y_train, y_pred_train)\n",
    "print(\"F1-score (Trainingmenge):\", f1_train)"
   ]
  },
  {
   "cell_type": "markdown",
   "id": "10af5008",
   "metadata": {},
   "source": [
    "3. Applying the model in the test set and generating the prediction"
   ]
  },
  {
   "cell_type": "code",
   "execution_count": 39,
   "id": "4d91259c",
   "metadata": {},
   "outputs": [
    {
     "name": "stdout",
     "output_type": "stream",
     "text": [
      "Predictions: [0 1 0 0 0 0 0 0 0 0 0 0 1 0 0 0 0 1 0 0 0 0 0 0 0 0 0 0 0 0 0 0 0 0 0 0 0\n",
      " 1 0 0 0 0 0]\n"
     ]
    }
   ],
   "source": [
    "# Vorhersagen für die Testmenge treffen\n",
    "y_pred_test = clf.predict(X_test)\n",
    "\n",
    "print(\"Predictions:\", y_pred_test)"
   ]
  },
  {
   "cell_type": "markdown",
   "id": "785f25ce",
   "metadata": {},
   "source": [
    "4. generate the confusion matrix from the test set and calculate the accuracy, precision, recall, and F1-score"
   ]
  },
  {
   "cell_type": "code",
   "execution_count": 40,
   "id": "7b41cd94",
   "metadata": {},
   "outputs": [
    {
     "name": "stdout",
     "output_type": "stream",
     "text": [
      "Confusion Matrix (Testmenge):\n",
      "[[35  2]\n",
      " [ 4  2]]\n",
      "Accuracy (Testmenge): 0.8604651162790697\n",
      "Precision (Testmenge): 0.5\n",
      "Recall (Testmenge): 0.3333333333333333\n",
      "F1-score (Testmenge): 0.4\n"
     ]
    }
   ],
   "source": [
    "#Erzeugen Sie die Konfusionsmatrix für die Testmenge\n",
    "cm_test = confusion_matrix(y_test, y_pred_test)\n",
    "print(\"Confusion Matrix (Testmenge):\")\n",
    "print(cm_test)\n",
    "\n",
    "# Berechnen Sie die Genauigkeit für die Testsmenge\n",
    "accuracy_test = accuracy_score(y_test, y_pred_test)\n",
    "print(\"Accuracy (Testmenge):\", accuracy_test)\n",
    "\n",
    "# Berechnen Sie die Präzision für den Testmenge\n",
    "precision_test = precision_score(y_test, y_pred_test)\n",
    "print(\"Precision (Testmenge):\", precision_test)\n",
    "\n",
    "# Berechnung von Recall für die Testsmenge\n",
    "recall_test = recall_score(y_test, y_pred_test)\n",
    "print(\"Recall (Testmenge):\", recall_test)\n",
    "\n",
    "# Berechnen des F1-Scores für den Trainingssatz\n",
    "f1_test = f1_score(y_test, y_pred_test)\n",
    "print(\"F1-score (Testmenge):\", f1_test)\n"
   ]
  },
  {
   "cell_type": "markdown",
   "id": "7897f19b",
   "metadata": {},
   "source": [
    "5. compare the results between the training and test set"
   ]
  },
  {
   "cell_type": "code",
   "execution_count": 41,
   "id": "f117592b",
   "metadata": {},
   "outputs": [
    {
     "name": "stdout",
     "output_type": "stream",
     "text": [
      "Evaluation der Trainingsmenge:\n",
      "Accuracy: 1.0\n",
      "Precision: 1.0\n",
      "Recall: 1.0\n",
      "F1-score: 1.0\n",
      "\n",
      "Evaluation der Testmenge:\n",
      "Accuracy: 0.8604651162790697\n",
      "Precision: 0.5\n",
      "Recall: 0.3333333333333333\n",
      "F1-score: 0.4\n"
     ]
    }
   ],
   "source": [
    "print(\"Evaluation der Trainingsmenge:\")\n",
    "print(\"Accuracy:\", accuracy_train)\n",
    "print(\"Precision:\", precision_train)\n",
    "print(\"Recall:\", recall_train)\n",
    "print(\"F1-score:\", f1_train)\n",
    "print()\n",
    "\n",
    "print(\"Evaluation der Testmenge:\")\n",
    "print(\"Accuracy:\", accuracy_test)\n",
    "print(\"Precision:\", precision_test)\n",
    "print(\"Recall:\", recall_test)\n",
    "print(\"F1-score:\", f1_test)"
   ]
  },
  {
   "cell_type": "markdown",
   "id": "ea415419",
   "metadata": {},
   "source": [
    "Die gegebenen Ergebnisse zeigen eine deutliche Diskrepanz zwischen der Leistung des Modells auf der Trainingsmenge und der Testmenge.\n",
    "Die Ergebnisse der Trainigsmenge zeigen, dass das Model perfekte Leistung erzielt. Das zeigt der Wert 1.0 bei Accuracy, Precision, Recall und F1-Score, und bedeutet , dass das Modell alle Beispiele richtig klassifiziert hat.\n",
    "Im Gegensatz dazu zeigen die Ergebnisse der Testmenge, dass das Modell etwa 86% der Beispiele korrekt klassifiziert hat. Die Precision liegt bei 0.5, was darauf hindeutet, dass von den als positiv vorhergesagten Beispielen etwa 50% tatsächlich positiv waren. Der Recall beträgt 0.333, was bedeutet, dass das Modell nur etwa 33,3% der tatsächlich positiven Beispiele erfasst hat. Der F1-Score, der das Gleichgewicht zwischen Precision und Recall darstellt, beträgt 0.444.\n",
    "Der deutliche Unterschied zwieschen Leistungen der Trainings und Testmenge deutet darauf hin, dass das Modell Schwierigkeiten hat, die in den Trainingsdaten gelernten Muster auf neue Daten anzuwenden. Dies kann ein hinweis auf Overfitting (Überangepastheit) des Models hindeuten.\n",
    "Das Anpassen von Hyperparametern, die Verwendung von mehr Daten oder die Anwendung von Regularisierungstechniken könnte dabei helfen bessere Generalisierung zu erreichen"
   ]
  },
  {
   "cell_type": "code",
   "execution_count": null,
   "id": "62ea224f",
   "metadata": {},
   "outputs": [],
   "source": []
  }
 ],
 "metadata": {
  "kernelspec": {
   "display_name": "Python 3",
   "language": "python",
   "name": "python3"
  },
  "language_info": {
   "codemirror_mode": {
    "name": "ipython",
    "version": 3
   },
   "file_extension": ".py",
   "mimetype": "text/x-python",
   "name": "python",
   "nbconvert_exporter": "python",
   "pygments_lexer": "ipython3",
   "version": "3.8.8"
  }
 },
 "nbformat": 4,
 "nbformat_minor": 5
}
