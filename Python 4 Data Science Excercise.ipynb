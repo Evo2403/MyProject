{
 "cells": [
  {
   "cell_type": "markdown",
   "id": "a4052e3e",
   "metadata": {},
   "source": [
    "# 4. Python 4 Data Science Excercise"
   ]
  },
  {
   "cell_type": "markdown",
   "id": "1137d16f",
   "metadata": {},
   "source": [
    "1.  Write a NumPy program to get the indices of the sorted elements of a given array.\n",
    "\n",
    "score = np.array([103, 1502, 6230, 3, 1682, 5241, 4532])\n"
   ]
  },
  {
   "cell_type": "code",
   "execution_count": 21,
   "id": "6c345183",
   "metadata": {},
   "outputs": [
    {
     "name": "stdout",
     "output_type": "stream",
     "text": [
      "[3 0 1 4 6 5 2]\n"
     ]
    }
   ],
   "source": [
    "import numpy as np\n",
    "score = np.array([103, 1502, 6230, 3, 1682, 5241, 4532])\n",
    "\n",
    "i = np.argsort(score)\n",
    "\n",
    "print (i)\n"
   ]
  },
  {
   "cell_type": "markdown",
   "id": "148826f5",
   "metadata": {},
   "source": [
    "2. Do the following exercise in a Jupyter Notebook (a GitHub Link would be the best):\n"
   ]
  },
  {
   "cell_type": "code",
   "execution_count": 22,
   "id": "7e2454dd",
   "metadata": {},
   "outputs": [],
   "source": [
    "import pandas as pd"
   ]
  },
  {
   "cell_type": "code",
   "execution_count": 23,
   "id": "910c1409",
   "metadata": {},
   "outputs": [
    {
     "data": {
      "text/html": [
       "<div>\n",
       "<style scoped>\n",
       "    .dataframe tbody tr th:only-of-type {\n",
       "        vertical-align: middle;\n",
       "    }\n",
       "\n",
       "    .dataframe tbody tr th {\n",
       "        vertical-align: top;\n",
       "    }\n",
       "\n",
       "    .dataframe thead th {\n",
       "        text-align: right;\n",
       "    }\n",
       "</style>\n",
       "<table border=\"1\" class=\"dataframe\">\n",
       "  <thead>\n",
       "    <tr style=\"text-align: right;\">\n",
       "      <th></th>\n",
       "      <th>Name</th>\n",
       "      <th>Population</th>\n",
       "      <th>Area</th>\n",
       "      <th>GDP</th>\n",
       "      <th>Currency</th>\n",
       "    </tr>\n",
       "  </thead>\n",
       "  <tbody>\n",
       "    <tr>\n",
       "      <th>0</th>\n",
       "      <td>Germany</td>\n",
       "      <td>82521653</td>\n",
       "      <td>357385</td>\n",
       "      <td>3466.0</td>\n",
       "      <td>EUR</td>\n",
       "    </tr>\n",
       "    <tr>\n",
       "      <th>1</th>\n",
       "      <td>Japan</td>\n",
       "      <td>126045000</td>\n",
       "      <td>377835</td>\n",
       "      <td>4938.0</td>\n",
       "      <td>YEN</td>\n",
       "    </tr>\n",
       "    <tr>\n",
       "      <th>2</th>\n",
       "      <td>Canada</td>\n",
       "      <td>36503097</td>\n",
       "      <td>9984670</td>\n",
       "      <td>1529.0</td>\n",
       "      <td>CAD</td>\n",
       "    </tr>\n",
       "    <tr>\n",
       "      <th>3</th>\n",
       "      <td>Italy</td>\n",
       "      <td>60501718</td>\n",
       "      <td>301338</td>\n",
       "      <td>1850.0</td>\n",
       "      <td>EUR</td>\n",
       "    </tr>\n",
       "    <tr>\n",
       "      <th>4</th>\n",
       "      <td>Brazilia</td>\n",
       "      <td>208360000</td>\n",
       "      <td>8515770</td>\n",
       "      <td>1798.0</td>\n",
       "      <td>REAL</td>\n",
       "    </tr>\n",
       "    <tr>\n",
       "      <th>5</th>\n",
       "      <td>Taiwan</td>\n",
       "      <td>23938272</td>\n",
       "      <td>36197</td>\n",
       "      <td>744.0</td>\n",
       "      <td>NTD</td>\n",
       "    </tr>\n",
       "    <tr>\n",
       "      <th>6</th>\n",
       "      <td>Venezuela</td>\n",
       "      <td>28208977</td>\n",
       "      <td>912050</td>\n",
       "      <td>NaN</td>\n",
       "      <td>VED</td>\n",
       "    </tr>\n",
       "  </tbody>\n",
       "</table>\n",
       "</div>"
      ],
      "text/plain": [
       "        Name  Population     Area     GDP Currency\n",
       "0    Germany    82521653   357385  3466.0      EUR\n",
       "1      Japan   126045000   377835  4938.0      YEN\n",
       "2     Canada    36503097  9984670  1529.0      CAD\n",
       "3      Italy    60501718   301338  1850.0      EUR\n",
       "4   Brazilia   208360000  8515770  1798.0     REAL\n",
       "5     Taiwan    23938272    36197   744.0      NTD\n",
       "6  Venezuela    28208977   912050     NaN      VED"
      ]
     },
     "execution_count": 23,
     "metadata": {},
     "output_type": "execute_result"
    }
   ],
   "source": [
    "#Load the countries.csv directly via URL import into your panda data frame!\n",
    "import pandas as pd\n",
    "df = pd.read_csv('C:/Users/elena/Downloads/test.csv')\n",
    "df"
   ]
  },
  {
   "cell_type": "code",
   "execution_count": 24,
   "id": "144366e5",
   "metadata": {},
   "outputs": [
    {
     "data": {
      "text/html": [
       "<div>\n",
       "<style scoped>\n",
       "    .dataframe tbody tr th:only-of-type {\n",
       "        vertical-align: middle;\n",
       "    }\n",
       "\n",
       "    .dataframe tbody tr th {\n",
       "        vertical-align: top;\n",
       "    }\n",
       "\n",
       "    .dataframe thead th {\n",
       "        text-align: right;\n",
       "    }\n",
       "</style>\n",
       "<table border=\"1\" class=\"dataframe\">\n",
       "  <thead>\n",
       "    <tr style=\"text-align: right;\">\n",
       "      <th></th>\n",
       "      <th>Population</th>\n",
       "      <th>Area</th>\n",
       "      <th>GDP</th>\n",
       "    </tr>\n",
       "  </thead>\n",
       "  <tbody>\n",
       "    <tr>\n",
       "      <th>count</th>\n",
       "      <td>7.000000e+00</td>\n",
       "      <td>7.000000e+00</td>\n",
       "      <td>6.000000</td>\n",
       "    </tr>\n",
       "    <tr>\n",
       "      <th>mean</th>\n",
       "      <td>8.086839e+07</td>\n",
       "      <td>2.926464e+06</td>\n",
       "      <td>2387.500000</td>\n",
       "    </tr>\n",
       "    <tr>\n",
       "      <th>std</th>\n",
       "      <td>6.670195e+07</td>\n",
       "      <td>4.348507e+06</td>\n",
       "      <td>1532.497537</td>\n",
       "    </tr>\n",
       "    <tr>\n",
       "      <th>min</th>\n",
       "      <td>2.393827e+07</td>\n",
       "      <td>3.619700e+04</td>\n",
       "      <td>744.000000</td>\n",
       "    </tr>\n",
       "    <tr>\n",
       "      <th>25%</th>\n",
       "      <td>3.235604e+07</td>\n",
       "      <td>3.293615e+05</td>\n",
       "      <td>1596.250000</td>\n",
       "    </tr>\n",
       "    <tr>\n",
       "      <th>50%</th>\n",
       "      <td>6.050172e+07</td>\n",
       "      <td>3.778350e+05</td>\n",
       "      <td>1824.000000</td>\n",
       "    </tr>\n",
       "    <tr>\n",
       "      <th>75%</th>\n",
       "      <td>1.042833e+08</td>\n",
       "      <td>4.713910e+06</td>\n",
       "      <td>3062.000000</td>\n",
       "    </tr>\n",
       "    <tr>\n",
       "      <th>max</th>\n",
       "      <td>2.083600e+08</td>\n",
       "      <td>9.984670e+06</td>\n",
       "      <td>4938.000000</td>\n",
       "    </tr>\n",
       "  </tbody>\n",
       "</table>\n",
       "</div>"
      ],
      "text/plain": [
       "         Population          Area          GDP\n",
       "count  7.000000e+00  7.000000e+00     6.000000\n",
       "mean   8.086839e+07  2.926464e+06  2387.500000\n",
       "std    6.670195e+07  4.348507e+06  1532.497537\n",
       "min    2.393827e+07  3.619700e+04   744.000000\n",
       "25%    3.235604e+07  3.293615e+05  1596.250000\n",
       "50%    6.050172e+07  3.778350e+05  1824.000000\n",
       "75%    1.042833e+08  4.713910e+06  3062.000000\n",
       "max    2.083600e+08  9.984670e+06  4938.000000"
      ]
     },
     "execution_count": 24,
     "metadata": {},
     "output_type": "execute_result"
    }
   ],
   "source": [
    "#Display descriptive statistics for the numerical column (count, mean, std, min, 25%, 50%, 75%, max) HINT\n",
    "\n",
    "df.describe()\n"
   ]
  },
  {
   "cell_type": "code",
   "execution_count": 25,
   "id": "f7a35c03",
   "metadata": {},
   "outputs": [
    {
     "name": "stdout",
     "output_type": "stream",
     "text": [
      "number of rows:  \n",
      "7\n",
      "number of columns:  \n",
      "5\n",
      "mean population:  \n",
      "80868388.14285715\n",
      "mean area:  \n",
      "2926463.5714285714\n",
      "mean gdp:  \n",
      "2387.5\n"
     ]
    }
   ],
   "source": [
    "# number of rows\n",
    "nr_rows = df.shape[0]\n",
    "print(\"number of rows:\", \" \")\n",
    "print(nr_rows)\n",
    "\n",
    "# number of columns\n",
    "nr_cols = df.shape[1]\n",
    "print(\"number of columns:\", \" \")\n",
    "print(nr_cols)\n",
    "\n",
    "#Oben stehende statistische Informationen können auch so ausgegeben werden:\n",
    "# mean population\n",
    "mean_population = df['Population'].mean()\n",
    "print(\"mean population:\", \" \")\n",
    "print(mean_population)\n",
    "\n",
    "# mean area\n",
    "mean_area = df['Area'].mean()\n",
    "print(\"mean area:\", \" \")\n",
    "print(mean_area)\n",
    "\n",
    "# mean gdp\n",
    "mean_gdp = df['GDP'].mean()\n",
    "print(\"mean gdp:\", \" \")\n",
    "print(mean_gdp)\n",
    "\n"
   ]
  },
  {
   "cell_type": "code",
   "execution_count": 26,
   "id": "d71f1153",
   "metadata": {},
   "outputs": [
    {
     "name": "stdout",
     "output_type": "stream",
     "text": [
      "        Name  Population     Area     GDP Currency\n",
      "3      Italy    60501718   301338  1850.0      EUR\n",
      "4   Brazilia   208360000  8515770  1798.0     REAL\n",
      "5     Taiwan    23938272    36197   744.0      NTD\n",
      "6  Venezuela    28208977   912050     NaN      VED\n"
     ]
    }
   ],
   "source": [
    "#Show the last 4 rows of the data frame.\n",
    "df_last_4 = df.tail(4)\n",
    "print(df_last_4)"
   ]
  },
  {
   "cell_type": "code",
   "execution_count": 27,
   "id": "cd9aae2f",
   "metadata": {},
   "outputs": [
    {
     "name": "stdout",
     "output_type": "stream",
     "text": [
      "      Name  Population    Area     GDP Currency\n",
      "0  Germany    82521653  357385  3466.0      EUR\n",
      "3    Italy    60501718  301338  1850.0      EUR\n"
     ]
    }
   ],
   "source": [
    "#Show all the rows of countries that have the EURO\n",
    "df_eur = df[df['Currency'] == 'EUR']\n",
    "print(df_eur)"
   ]
  },
  {
   "cell_type": "code",
   "execution_count": 28,
   "id": "55cdde22",
   "metadata": {},
   "outputs": [
    {
     "name": "stdout",
     "output_type": "stream",
     "text": [
      "        Name Currency\n",
      "0    Germany      EUR\n",
      "1      Japan      YEN\n",
      "2     Canada      CAD\n",
      "3      Italy      EUR\n",
      "4   Brazilia     REAL\n",
      "5     Taiwan      NTD\n",
      "6  Venezuela      VED\n"
     ]
    }
   ],
   "source": [
    "#Show only name and Currency in a new data frame\n",
    "df_name_currency = df[[\"Name\",\"Currency\"]]\n",
    "print (df_name_currency)"
   ]
  },
  {
   "cell_type": "code",
   "execution_count": 29,
   "id": "acbd229f",
   "metadata": {},
   "outputs": [
    {
     "name": "stdout",
     "output_type": "stream",
     "text": [
      "      Name  Population    Area     GDP Currency\n",
      "0  Germany    82521653  357385  3466.0      EUR\n",
      "1    Japan   126045000  377835  4938.0      YEN\n"
     ]
    }
   ],
   "source": [
    "#Show only the rows/countries that have more than 2000 GDP (it is in Milliarden USD Bruttoinlandsprodukt)\n",
    "above_2000 = df[df[\"GDP\"] > 2000]\n",
    "print (above_2000)"
   ]
  },
  {
   "cell_type": "code",
   "execution_count": 30,
   "id": "28ecd98f",
   "metadata": {},
   "outputs": [
    {
     "data": {
      "text/html": [
       "<div>\n",
       "<style scoped>\n",
       "    .dataframe tbody tr th:only-of-type {\n",
       "        vertical-align: middle;\n",
       "    }\n",
       "\n",
       "    .dataframe tbody tr th {\n",
       "        vertical-align: top;\n",
       "    }\n",
       "\n",
       "    .dataframe thead th {\n",
       "        text-align: right;\n",
       "    }\n",
       "</style>\n",
       "<table border=\"1\" class=\"dataframe\">\n",
       "  <thead>\n",
       "    <tr style=\"text-align: right;\">\n",
       "      <th></th>\n",
       "      <th>Name</th>\n",
       "      <th>Population</th>\n",
       "      <th>Area</th>\n",
       "      <th>GDP</th>\n",
       "      <th>Currency</th>\n",
       "    </tr>\n",
       "  </thead>\n",
       "  <tbody>\n",
       "    <tr>\n",
       "      <th>0</th>\n",
       "      <td>Germany</td>\n",
       "      <td>82521653</td>\n",
       "      <td>357385</td>\n",
       "      <td>3466.0</td>\n",
       "      <td>EUR</td>\n",
       "    </tr>\n",
       "    <tr>\n",
       "      <th>1</th>\n",
       "      <td>Japan</td>\n",
       "      <td>126045000</td>\n",
       "      <td>377835</td>\n",
       "      <td>4938.0</td>\n",
       "      <td>YEN</td>\n",
       "    </tr>\n",
       "    <tr>\n",
       "      <th>3</th>\n",
       "      <td>Italy</td>\n",
       "      <td>60501718</td>\n",
       "      <td>301338</td>\n",
       "      <td>1850.0</td>\n",
       "      <td>EUR</td>\n",
       "    </tr>\n",
       "  </tbody>\n",
       "</table>\n",
       "</div>"
      ],
      "text/plain": [
       "      Name  Population    Area     GDP Currency\n",
       "0  Germany    82521653  357385  3466.0      EUR\n",
       "1    Japan   126045000  377835  4938.0      YEN\n",
       "3    Italy    60501718  301338  1850.0      EUR"
      ]
     },
     "execution_count": 30,
     "metadata": {},
     "output_type": "execute_result"
    }
   ],
   "source": [
    "#Select all countries where with inhabitants between 50 and 150 Mio\n",
    "\n",
    "df[(df[\"Population\"] > 50000000) & (df[\"Population\"] < 150000000)]"
   ]
  },
  {
   "cell_type": "code",
   "execution_count": 31,
   "id": "af5237d3",
   "metadata": {},
   "outputs": [
    {
     "name": "stdout",
     "output_type": "stream",
     "text": [
      "2387.5\n"
     ]
    }
   ],
   "source": [
    "#Calculate the GDP average (ignore the missing value) \n",
    "gdp_avarag = df['GDP'].mean()\n",
    "\n",
    "print (gdp_avarag)"
   ]
  },
  {
   "cell_type": "code",
   "execution_count": 32,
   "id": "dc05e037",
   "metadata": {},
   "outputs": [
    {
     "name": "stdout",
     "output_type": "stream",
     "text": [
      "2046.4285714285713\n"
     ]
    }
   ],
   "source": [
    "#Calculate the GDP average (missing value treated as 0)\n",
    "gdp_avarag = (df['GDP'].fillna(0).mean())\n",
    "\n",
    "print (gdp_avarag)"
   ]
  },
  {
   "cell_type": "code",
   "execution_count": 33,
   "id": "6d066ea9",
   "metadata": {},
   "outputs": [
    {
     "data": {
      "text/html": [
       "<div>\n",
       "<style scoped>\n",
       "    .dataframe tbody tr th:only-of-type {\n",
       "        vertical-align: middle;\n",
       "    }\n",
       "\n",
       "    .dataframe tbody tr th {\n",
       "        vertical-align: top;\n",
       "    }\n",
       "\n",
       "    .dataframe thead th {\n",
       "        text-align: right;\n",
       "    }\n",
       "</style>\n",
       "<table border=\"1\" class=\"dataframe\">\n",
       "  <thead>\n",
       "    <tr style=\"text-align: right;\">\n",
       "      <th></th>\n",
       "      <th>Name</th>\n",
       "      <th>Population</th>\n",
       "      <th>Area</th>\n",
       "      <th>GDP</th>\n",
       "      <th>Currency</th>\n",
       "      <th>Density</th>\n",
       "    </tr>\n",
       "  </thead>\n",
       "  <tbody>\n",
       "    <tr>\n",
       "      <th>0</th>\n",
       "      <td>Germany</td>\n",
       "      <td>82521653</td>\n",
       "      <td>357385</td>\n",
       "      <td>3466.0</td>\n",
       "      <td>EUR</td>\n",
       "      <td>2.309041e+08</td>\n",
       "    </tr>\n",
       "    <tr>\n",
       "      <th>1</th>\n",
       "      <td>Japan</td>\n",
       "      <td>126045000</td>\n",
       "      <td>377835</td>\n",
       "      <td>4938.0</td>\n",
       "      <td>YEN</td>\n",
       "      <td>3.335980e+08</td>\n",
       "    </tr>\n",
       "    <tr>\n",
       "      <th>2</th>\n",
       "      <td>Canada</td>\n",
       "      <td>36503097</td>\n",
       "      <td>9984670</td>\n",
       "      <td>1529.0</td>\n",
       "      <td>CAD</td>\n",
       "      <td>3.655914e+06</td>\n",
       "    </tr>\n",
       "    <tr>\n",
       "      <th>3</th>\n",
       "      <td>Italy</td>\n",
       "      <td>60501718</td>\n",
       "      <td>301338</td>\n",
       "      <td>1850.0</td>\n",
       "      <td>EUR</td>\n",
       "      <td>2.007769e+08</td>\n",
       "    </tr>\n",
       "    <tr>\n",
       "      <th>4</th>\n",
       "      <td>Brazilia</td>\n",
       "      <td>208360000</td>\n",
       "      <td>8515770</td>\n",
       "      <td>1798.0</td>\n",
       "      <td>REAL</td>\n",
       "      <td>2.446755e+07</td>\n",
       "    </tr>\n",
       "    <tr>\n",
       "      <th>5</th>\n",
       "      <td>Taiwan</td>\n",
       "      <td>23938272</td>\n",
       "      <td>36197</td>\n",
       "      <td>744.0</td>\n",
       "      <td>NTD</td>\n",
       "      <td>6.613330e+08</td>\n",
       "    </tr>\n",
       "    <tr>\n",
       "      <th>6</th>\n",
       "      <td>Venezuela</td>\n",
       "      <td>28208977</td>\n",
       "      <td>912050</td>\n",
       "      <td>NaN</td>\n",
       "      <td>VED</td>\n",
       "      <td>3.092920e+07</td>\n",
       "    </tr>\n",
       "  </tbody>\n",
       "</table>\n",
       "</div>"
      ],
      "text/plain": [
       "        Name  Population     Area     GDP Currency       Density\n",
       "0    Germany    82521653   357385  3466.0      EUR  2.309041e+08\n",
       "1      Japan   126045000   377835  4938.0      YEN  3.335980e+08\n",
       "2     Canada    36503097  9984670  1529.0      CAD  3.655914e+06\n",
       "3      Italy    60501718   301338  1850.0      EUR  2.007769e+08\n",
       "4   Brazilia   208360000  8515770  1798.0     REAL  2.446755e+07\n",
       "5     Taiwan    23938272    36197   744.0      NTD  6.613330e+08\n",
       "6  Venezuela    28208977   912050     NaN      VED  3.092920e+07"
      ]
     },
     "execution_count": 33,
     "metadata": {},
     "output_type": "execute_result"
    }
   ],
   "source": [
    "#Calculate the population density (population/area)  of all countries and add as new column\n",
    "\n",
    "\n",
    "df [\"Density\"] = df[\"Population\"]*1000000 / df[\"Area\"]\n",
    "\n",
    "df"
   ]
  },
  {
   "cell_type": "code",
   "execution_count": 34,
   "id": "9758586f",
   "metadata": {},
   "outputs": [
    {
     "data": {
      "text/html": [
       "<div>\n",
       "<style scoped>\n",
       "    .dataframe tbody tr th:only-of-type {\n",
       "        vertical-align: middle;\n",
       "    }\n",
       "\n",
       "    .dataframe tbody tr th {\n",
       "        vertical-align: top;\n",
       "    }\n",
       "\n",
       "    .dataframe thead th {\n",
       "        text-align: right;\n",
       "    }\n",
       "</style>\n",
       "<table border=\"1\" class=\"dataframe\">\n",
       "  <thead>\n",
       "    <tr style=\"text-align: right;\">\n",
       "      <th></th>\n",
       "      <th>Name</th>\n",
       "      <th>Population</th>\n",
       "      <th>Area</th>\n",
       "      <th>GDP</th>\n",
       "      <th>Currency</th>\n",
       "      <th>Density</th>\n",
       "    </tr>\n",
       "  </thead>\n",
       "  <tbody>\n",
       "    <tr>\n",
       "      <th>4</th>\n",
       "      <td>Brazilia</td>\n",
       "      <td>208360000</td>\n",
       "      <td>8515770</td>\n",
       "      <td>1798.0</td>\n",
       "      <td>REAL</td>\n",
       "      <td>2.446755e+07</td>\n",
       "    </tr>\n",
       "    <tr>\n",
       "      <th>2</th>\n",
       "      <td>Canada</td>\n",
       "      <td>36503097</td>\n",
       "      <td>9984670</td>\n",
       "      <td>1529.0</td>\n",
       "      <td>CAD</td>\n",
       "      <td>3.655914e+06</td>\n",
       "    </tr>\n",
       "    <tr>\n",
       "      <th>0</th>\n",
       "      <td>Germany</td>\n",
       "      <td>82521653</td>\n",
       "      <td>357385</td>\n",
       "      <td>3466.0</td>\n",
       "      <td>EUR</td>\n",
       "      <td>2.309041e+08</td>\n",
       "    </tr>\n",
       "    <tr>\n",
       "      <th>3</th>\n",
       "      <td>Italy</td>\n",
       "      <td>60501718</td>\n",
       "      <td>301338</td>\n",
       "      <td>1850.0</td>\n",
       "      <td>EUR</td>\n",
       "      <td>2.007769e+08</td>\n",
       "    </tr>\n",
       "    <tr>\n",
       "      <th>1</th>\n",
       "      <td>Japan</td>\n",
       "      <td>126045000</td>\n",
       "      <td>377835</td>\n",
       "      <td>4938.0</td>\n",
       "      <td>YEN</td>\n",
       "      <td>3.335980e+08</td>\n",
       "    </tr>\n",
       "    <tr>\n",
       "      <th>5</th>\n",
       "      <td>Taiwan</td>\n",
       "      <td>23938272</td>\n",
       "      <td>36197</td>\n",
       "      <td>744.0</td>\n",
       "      <td>NTD</td>\n",
       "      <td>6.613330e+08</td>\n",
       "    </tr>\n",
       "    <tr>\n",
       "      <th>6</th>\n",
       "      <td>Venezuela</td>\n",
       "      <td>28208977</td>\n",
       "      <td>912050</td>\n",
       "      <td>NaN</td>\n",
       "      <td>VED</td>\n",
       "      <td>3.092920e+07</td>\n",
       "    </tr>\n",
       "  </tbody>\n",
       "</table>\n",
       "</div>"
      ],
      "text/plain": [
       "        Name  Population     Area     GDP Currency       Density\n",
       "4   Brazilia   208360000  8515770  1798.0     REAL  2.446755e+07\n",
       "2     Canada    36503097  9984670  1529.0      CAD  3.655914e+06\n",
       "0    Germany    82521653   357385  3466.0      EUR  2.309041e+08\n",
       "3      Italy    60501718   301338  1850.0      EUR  2.007769e+08\n",
       "1      Japan   126045000   377835  4938.0      YEN  3.335980e+08\n",
       "5     Taiwan    23938272    36197   744.0      NTD  6.613330e+08\n",
       "6  Venezuela    28208977   912050     NaN      VED  3.092920e+07"
      ]
     },
     "execution_count": 34,
     "metadata": {},
     "output_type": "execute_result"
    }
   ],
   "source": [
    "#Sort by country name alphabetically\n",
    "df.sort_values('Name')"
   ]
  },
  {
   "cell_type": "code",
   "execution_count": 35,
   "id": "15264188",
   "metadata": {},
   "outputs": [
    {
     "name": "stdout",
     "output_type": "stream",
     "text": [
      "        Name  Population   Area     GDP Currency       Density\n",
      "0    Germany    82521653  SMALL  3466.0      EUR  2.309041e+08\n",
      "1      Japan   126045000  SMALL  4938.0      YEN  3.335980e+08\n",
      "2     Canada    36503097    BIG  1529.0      CAD  3.655914e+06\n",
      "3      Italy    60501718  SMALL  1850.0      EUR  2.007769e+08\n",
      "4   Brazilia   208360000    BIG  1798.0     REAL  2.446755e+07\n",
      "5     Taiwan    23938272  SMALL   744.0      NTD  6.613330e+08\n",
      "6  Venezuela    28208977  SMALL     NaN      VED  3.092920e+07\n"
     ]
    }
   ],
   "source": [
    "#Create a new data frame from the original where the area is changed: all countries with > 1000000 get BIG and <= 1000000 get SMALL in the cell replaced!\n",
    "\n",
    "df['Area'] = np.where(df['Area'] > 1000000, 'BIG', 'SMALL')\n",
    "print(df)\n",
    "\n",
    "\n"
   ]
  }
 ],
 "metadata": {
  "kernelspec": {
   "display_name": "Python 3",
   "language": "python",
   "name": "python3"
  },
  "language_info": {
   "codemirror_mode": {
    "name": "ipython",
    "version": 3
   },
   "file_extension": ".py",
   "mimetype": "text/x-python",
   "name": "python",
   "nbconvert_exporter": "python",
   "pygments_lexer": "ipython3",
   "version": "3.8.8"
  }
 },
 "nbformat": 4,
 "nbformat_minor": 5
}
