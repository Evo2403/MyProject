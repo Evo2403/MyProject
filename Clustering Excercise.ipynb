{
 "cells": [
  {
   "cell_type": "code",
   "execution_count": 191,
   "id": "43128076",
   "metadata": {},
   "outputs": [],
   "source": [
    "import pandas as pd\n",
    "import numpy as np\n",
    "import matplotlib.pyplot as plt\n",
    "import seaborn as sns\n",
    "from sklearn import metrics\n",
    "from sklearn.cluster import KMeans\n",
    "from sklearn.preprocessing import StandardScaler\n",
    "import scipy.cluster.hierarchy as hcluster\n",
    "from sklearn.cluster import AgglomerativeClustering"
   ]
  },
  {
   "cell_type": "code",
   "execution_count": 192,
   "id": "edb57519",
   "metadata": {},
   "outputs": [],
   "source": [
    "import os\n",
    "os.environ['OMP_NUM_THREADS'] = '1'"
   ]
  },
  {
   "cell_type": "markdown",
   "id": "3aa5199e",
   "metadata": {},
   "source": [
    "Überblick über die Daten"
   ]
  },
  {
   "cell_type": "code",
   "execution_count": 193,
   "id": "75c3ae65",
   "metadata": {},
   "outputs": [
    {
     "data": {
      "text/html": [
       "<div>\n",
       "<style scoped>\n",
       "    .dataframe tbody tr th:only-of-type {\n",
       "        vertical-align: middle;\n",
       "    }\n",
       "\n",
       "    .dataframe tbody tr th {\n",
       "        vertical-align: top;\n",
       "    }\n",
       "\n",
       "    .dataframe thead th {\n",
       "        text-align: right;\n",
       "    }\n",
       "</style>\n",
       "<table border=\"1\" class=\"dataframe\">\n",
       "  <thead>\n",
       "    <tr style=\"text-align: right;\">\n",
       "      <th></th>\n",
       "      <th>country</th>\n",
       "      <th>child_mort</th>\n",
       "      <th>exports</th>\n",
       "      <th>health</th>\n",
       "      <th>imports</th>\n",
       "      <th>income</th>\n",
       "      <th>inflation</th>\n",
       "      <th>life_expec</th>\n",
       "      <th>total_fer</th>\n",
       "      <th>gdpp</th>\n",
       "    </tr>\n",
       "  </thead>\n",
       "  <tbody>\n",
       "    <tr>\n",
       "      <th>0</th>\n",
       "      <td>Mongolia</td>\n",
       "      <td>26.1</td>\n",
       "      <td>46.7</td>\n",
       "      <td>5.44</td>\n",
       "      <td>56.7</td>\n",
       "      <td>7710</td>\n",
       "      <td>39.20</td>\n",
       "      <td>66.2</td>\n",
       "      <td>2.64</td>\n",
       "      <td>2650</td>\n",
       "    </tr>\n",
       "    <tr>\n",
       "      <th>1</th>\n",
       "      <td>Sudan</td>\n",
       "      <td>76.7</td>\n",
       "      <td>19.7</td>\n",
       "      <td>6.32</td>\n",
       "      <td>17.2</td>\n",
       "      <td>3370</td>\n",
       "      <td>19.60</td>\n",
       "      <td>66.3</td>\n",
       "      <td>4.88</td>\n",
       "      <td>1480</td>\n",
       "    </tr>\n",
       "    <tr>\n",
       "      <th>2</th>\n",
       "      <td>Malawi</td>\n",
       "      <td>90.5</td>\n",
       "      <td>22.8</td>\n",
       "      <td>6.59</td>\n",
       "      <td>34.9</td>\n",
       "      <td>1030</td>\n",
       "      <td>12.10</td>\n",
       "      <td>53.1</td>\n",
       "      <td>5.31</td>\n",
       "      <td>459</td>\n",
       "    </tr>\n",
       "    <tr>\n",
       "      <th>3</th>\n",
       "      <td>Belgium</td>\n",
       "      <td>4.5</td>\n",
       "      <td>76.4</td>\n",
       "      <td>10.70</td>\n",
       "      <td>74.7</td>\n",
       "      <td>41100</td>\n",
       "      <td>1.88</td>\n",
       "      <td>80.0</td>\n",
       "      <td>1.86</td>\n",
       "      <td>44400</td>\n",
       "    </tr>\n",
       "    <tr>\n",
       "      <th>4</th>\n",
       "      <td>Congo, Dem. Rep.</td>\n",
       "      <td>116.0</td>\n",
       "      <td>41.1</td>\n",
       "      <td>7.91</td>\n",
       "      <td>49.6</td>\n",
       "      <td>609</td>\n",
       "      <td>20.80</td>\n",
       "      <td>57.5</td>\n",
       "      <td>6.54</td>\n",
       "      <td>334</td>\n",
       "    </tr>\n",
       "  </tbody>\n",
       "</table>\n",
       "</div>"
      ],
      "text/plain": [
       "            country  child_mort  exports  health  imports  income  inflation  \\\n",
       "0          Mongolia        26.1     46.7    5.44     56.7    7710      39.20   \n",
       "1             Sudan        76.7     19.7    6.32     17.2    3370      19.60   \n",
       "2            Malawi        90.5     22.8    6.59     34.9    1030      12.10   \n",
       "3           Belgium         4.5     76.4   10.70     74.7   41100       1.88   \n",
       "4  Congo, Dem. Rep.       116.0     41.1    7.91     49.6     609      20.80   \n",
       "\n",
       "   life_expec  total_fer   gdpp  \n",
       "0        66.2       2.64   2650  \n",
       "1        66.3       4.88   1480  \n",
       "2        53.1       5.31    459  \n",
       "3        80.0       1.86  44400  \n",
       "4        57.5       6.54    334  "
      ]
     },
     "execution_count": 193,
     "metadata": {},
     "output_type": "execute_result"
    }
   ],
   "source": [
    "country = pd.read_csv(\"https://raw.githubusercontent.com/WHPAN0108/BHT-DataScience-S23/main/clustering/data/country.txt\")\n",
    "country.head()"
   ]
  },
  {
   "cell_type": "code",
   "execution_count": 194,
   "id": "f4eb6f7a",
   "metadata": {},
   "outputs": [
    {
     "name": "stdout",
     "output_type": "stream",
     "text": [
      "<class 'pandas.core.frame.DataFrame'>\n",
      "RangeIndex: 151 entries, 0 to 150\n",
      "Data columns (total 10 columns):\n",
      " #   Column      Non-Null Count  Dtype  \n",
      "---  ------      --------------  -----  \n",
      " 0   country     151 non-null    object \n",
      " 1   child_mort  151 non-null    float64\n",
      " 2   exports     151 non-null    float64\n",
      " 3   health      151 non-null    float64\n",
      " 4   imports     151 non-null    float64\n",
      " 5   income      151 non-null    int64  \n",
      " 6   inflation   151 non-null    float64\n",
      " 7   life_expec  151 non-null    float64\n",
      " 8   total_fer   151 non-null    float64\n",
      " 9   gdpp        151 non-null    int64  \n",
      "dtypes: float64(7), int64(2), object(1)\n",
      "memory usage: 11.9+ KB\n"
     ]
    }
   ],
   "source": [
    "country.info()"
   ]
  },
  {
   "cell_type": "markdown",
   "id": "d0f11daa",
   "metadata": {},
   "source": [
    "country: Der Name des Landes (Datentyp: object)\n",
    "child_mort: Die Kindersterblichkeitsrate pro 1000 Geburten (Datentyp: float64)\n",
    "exports: Der Exportanteil am Bruttoinlandsprodukt (Datentyp: float64)\n",
    "health: Der Gesundheitsausgabenanteil am Bruttoinlandsprodukt (Datentyp: float64)\n",
    "imports: Der Importanteil am Bruttoinlandsprodukt (Datentyp: float64)\n",
    "income: Das Durchschnittseinkommen pro Person (Datentyp: int64)\n",
    "inflation: Die Inflationsrate (Datentyp: float64)\n",
    "life_expec: Die Lebenserwartung bei der Geburt (Datentyp: float64)\n",
    "total_fer: Die durchschnittliche Anzahl der Kinder pro Frau (Datentyp: float64)\n",
    "gdpp: Das Bruttoinlandsprodukt pro Kopf (Datentyp: int6)"
   ]
  },
  {
   "cell_type": "code",
   "execution_count": 195,
   "id": "7860dc44",
   "metadata": {
    "scrolled": true
   },
   "outputs": [
    {
     "data": {
      "text/html": [
       "<div>\n",
       "<style scoped>\n",
       "    .dataframe tbody tr th:only-of-type {\n",
       "        vertical-align: middle;\n",
       "    }\n",
       "\n",
       "    .dataframe tbody tr th {\n",
       "        vertical-align: top;\n",
       "    }\n",
       "\n",
       "    .dataframe thead th {\n",
       "        text-align: right;\n",
       "    }\n",
       "</style>\n",
       "<table border=\"1\" class=\"dataframe\">\n",
       "  <thead>\n",
       "    <tr style=\"text-align: right;\">\n",
       "      <th></th>\n",
       "      <th>child_mort</th>\n",
       "      <th>exports</th>\n",
       "      <th>health</th>\n",
       "      <th>imports</th>\n",
       "      <th>income</th>\n",
       "      <th>inflation</th>\n",
       "      <th>life_expec</th>\n",
       "      <th>total_fer</th>\n",
       "      <th>gdpp</th>\n",
       "    </tr>\n",
       "  </thead>\n",
       "  <tbody>\n",
       "    <tr>\n",
       "      <th>count</th>\n",
       "      <td>151.000000</td>\n",
       "      <td>151.000000</td>\n",
       "      <td>151.000000</td>\n",
       "      <td>151.000000</td>\n",
       "      <td>151.000000</td>\n",
       "      <td>151.000000</td>\n",
       "      <td>151.000000</td>\n",
       "      <td>151.000000</td>\n",
       "      <td>151.000000</td>\n",
       "    </tr>\n",
       "    <tr>\n",
       "      <th>mean</th>\n",
       "      <td>37.905960</td>\n",
       "      <td>40.447013</td>\n",
       "      <td>6.790530</td>\n",
       "      <td>46.351430</td>\n",
       "      <td>17899.423841</td>\n",
       "      <td>7.857536</td>\n",
       "      <td>70.774172</td>\n",
       "      <td>2.934305</td>\n",
       "      <td>13636.324503</td>\n",
       "    </tr>\n",
       "    <tr>\n",
       "      <th>std</th>\n",
       "      <td>40.749021</td>\n",
       "      <td>28.196914</td>\n",
       "      <td>2.781353</td>\n",
       "      <td>24.614163</td>\n",
       "      <td>19801.730058</td>\n",
       "      <td>10.973978</td>\n",
       "      <td>9.011529</td>\n",
       "      <td>1.512132</td>\n",
       "      <td>18766.269648</td>\n",
       "    </tr>\n",
       "    <tr>\n",
       "      <th>min</th>\n",
       "      <td>2.600000</td>\n",
       "      <td>0.109000</td>\n",
       "      <td>1.810000</td>\n",
       "      <td>0.065900</td>\n",
       "      <td>609.000000</td>\n",
       "      <td>-4.210000</td>\n",
       "      <td>32.100000</td>\n",
       "      <td>1.150000</td>\n",
       "      <td>231.000000</td>\n",
       "    </tr>\n",
       "    <tr>\n",
       "      <th>25%</th>\n",
       "      <td>7.850000</td>\n",
       "      <td>22.800000</td>\n",
       "      <td>4.850000</td>\n",
       "      <td>29.950000</td>\n",
       "      <td>3850.000000</td>\n",
       "      <td>1.730000</td>\n",
       "      <td>65.450000</td>\n",
       "      <td>1.820000</td>\n",
       "      <td>1485.000000</td>\n",
       "    </tr>\n",
       "    <tr>\n",
       "      <th>50%</th>\n",
       "      <td>19.100000</td>\n",
       "      <td>34.800000</td>\n",
       "      <td>6.220000</td>\n",
       "      <td>43.000000</td>\n",
       "      <td>10400.000000</td>\n",
       "      <td>5.140000</td>\n",
       "      <td>73.400000</td>\n",
       "      <td>2.410000</td>\n",
       "      <td>5020.000000</td>\n",
       "    </tr>\n",
       "    <tr>\n",
       "      <th>75%</th>\n",
       "      <td>60.400000</td>\n",
       "      <td>50.950000</td>\n",
       "      <td>8.690000</td>\n",
       "      <td>57.500000</td>\n",
       "      <td>26200.000000</td>\n",
       "      <td>10.350000</td>\n",
       "      <td>77.000000</td>\n",
       "      <td>3.750000</td>\n",
       "      <td>16850.000000</td>\n",
       "    </tr>\n",
       "    <tr>\n",
       "      <th>max</th>\n",
       "      <td>208.000000</td>\n",
       "      <td>200.000000</td>\n",
       "      <td>17.900000</td>\n",
       "      <td>174.000000</td>\n",
       "      <td>125000.000000</td>\n",
       "      <td>104.000000</td>\n",
       "      <td>82.800000</td>\n",
       "      <td>7.490000</td>\n",
       "      <td>105000.000000</td>\n",
       "    </tr>\n",
       "  </tbody>\n",
       "</table>\n",
       "</div>"
      ],
      "text/plain": [
       "       child_mort     exports      health     imports         income  \\\n",
       "count  151.000000  151.000000  151.000000  151.000000     151.000000   \n",
       "mean    37.905960   40.447013    6.790530   46.351430   17899.423841   \n",
       "std     40.749021   28.196914    2.781353   24.614163   19801.730058   \n",
       "min      2.600000    0.109000    1.810000    0.065900     609.000000   \n",
       "25%      7.850000   22.800000    4.850000   29.950000    3850.000000   \n",
       "50%     19.100000   34.800000    6.220000   43.000000   10400.000000   \n",
       "75%     60.400000   50.950000    8.690000   57.500000   26200.000000   \n",
       "max    208.000000  200.000000   17.900000  174.000000  125000.000000   \n",
       "\n",
       "        inflation  life_expec   total_fer           gdpp  \n",
       "count  151.000000  151.000000  151.000000     151.000000  \n",
       "mean     7.857536   70.774172    2.934305   13636.324503  \n",
       "std     10.973978    9.011529    1.512132   18766.269648  \n",
       "min     -4.210000   32.100000    1.150000     231.000000  \n",
       "25%      1.730000   65.450000    1.820000    1485.000000  \n",
       "50%      5.140000   73.400000    2.410000    5020.000000  \n",
       "75%     10.350000   77.000000    3.750000   16850.000000  \n",
       "max    104.000000   82.800000    7.490000  105000.000000  "
      ]
     },
     "execution_count": 195,
     "metadata": {},
     "output_type": "execute_result"
    }
   ],
   "source": [
    "country.describe()"
   ]
  },
  {
   "cell_type": "code",
   "execution_count": 196,
   "id": "167aeb41",
   "metadata": {},
   "outputs": [
    {
     "data": {
      "text/plain": [
       "country       0\n",
       "child_mort    0\n",
       "exports       0\n",
       "health        0\n",
       "imports       0\n",
       "income        0\n",
       "inflation     0\n",
       "life_expec    0\n",
       "total_fer     0\n",
       "gdpp          0\n",
       "dtype: int64"
      ]
     },
     "execution_count": 196,
     "metadata": {},
     "output_type": "execute_result"
    }
   ],
   "source": [
    "country.isnull().sum()"
   ]
  },
  {
   "cell_type": "code",
   "execution_count": 197,
   "id": "ac12565e",
   "metadata": {},
   "outputs": [],
   "source": [
    "#Da wir die Technik des unüberwachten Lernens verwenden werden,\n",
    "#brauchen wir die Länderspalte hier nicht, also lassen wir sie weg.\n",
    "country_df=country.drop(['country'],axis=1)"
   ]
  },
  {
   "cell_type": "code",
   "execution_count": 198,
   "id": "7a9c5ca8",
   "metadata": {},
   "outputs": [
    {
     "data": {
      "text/plain": [
       "<AxesSubplot:>"
      ]
     },
     "execution_count": 198,
     "metadata": {},
     "output_type": "execute_result"
    },
    {
     "data": {
      "image/png": "[encoded data removed]",
      "text/plain": [
       "<Figure size 432x288 with 2 Axes>"
      ]
     },
     "metadata": {
      "needs_background": "light"
     },
     "output_type": "display_data"
    }
   ],
   "source": [
    "#Korrelationsmatrix \n",
    "corr_matrix=country_df.corr()\n",
    "sns.heatmap(corr_matrix,annot=True)\n",
    "\n"
   ]
  },
  {
   "cell_type": "markdown",
   "id": "e05e0fb2",
   "metadata": {},
   "source": [
    "In diesem Kontext bedeutet das, dass es eine starke positive Korrelation zwischen dem Bruttoinlandsprodukt (BIP) und dem Einkommen, den Importen und Exporten sowie der Kindersterblichkeit (child_mort) und der Gesamtfruchtbarkeitsrate (total_fert) gibt. Das bedeutet, dass diese Variablen tendenziell in die gleiche Richtung variieren.\n",
    "\n",
    "Wenn das BIP steigt, steigt auch das Einkommen, die Importe und Exporte sowie die Kindersterblichkeit und die Gesamtfruchtbarkeitsrate. Wenn das BIP sinkt, sinken auch diese Variablen.\n",
    "\n",
    "Auf der anderen Seite gibt es eine starke negative Korrelation zwischen der Lebenserwartung (life_expec) und der Kindersterblichkeit. Das bedeutet, dass diese Variablen dazu neigen, sich in entgegengesetzte Richtungen zu bewegen.\n",
    "\n",
    "Wenn die Kindersterblichkeit hoch ist, ist die Lebenserwartung in der Regel niedrig. Wenn die Kindersterblichkeit niedrig ist, steigt die Lebenserwartung in der RegeWenn die Kindersterblichkeit niedrig ist, steigt die Lebenserwartung in der Regel.\n",
    "\n",
    "Diese Korrelationsbeziehungen können auf sozioökonomische Zusammenhänge in einem Land oder einer Region hinweisen. Eine höhere wirtschaftliche Entwicklung (gemessen am BIP und Einkommen) geht oft mit niedrigerer Kindersterblichkeit und niedrigerer Gesamtfruchtbarkeitsrate einher. Gleichzeitig deutet eine höhere Lebenserwartung auf eine bessere Gesundheitsversorgung und Lebensbedingungen hin, was zu einer niedrigeren Kindersterblichkeit führt.\n"
   ]
  },
  {
   "cell_type": "markdown",
   "id": "ef675917",
   "metadata": {},
   "source": [
    "# 1. use K-means clustering and Hierarchical clustering to cluster the country into groups."
   ]
  },
  {
   "cell_type": "markdown",
   "id": "78689670",
   "metadata": {},
   "source": [
    "Im ersten Schritt muss eine Skalierung durchgweführt werden, da sie für die Algorithem K-means Clustering und Hierarchical Clustering erforderlich ist,weil diese Algorithmen auf Entfernung basieren.\n",
    "Es wird die StandardScaler-Bibliothek verwendet.\n",
    "StandardScaler transformiert die Daten so, dass der Mittelwert 0 und die Varianz 1 ist.\n"
   ]
  },
  {
   "cell_type": "code",
   "execution_count": 199,
   "id": "cdfe5b5a",
   "metadata": {},
   "outputs": [],
   "source": [
    "scaling=StandardScaler()\n",
    "scaled=scaling.fit_transform(country_df)"
   ]
  },
  {
   "cell_type": "code",
   "execution_count": 200,
   "id": "98776dbc",
   "metadata": {},
   "outputs": [
    {
     "data": {
      "text/html": [
       "<div>\n",
       "<style scoped>\n",
       "    .dataframe tbody tr th:only-of-type {\n",
       "        vertical-align: middle;\n",
       "    }\n",
       "\n",
       "    .dataframe tbody tr th {\n",
       "        vertical-align: top;\n",
       "    }\n",
       "\n",
       "    .dataframe thead th {\n",
       "        text-align: right;\n",
       "    }\n",
       "</style>\n",
       "<table border=\"1\" class=\"dataframe\">\n",
       "  <thead>\n",
       "    <tr style=\"text-align: right;\">\n",
       "      <th></th>\n",
       "      <th>child_mort</th>\n",
       "      <th>exports</th>\n",
       "      <th>health</th>\n",
       "      <th>imports</th>\n",
       "      <th>income</th>\n",
       "      <th>inflation</th>\n",
       "      <th>life_expec</th>\n",
       "      <th>total_fer</th>\n",
       "      <th>gdpp</th>\n",
       "    </tr>\n",
       "  </thead>\n",
       "  <tbody>\n",
       "    <tr>\n",
       "      <th>0</th>\n",
       "      <td>-0.290688</td>\n",
       "      <td>0.222499</td>\n",
       "      <td>-0.487182</td>\n",
       "      <td>0.421831</td>\n",
       "      <td>-0.516285</td>\n",
       "      <td>2.865576</td>\n",
       "      <td>-0.509280</td>\n",
       "      <td>-0.195277</td>\n",
       "      <td>-0.587378</td>\n",
       "    </tr>\n",
       "    <tr>\n",
       "      <th>1</th>\n",
       "      <td>0.955192</td>\n",
       "      <td>-0.738239</td>\n",
       "      <td>-0.169736</td>\n",
       "      <td>-1.188277</td>\n",
       "      <td>-0.736187</td>\n",
       "      <td>1.073589</td>\n",
       "      <td>-0.498146</td>\n",
       "      <td>1.291005</td>\n",
       "      <td>-0.649931</td>\n",
       "    </tr>\n",
       "    <tr>\n",
       "      <th>2</th>\n",
       "      <td>1.294977</td>\n",
       "      <td>-0.627932</td>\n",
       "      <td>-0.072338</td>\n",
       "      <td>-0.466786</td>\n",
       "      <td>-0.854752</td>\n",
       "      <td>0.387880</td>\n",
       "      <td>-1.967811</td>\n",
       "      <td>1.576318</td>\n",
       "      <td>-0.704518</td>\n",
       "    </tr>\n",
       "    <tr>\n",
       "      <th>3</th>\n",
       "      <td>-0.822526</td>\n",
       "      <td>1.279311</td>\n",
       "      <td>1.410278</td>\n",
       "      <td>1.155551</td>\n",
       "      <td>1.175543</td>\n",
       "      <td>-0.546514</td>\n",
       "      <td>1.027187</td>\n",
       "      <td>-0.712821</td>\n",
       "      <td>1.644762</td>\n",
       "    </tr>\n",
       "    <tr>\n",
       "      <th>4</th>\n",
       "      <td>1.922842</td>\n",
       "      <td>0.023235</td>\n",
       "      <td>0.403831</td>\n",
       "      <td>0.132419</td>\n",
       "      <td>-0.876083</td>\n",
       "      <td>1.183302</td>\n",
       "      <td>-1.477923</td>\n",
       "      <td>2.392446</td>\n",
       "      <td>-0.711201</td>\n",
       "    </tr>\n",
       "  </tbody>\n",
       "</table>\n",
       "</div>"
      ],
      "text/plain": [
       "   child_mort   exports    health   imports    income  inflation  life_expec  \\\n",
       "0   -0.290688  0.222499 -0.487182  0.421831 -0.516285   2.865576   -0.509280   \n",
       "1    0.955192 -0.738239 -0.169736 -1.188277 -0.736187   1.073589   -0.498146   \n",
       "2    1.294977 -0.627932 -0.072338 -0.466786 -0.854752   0.387880   -1.967811   \n",
       "3   -0.822526  1.279311  1.410278  1.155551  1.175543  -0.546514    1.027187   \n",
       "4    1.922842  0.023235  0.403831  0.132419 -0.876083   1.183302   -1.477923   \n",
       "\n",
       "   total_fer      gdpp  \n",
       "0  -0.195277 -0.587378  \n",
       "1   1.291005 -0.649931  \n",
       "2   1.576318 -0.704518  \n",
       "3  -0.712821  1.644762  \n",
       "4   2.392446 -0.711201  "
      ]
     },
     "execution_count": 200,
     "metadata": {},
     "output_type": "execute_result"
    }
   ],
   "source": [
    "scaled_country=pd.DataFrame(scaled,columns=country_df.columns)\n",
    "\n",
    "# ausgabe skalirte daten\n",
    "scaled_country.head()"
   ]
  },
  {
   "cell_type": "markdown",
   "id": "8ebcbaa0",
   "metadata": {},
   "source": [
    "### K-means Clustering "
   ]
  },
  {
   "cell_type": "markdown",
   "id": "9fa511c2",
   "metadata": {},
   "source": [
    "K-means Clustering ist ein häufig verwendetes Clustering-Verfahren, das die Beobachtungen in k vordefinierte Cluster einteilt. Um zu entscheiden, wie viele Cluster in Frage kommen, verwenden wir die Ellbogenmethode"
   ]
  },
  {
   "cell_type": "code",
   "execution_count": 201,
   "id": "70ab9440",
   "metadata": {},
   "outputs": [
    {
     "name": "stderr",
     "output_type": "stream",
     "text": [
      "C:\\Users\\elena\\anaconda3\\lib\\site-packages\\sklearn\\cluster\\_kmeans.py:1334: UserWarning: KMeans is known to have a memory leak on Windows with MKL, when there are less chunks than available threads. You can avoid it by setting the environment variable OMP_NUM_THREADS=1.\n",
      "  warnings.warn(\n",
      "C:\\Users\\elena\\anaconda3\\lib\\site-packages\\sklearn\\cluster\\_kmeans.py:1334: UserWarning: KMeans is known to have a memory leak on Windows with MKL, when there are less chunks than available threads. You can avoid it by setting the environment variable OMP_NUM_THREADS=1.\n",
      "  warnings.warn(\n",
      "C:\\Users\\elena\\anaconda3\\lib\\site-packages\\sklearn\\cluster\\_kmeans.py:1334: UserWarning: KMeans is known to have a memory leak on Windows with MKL, when there are less chunks than available threads. You can avoid it by setting the environment variable OMP_NUM_THREADS=1.\n",
      "  warnings.warn(\n",
      "C:\\Users\\elena\\anaconda3\\lib\\site-packages\\sklearn\\cluster\\_kmeans.py:1334: UserWarning: KMeans is known to have a memory leak on Windows with MKL, when there are less chunks than available threads. You can avoid it by setting the environment variable OMP_NUM_THREADS=1.\n",
      "  warnings.warn(\n",
      "C:\\Users\\elena\\anaconda3\\lib\\site-packages\\sklearn\\cluster\\_kmeans.py:1334: UserWarning: KMeans is known to have a memory leak on Windows with MKL, when there are less chunks than available threads. You can avoid it by setting the environment variable OMP_NUM_THREADS=1.\n",
      "  warnings.warn(\n",
      "C:\\Users\\elena\\anaconda3\\lib\\site-packages\\sklearn\\cluster\\_kmeans.py:1334: UserWarning: KMeans is known to have a memory leak on Windows with MKL, when there are less chunks than available threads. You can avoid it by setting the environment variable OMP_NUM_THREADS=1.\n",
      "  warnings.warn(\n",
      "C:\\Users\\elena\\anaconda3\\lib\\site-packages\\sklearn\\cluster\\_kmeans.py:1334: UserWarning: KMeans is known to have a memory leak on Windows with MKL, when there are less chunks than available threads. You can avoid it by setting the environment variable OMP_NUM_THREADS=1.\n",
      "  warnings.warn(\n",
      "C:\\Users\\elena\\anaconda3\\lib\\site-packages\\sklearn\\cluster\\_kmeans.py:1334: UserWarning: KMeans is known to have a memory leak on Windows with MKL, when there are less chunks than available threads. You can avoid it by setting the environment variable OMP_NUM_THREADS=1.\n",
      "  warnings.warn(\n",
      "C:\\Users\\elena\\anaconda3\\lib\\site-packages\\sklearn\\cluster\\_kmeans.py:1334: UserWarning: KMeans is known to have a memory leak on Windows with MKL, when there are less chunks than available threads. You can avoid it by setting the environment variable OMP_NUM_THREADS=1.\n",
      "  warnings.warn(\n"
     ]
    },
    {
     "data": {
      "image/png": "[encoded data removed]",
      "text/plain": [
       "<Figure size 432x288 with 1 Axes>"
      ]
     },
     "metadata": {
      "needs_background": "light"
     },
     "output_type": "display_data"
    }
   ],
   "source": [
    "# Ellenbogenkurve zeichnen\n",
    "\n",
    "a=[]\n",
    "K=range(1,10)\n",
    "for i in K:\n",
    "    kmean=KMeans(n_clusters=i)\n",
    "    kmean.fit(country_df)\n",
    "    a.append(kmean.inertia_)\n",
    "    \n",
    "plt.plot(K,a,marker='o')\n",
    "plt.title('Elbow Method',fontsize=15)\n",
    "plt.xlabel('Number of clusters',fontsize=15)\n",
    "plt.ylabel('Sum of Squared distance',fontsize=15)\n",
    "plt.show()"
   ]
  },
  {
   "cell_type": "markdown",
   "id": "b0e53bc9",
   "metadata": {},
   "source": [
    "der Ellbogen liegt bei 3. Also wird 3 als Anzahl der Cluster gewählt"
   ]
  },
  {
   "cell_type": "code",
   "execution_count": 202,
   "id": "092a8491",
   "metadata": {},
   "outputs": [
    {
     "name": "stderr",
     "output_type": "stream",
     "text": [
      "C:\\Users\\elena\\anaconda3\\lib\\site-packages\\sklearn\\cluster\\_kmeans.py:1334: UserWarning: KMeans is known to have a memory leak on Windows with MKL, when there are less chunks than available threads. You can avoid it by setting the environment variable OMP_NUM_THREADS=1.\n",
      "  warnings.warn(\n"
     ]
    },
    {
     "data": {
      "text/html": [
       "<style>#sk-container-id-17 {color: black;background-color: white;}#sk-container-id-17 pre{padding: 0;}#sk-container-id-17 div.sk-toggleable {background-color: white;}#sk-container-id-17 label.sk-toggleable__label {cursor: pointer;display: block;width: 100%;margin-bottom: 0;padding: 0.3em;box-sizing: border-box;text-align: center;}#sk-container-id-17 label.sk-toggleable__label-arrow:before {content: \"▸\";float: left;margin-right: 0.25em;color: #696969;}#sk-container-id-17 label.sk-toggleable__label-arrow:hover:before {color: black;}#sk-container-id-17 div.sk-estimator:hover label.sk-toggleable__label-arrow:before {color: black;}#sk-container-id-17 div.sk-toggleable__content {max-height: 0;max-width: 0;overflow: hidden;text-align: left;background-color: #f0f8ff;}#sk-container-id-17 div.sk-toggleable__content pre {margin: 0.2em;color: black;border-radius: 0.25em;background-color: #f0f8ff;}#sk-container-id-17 input.sk-toggleable__control:checked~div.sk-toggleable__content {max-height: 200px;max-width: 100%;overflow: auto;}#sk-container-id-17 input.sk-toggleable__control:checked~label.sk-toggleable__label-arrow:before {content: \"▾\";}#sk-container-id-17 div.sk-estimator input.sk-toggleable__control:checked~label.sk-toggleable__label {background-color: #d4ebff;}#sk-container-id-17 div.sk-label input.sk-toggleable__control:checked~label.sk-toggleable__label {background-color: #d4ebff;}#sk-container-id-17 input.sk-hidden--visually {border: 0;clip: rect(1px 1px 1px 1px);clip: rect(1px, 1px, 1px, 1px);height: 1px;margin: -1px;overflow: hidden;padding: 0;position: absolute;width: 1px;}#sk-container-id-17 div.sk-estimator {font-family: monospace;background-color: #f0f8ff;border: 1px dotted black;border-radius: 0.25em;box-sizing: border-box;margin-bottom: 0.5em;}#sk-container-id-17 div.sk-estimator:hover {background-color: #d4ebff;}#sk-container-id-17 div.sk-parallel-item::after {content: \"\";width: 100%;border-bottom: 1px solid gray;flex-grow: 1;}#sk-container-id-17 div.sk-label:hover label.sk-toggleable__label {background-color: #d4ebff;}#sk-container-id-17 div.sk-serial::before {content: \"\";position: absolute;border-left: 1px solid gray;box-sizing: border-box;top: 0;bottom: 0;left: 50%;z-index: 0;}#sk-container-id-17 div.sk-serial {display: flex;flex-direction: column;align-items: center;background-color: white;padding-right: 0.2em;padding-left: 0.2em;position: relative;}#sk-container-id-17 div.sk-item {position: relative;z-index: 1;}#sk-container-id-17 div.sk-parallel {display: flex;align-items: stretch;justify-content: center;background-color: white;position: relative;}#sk-container-id-17 div.sk-item::before, #sk-container-id-17 div.sk-parallel-item::before {content: \"\";position: absolute;border-left: 1px solid gray;box-sizing: border-box;top: 0;bottom: 0;left: 50%;z-index: -1;}#sk-container-id-17 div.sk-parallel-item {display: flex;flex-direction: column;z-index: 1;position: relative;background-color: white;}#sk-container-id-17 div.sk-parallel-item:first-child::after {align-self: flex-end;width: 50%;}#sk-container-id-17 div.sk-parallel-item:last-child::after {align-self: flex-start;width: 50%;}#sk-container-id-17 div.sk-parallel-item:only-child::after {width: 0;}#sk-container-id-17 div.sk-dashed-wrapped {border: 1px dashed gray;margin: 0 0.4em 0.5em 0.4em;box-sizing: border-box;padding-bottom: 0.4em;background-color: white;}#sk-container-id-17 div.sk-label label {font-family: monospace;font-weight: bold;display: inline-block;line-height: 1.2em;}#sk-container-id-17 div.sk-label-container {text-align: center;}#sk-container-id-17 div.sk-container {/* jupyter's `normalize.less` sets `[hidden] { display: none; }` but bootstrap.min.css set `[hidden] { display: none !important; }` so we also need the `!important` here to be able to override the default hidden behavior on the sphinx rendered scikit-learn.org. See: https://github.com/scikit-learn/scikit-learn/issues/21755 */display: inline-block !important;position: relative;}#sk-container-id-17 div.sk-text-repr-fallback {display: none;}</style><div id=\"sk-container-id-17\" class=\"sk-top-container\"><div class=\"sk-text-repr-fallback\"><pre>KMeans(n_clusters=3, random_state=111)</pre><b>In a Jupyter environment, please rerun this cell to show the HTML representation or trust the notebook. <br />On GitHub, the HTML representation is unable to render, please try loading this page with nbviewer.org.</b></div><div class=\"sk-container\" hidden><div class=\"sk-item\"><div class=\"sk-estimator sk-toggleable\"><input class=\"sk-toggleable__control sk-hidden--visually\" id=\"sk-estimator-id-17\" type=\"checkbox\" checked><label for=\"sk-estimator-id-17\" class=\"sk-toggleable__label sk-toggleable__label-arrow\">KMeans</label><div class=\"sk-toggleable__content\"><pre>KMeans(n_clusters=3, random_state=111)</pre></div></div></div></div></div>"
      ],
      "text/plain": [
       "KMeans(n_clusters=3, random_state=111)"
      ]
     },
     "execution_count": 202,
     "metadata": {},
     "output_type": "execute_result"
    }
   ],
   "source": [
    "##der Ellbogen liegt bei 3. Also wird 3 als Anzahl der Cluster gewählt\n",
    "#Auswahl von 3 Klustern\n",
    "kmeans = KMeans(n_clusters = 3,random_state = 111)\n",
    "kmeans.fit(scaled_country)"
   ]
  },
  {
   "cell_type": "code",
   "execution_count": 203,
   "id": "02a00cb3",
   "metadata": {},
   "outputs": [
    {
     "data": {
      "text/plain": [
       "2    74\n",
       "1    42\n",
       "0    35\n",
       "dtype: int64"
      ]
     },
     "execution_count": 203,
     "metadata": {},
     "output_type": "execute_result"
    }
   ],
   "source": [
    "#Anzahl der Datensätze in den einzelnen Clustern\n",
    "pd.Series(kmeans.labels_).value_counts()\n",
    "\n"
   ]
  },
  {
   "cell_type": "code",
   "execution_count": 204,
   "id": "57e37168",
   "metadata": {},
   "outputs": [
    {
     "data": {
      "text/plain": [
       "0.2779707425557981"
      ]
     },
     "execution_count": 204,
     "metadata": {},
     "output_type": "execute_result"
    }
   ],
   "source": [
    "#Überprüfung, wie gut unser Modell ist.\n",
    "#Berechnung des Silhouettenkoeffizienten für K=3\n",
    "\n",
    "metrics.silhouette_score(scaled_country, kmeans.labels_)\n",
    "\n",
    "# bei der überprüfung mit 2 klustern wurden schlechteren ergebnisse erziehlt"
   ]
  },
  {
   "cell_type": "markdown",
   "id": "cebbc60c",
   "metadata": {},
   "source": [
    "Der Silhouettenkoeffizient ist 0.2779707425557981, was darauf hindeutet ein dass die Clusterbildung insgesamt akzeptabel ist, aber es möglicherweise Raum für Verbesserungen gibt. "
   ]
  },
  {
   "cell_type": "code",
   "execution_count": 205,
   "id": "95df76db",
   "metadata": {},
   "outputs": [
    {
     "name": "stderr",
     "output_type": "stream",
     "text": [
      "C:\\Users\\elena\\anaconda3\\lib\\site-packages\\sklearn\\cluster\\_kmeans.py:1334: UserWarning: KMeans is known to have a memory leak on Windows with MKL, when there are less chunks than available threads. You can avoid it by setting the environment variable OMP_NUM_THREADS=1.\n",
      "  warnings.warn(\n"
     ]
    }
   ],
   "source": [
    "#Vorhersage\n",
    "\n",
    "cluster_labels = kmeans.fit_predict(scaled_country)"
   ]
  },
  {
   "cell_type": "code",
   "execution_count": 206,
   "id": "c8f5d7a2",
   "metadata": {},
   "outputs": [
    {
     "data": {
      "text/html": [
       "<div>\n",
       "<style scoped>\n",
       "    .dataframe tbody tr th:only-of-type {\n",
       "        vertical-align: middle;\n",
       "    }\n",
       "\n",
       "    .dataframe tbody tr th {\n",
       "        vertical-align: top;\n",
       "    }\n",
       "\n",
       "    .dataframe thead th {\n",
       "        text-align: right;\n",
       "    }\n",
       "</style>\n",
       "<table border=\"1\" class=\"dataframe\">\n",
       "  <thead>\n",
       "    <tr style=\"text-align: right;\">\n",
       "      <th></th>\n",
       "      <th>country</th>\n",
       "      <th>child_mort</th>\n",
       "      <th>exports</th>\n",
       "      <th>health</th>\n",
       "      <th>imports</th>\n",
       "      <th>income</th>\n",
       "      <th>inflation</th>\n",
       "      <th>life_expec</th>\n",
       "      <th>total_fer</th>\n",
       "      <th>gdpp</th>\n",
       "      <th>KMeans_Clusters</th>\n",
       "    </tr>\n",
       "  </thead>\n",
       "  <tbody>\n",
       "    <tr>\n",
       "      <th>0</th>\n",
       "      <td>Mongolia</td>\n",
       "      <td>26.1</td>\n",
       "      <td>46.7</td>\n",
       "      <td>5.44</td>\n",
       "      <td>56.7</td>\n",
       "      <td>7710</td>\n",
       "      <td>39.20</td>\n",
       "      <td>66.2</td>\n",
       "      <td>2.64</td>\n",
       "      <td>2650</td>\n",
       "      <td>2</td>\n",
       "    </tr>\n",
       "    <tr>\n",
       "      <th>1</th>\n",
       "      <td>Sudan</td>\n",
       "      <td>76.7</td>\n",
       "      <td>19.7</td>\n",
       "      <td>6.32</td>\n",
       "      <td>17.2</td>\n",
       "      <td>3370</td>\n",
       "      <td>19.60</td>\n",
       "      <td>66.3</td>\n",
       "      <td>4.88</td>\n",
       "      <td>1480</td>\n",
       "      <td>1</td>\n",
       "    </tr>\n",
       "    <tr>\n",
       "      <th>2</th>\n",
       "      <td>Malawi</td>\n",
       "      <td>90.5</td>\n",
       "      <td>22.8</td>\n",
       "      <td>6.59</td>\n",
       "      <td>34.9</td>\n",
       "      <td>1030</td>\n",
       "      <td>12.10</td>\n",
       "      <td>53.1</td>\n",
       "      <td>5.31</td>\n",
       "      <td>459</td>\n",
       "      <td>1</td>\n",
       "    </tr>\n",
       "    <tr>\n",
       "      <th>3</th>\n",
       "      <td>Belgium</td>\n",
       "      <td>4.5</td>\n",
       "      <td>76.4</td>\n",
       "      <td>10.70</td>\n",
       "      <td>74.7</td>\n",
       "      <td>41100</td>\n",
       "      <td>1.88</td>\n",
       "      <td>80.0</td>\n",
       "      <td>1.86</td>\n",
       "      <td>44400</td>\n",
       "      <td>0</td>\n",
       "    </tr>\n",
       "    <tr>\n",
       "      <th>4</th>\n",
       "      <td>Congo, Dem. Rep.</td>\n",
       "      <td>116.0</td>\n",
       "      <td>41.1</td>\n",
       "      <td>7.91</td>\n",
       "      <td>49.6</td>\n",
       "      <td>609</td>\n",
       "      <td>20.80</td>\n",
       "      <td>57.5</td>\n",
       "      <td>6.54</td>\n",
       "      <td>334</td>\n",
       "      <td>1</td>\n",
       "    </tr>\n",
       "    <tr>\n",
       "      <th>5</th>\n",
       "      <td>United States</td>\n",
       "      <td>7.3</td>\n",
       "      <td>12.4</td>\n",
       "      <td>17.90</td>\n",
       "      <td>15.8</td>\n",
       "      <td>49400</td>\n",
       "      <td>1.22</td>\n",
       "      <td>78.7</td>\n",
       "      <td>1.93</td>\n",
       "      <td>48400</td>\n",
       "      <td>0</td>\n",
       "    </tr>\n",
       "    <tr>\n",
       "      <th>6</th>\n",
       "      <td>Bolivia</td>\n",
       "      <td>46.6</td>\n",
       "      <td>41.2</td>\n",
       "      <td>4.84</td>\n",
       "      <td>34.3</td>\n",
       "      <td>5410</td>\n",
       "      <td>8.78</td>\n",
       "      <td>71.6</td>\n",
       "      <td>3.20</td>\n",
       "      <td>1980</td>\n",
       "      <td>2</td>\n",
       "    </tr>\n",
       "    <tr>\n",
       "      <th>7</th>\n",
       "      <td>Turkey</td>\n",
       "      <td>19.1</td>\n",
       "      <td>20.4</td>\n",
       "      <td>6.74</td>\n",
       "      <td>25.5</td>\n",
       "      <td>18000</td>\n",
       "      <td>7.01</td>\n",
       "      <td>78.2</td>\n",
       "      <td>2.15</td>\n",
       "      <td>10700</td>\n",
       "      <td>2</td>\n",
       "    </tr>\n",
       "    <tr>\n",
       "      <th>8</th>\n",
       "      <td>Georgia</td>\n",
       "      <td>16.5</td>\n",
       "      <td>35.0</td>\n",
       "      <td>10.10</td>\n",
       "      <td>52.8</td>\n",
       "      <td>6730</td>\n",
       "      <td>8.55</td>\n",
       "      <td>72.8</td>\n",
       "      <td>1.92</td>\n",
       "      <td>2960</td>\n",
       "      <td>2</td>\n",
       "    </tr>\n",
       "    <tr>\n",
       "      <th>9</th>\n",
       "      <td>Lesotho</td>\n",
       "      <td>99.7</td>\n",
       "      <td>39.4</td>\n",
       "      <td>11.10</td>\n",
       "      <td>101.0</td>\n",
       "      <td>2380</td>\n",
       "      <td>4.15</td>\n",
       "      <td>46.5</td>\n",
       "      <td>3.30</td>\n",
       "      <td>1170</td>\n",
       "      <td>1</td>\n",
       "    </tr>\n",
       "  </tbody>\n",
       "</table>\n",
       "</div>"
      ],
      "text/plain": [
       "            country  child_mort  exports  health  imports  income  inflation  \\\n",
       "0          Mongolia        26.1     46.7    5.44     56.7    7710      39.20   \n",
       "1             Sudan        76.7     19.7    6.32     17.2    3370      19.60   \n",
       "2            Malawi        90.5     22.8    6.59     34.9    1030      12.10   \n",
       "3           Belgium         4.5     76.4   10.70     74.7   41100       1.88   \n",
       "4  Congo, Dem. Rep.       116.0     41.1    7.91     49.6     609      20.80   \n",
       "5     United States         7.3     12.4   17.90     15.8   49400       1.22   \n",
       "6           Bolivia        46.6     41.2    4.84     34.3    5410       8.78   \n",
       "7            Turkey        19.1     20.4    6.74     25.5   18000       7.01   \n",
       "8           Georgia        16.5     35.0   10.10     52.8    6730       8.55   \n",
       "9           Lesotho        99.7     39.4   11.10    101.0    2380       4.15   \n",
       "\n",
       "   life_expec  total_fer   gdpp  KMeans_Clusters  \n",
       "0        66.2       2.64   2650                2  \n",
       "1        66.3       4.88   1480                1  \n",
       "2        53.1       5.31    459                1  \n",
       "3        80.0       1.86  44400                0  \n",
       "4        57.5       6.54    334                1  \n",
       "5        78.7       1.93  48400                0  \n",
       "6        71.6       3.20   1980                2  \n",
       "7        78.2       2.15  10700                2  \n",
       "8        72.8       1.92   2960                2  \n",
       "9        46.5       3.30   1170                1  "
      ]
     },
     "execution_count": 206,
     "metadata": {},
     "output_type": "execute_result"
    }
   ],
   "source": [
    "preds = kmeans.labels_\n",
    "kmeans_country = pd.DataFrame(country)\n",
    "kmeans_country['KMeans_Clusters'] = preds\n",
    "kmeans_country.head(10)"
   ]
  },
  {
   "cell_type": "code",
   "execution_count": 207,
   "id": "35d0d6b3",
   "metadata": {},
   "outputs": [
    {
     "name": "stderr",
     "output_type": "stream",
     "text": [
      "C:\\Users\\elena\\anaconda3\\lib\\site-packages\\seaborn\\_decorators.py:36: FutureWarning: Pass the following variables as keyword args: x, y. From version 0.12, the only valid positional argument will be `data`, and passing other arguments without an explicit keyword will result in an error or misinterpretation.\n",
      "  warnings.warn(\n"
     ]
    },
    {
     "data": {
      "image/png": "[encoded data removed]",
      "text/plain": [
       "<Figure size 432x288 with 1 Axes>"
      ]
     },
     "metadata": {
      "needs_background": "light"
     },
     "output_type": "display_data"
    }
   ],
   "source": [
    "#visulisierung von clustern kindersterblichkeit vs. gdpp\n",
    "sns.scatterplot(kmeans_country['child_mort'],kmeans_country['gdpp'],hue='KMeans_Clusters',data=kmeans_country,palette='viridis') \n",
    "plt.title(\"Child Mortality vs gdpp\", fontsize=15)\n",
    "plt.xlabel(\"Child Mortality\", fontsize=12)\n",
    "plt.ylabel(\"gdpp\", fontsize=12)\n",
    "plt.show()"
   ]
  },
  {
   "cell_type": "code",
   "execution_count": 208,
   "id": "03909043",
   "metadata": {},
   "outputs": [
    {
     "name": "stderr",
     "output_type": "stream",
     "text": [
      "C:\\Users\\elena\\anaconda3\\lib\\site-packages\\seaborn\\_decorators.py:36: FutureWarning: Pass the following variables as keyword args: x, y. From version 0.12, the only valid positional argument will be `data`, and passing other arguments without an explicit keyword will result in an error or misinterpretation.\n",
      "  warnings.warn(\n"
     ]
    },
    {
     "data": {
      "image/png": "[encoded data removed]",
      "text/plain": [
       "<Figure size 432x288 with 1 Axes>"
      ]
     },
     "metadata": {
      "needs_background": "light"
     },
     "output_type": "display_data"
    }
   ],
   "source": [
    "sns.scatterplot(kmeans_country['inflation'],kmeans_country['gdpp'],hue='KMeans_Clusters',data=kmeans_country,palette='viridis') \n",
    "plt.title(\"inflation vs gdpp\", fontsize=15)\n",
    "plt.xlabel(\"inflation\", fontsize=12)\n",
    "plt.ylabel(\"gdpp\", fontsize=12)\n",
    "plt.show()"
   ]
  },
  {
   "cell_type": "markdown",
   "id": "f0a9b4cc",
   "metadata": {},
   "source": [
    "Aus den obigen Clustern können wir schließen, dass ein Land mit hoher Kindersterblichkeit, niedrigem BIP pro Kopf und niedriger Inflation (die Messung der jährlichen Wachstumsrate des gesamten BIP) ist ein unterentwickeltes Land.\n",
    "Ein Land mit niedriger Kindersterblichkeit, hohem BIP und hoher Inflation ist ein entwickeltes Land.\n",
    "\n",
    "Daraus können wir schließen, dass\n",
    "0 = entwickeltes Land\n",
    "1 = unterentwickeltes Land\n",
    "2 = Entwicklungsland"
   ]
  },
  {
   "cell_type": "code",
   "execution_count": 209,
   "id": "79396171",
   "metadata": {},
   "outputs": [
    {
     "name": "stdout",
     "output_type": "stream",
     "text": [
      "Anzahl der unterentwickelten Länder 42\n",
      "Anzahl der Entwicklungsländer 74\n",
      "Anzahl der entwickelten Länder 35\n"
     ]
    }
   ],
   "source": [
    "#Anzahl der entwickelten Landes, der Entwicklungslandes, des unterentwickelten Landes finden\n",
    "under_developing=kmeans_country[kmeans_country['KMeans_Clusters']==1]['country']\n",
    "developing=kmeans_country[kmeans_country['KMeans_Clusters']==2]['country']\n",
    "developed=kmeans_country[kmeans_country['KMeans_Clusters']==0]['country']\n",
    "\n",
    "print(\"Anzahl der unterentwickelten Länder\",len(under_developing))\n",
    "print(\"Anzahl der Entwicklungsländer\",len(developing))\n",
    "print(\"Anzahl der entwickelten Länder\",len(developed))"
   ]
  },
  {
   "cell_type": "code",
   "execution_count": 210,
   "id": "ddd0bfe5",
   "metadata": {},
   "outputs": [
    {
     "data": {
      "text/plain": [
       "['Belgium',\n",
       " 'United States',\n",
       " 'Slovak Republic',\n",
       " 'Slovenia',\n",
       " 'United Kingdom',\n",
       " 'Italy',\n",
       " 'France',\n",
       " 'United Arab Emirates',\n",
       " 'Portugal',\n",
       " 'Norway',\n",
       " 'Sweden',\n",
       " 'New Zealand',\n",
       " 'Kuwait',\n",
       " 'Cyprus',\n",
       " 'Germany',\n",
       " 'Malta',\n",
       " 'Ireland',\n",
       " 'South Korea',\n",
       " 'Denmark',\n",
       " 'Greece',\n",
       " 'Australia',\n",
       " 'Singapore',\n",
       " 'Japan',\n",
       " 'Iceland',\n",
       " 'Canada',\n",
       " 'Austria',\n",
       " 'Luxembourg',\n",
       " 'Israel',\n",
       " 'Qatar',\n",
       " 'Switzerland',\n",
       " 'Bahrain',\n",
       " 'Spain',\n",
       " 'Brunei',\n",
       " 'Finland',\n",
       " 'Czech Republic']"
      ]
     },
     "execution_count": 210,
     "metadata": {},
     "output_type": "execute_result"
    }
   ],
   "source": [
    "list(developed)"
   ]
  },
  {
   "cell_type": "code",
   "execution_count": 211,
   "id": "dee959da",
   "metadata": {},
   "outputs": [
    {
     "data": {
      "text/plain": [
       "['Sudan',\n",
       " 'Malawi',\n",
       " 'Congo, Dem. Rep.',\n",
       " 'Lesotho',\n",
       " 'Burundi',\n",
       " 'Mauritania',\n",
       " 'Pakistan',\n",
       " 'Kenya',\n",
       " 'Sierra Leone',\n",
       " 'Timor-Leste',\n",
       " 'Comoros',\n",
       " 'Madagascar',\n",
       " 'Benin',\n",
       " 'Eritrea',\n",
       " 'Iraq',\n",
       " 'Cameroon',\n",
       " 'Uganda',\n",
       " 'Botswana',\n",
       " 'Afghanistan',\n",
       " 'Haiti',\n",
       " 'Gambia',\n",
       " 'Ghana',\n",
       " 'Rwanda',\n",
       " 'South Africa',\n",
       " 'Congo, Rep.',\n",
       " 'Mozambique',\n",
       " 'Chad',\n",
       " 'Guinea',\n",
       " 'Niger',\n",
       " 'Angola',\n",
       " 'Liberia',\n",
       " 'Yemen',\n",
       " 'Tanzania',\n",
       " 'Lao',\n",
       " 'Namibia',\n",
       " 'Kiribati',\n",
       " 'Zambia',\n",
       " 'Guinea-Bissau',\n",
       " 'Mali',\n",
       " 'Central African Republic',\n",
       " 'Nigeria',\n",
       " 'Equatorial Guinea']"
      ]
     },
     "execution_count": 211,
     "metadata": {},
     "output_type": "execute_result"
    }
   ],
   "source": [
    "list(under_developing)"
   ]
  },
  {
   "cell_type": "code",
   "execution_count": 212,
   "id": "c045b5e4",
   "metadata": {},
   "outputs": [
    {
     "data": {
      "text/plain": [
       "['Mongolia',\n",
       " 'Bolivia',\n",
       " 'Turkey',\n",
       " 'Georgia',\n",
       " 'Belize',\n",
       " 'Belarus',\n",
       " 'Panama',\n",
       " 'Indonesia',\n",
       " 'Morocco',\n",
       " 'Fiji',\n",
       " 'Bahamas',\n",
       " 'Russia',\n",
       " 'Samoa',\n",
       " 'China',\n",
       " 'Iran',\n",
       " 'Egypt',\n",
       " 'Tunisia',\n",
       " 'Hungary',\n",
       " 'Libya',\n",
       " 'Lebanon',\n",
       " 'Jamaica',\n",
       " 'Paraguay',\n",
       " 'Brazil',\n",
       " 'Guatemala',\n",
       " 'Guyana',\n",
       " 'Micronesia, Fed. Sts.',\n",
       " 'Armenia',\n",
       " 'Bosnia and Herzegovina',\n",
       " 'Mauritius',\n",
       " 'Albania',\n",
       " 'Myanmar',\n",
       " 'Nepal',\n",
       " 'Jordan',\n",
       " 'Peru',\n",
       " 'Oman',\n",
       " 'Turkmenistan',\n",
       " 'Philippines',\n",
       " 'Thailand',\n",
       " 'Venezuela',\n",
       " 'Malaysia',\n",
       " 'Sri Lanka',\n",
       " 'Ukraine',\n",
       " 'Macedonia, FYR',\n",
       " 'Chile',\n",
       " 'Saudi Arabia',\n",
       " 'El Salvador',\n",
       " 'Cape Verde',\n",
       " 'Suriname',\n",
       " 'Vanuatu',\n",
       " 'Antigua and Barbuda',\n",
       " 'Seychelles',\n",
       " 'Croatia',\n",
       " 'Bangladesh',\n",
       " 'Grenada',\n",
       " 'Latvia',\n",
       " 'India',\n",
       " 'Kazakhstan',\n",
       " 'St. Vincent and the Grenadines',\n",
       " 'Poland',\n",
       " 'Bulgaria',\n",
       " 'Tonga',\n",
       " 'Argentina',\n",
       " 'Kyrgyz Republic',\n",
       " 'Bhutan',\n",
       " 'Ecuador',\n",
       " 'Tajikistan',\n",
       " 'Azerbaijan',\n",
       " 'Uruguay',\n",
       " 'Estonia',\n",
       " 'Barbados',\n",
       " 'Dominican Republic',\n",
       " 'Costa Rica',\n",
       " 'Colombia',\n",
       " 'Montenegro']"
      ]
     },
     "execution_count": 212,
     "metadata": {},
     "output_type": "execute_result"
    }
   ],
   "source": [
    "list(developing)"
   ]
  },
  {
   "cell_type": "markdown",
   "id": "c5fb580a",
   "metadata": {},
   "source": [
    "Ich möchte mir die Länder mit der höchsten Kindersterblichkeit und dem geringsten BIP anschauen"
   ]
  },
  {
   "cell_type": "code",
   "execution_count": 213,
   "id": "e43b65d8",
   "metadata": {},
   "outputs": [
    {
     "name": "stdout",
     "output_type": "stream",
     "text": [
      "Land mit der höchsten Kindersterblichkeitsrate: Haiti\n",
      "Land mit dem niedrigsten BIP: Burundi\n"
     ]
    }
   ],
   "source": [
    "# Filtern des Datensatzes nach den unterentwickelten Ländern\n",
    "underdeveloped_countries = country[country['country'].isin(under_developing)]\n",
    "\n",
    "# das Land mit der höchsten Kindersterblichkeitsrate\n",
    "highest_child_mortality = underdeveloped_countries['child_mort'].idxmax()\n",
    "country_highest_child_mortality = underdeveloped_countries.loc[highest_child_mortality, 'country']\n",
    "\n",
    "# das Land mit dem niedrigsten BIP\n",
    "lowest_gdpp = underdeveloped_countries['gdpp'].idxmin()\n",
    "country_lowest_gdpp = underdeveloped_countries.loc[lowest_gdpp, 'country']\n",
    "\n",
    "\n",
    "# Gib die Ergebnisse aus\n",
    "print(\"Land mit der höchsten Kindersterblichkeitsrate:\", country_highest_child_mortality)\n",
    "print(\"Land mit dem niedrigsten BIP:\", country_lowest_gdpp)\n"
   ]
  },
  {
   "cell_type": "code",
   "execution_count": 214,
   "id": "0f267e7a",
   "metadata": {},
   "outputs": [
    {
     "name": "stdout",
     "output_type": "stream",
     "text": [
      "   country  child_mort  exports  health  imports  income  inflation  \\\n",
      "61   Haiti       208.0     15.3    6.91     64.7    1500       5.45   \n",
      "\n",
      "    life_expec  total_fer  gdpp  KMeans_Clusters  \n",
      "61        32.1       3.33   662                1  \n"
     ]
    }
   ],
   "source": [
    "haiti_data = country[country['country'] == 'Haiti']\n",
    "\n",
    "# Gib die Daten zu Haiti aus\n",
    "print(haiti_data)"
   ]
  },
  {
   "cell_type": "code",
   "execution_count": 215,
   "id": "b915b4dd",
   "metadata": {},
   "outputs": [
    {
     "name": "stdout",
     "output_type": "stream",
     "text": [
      "    country  child_mort  exports  health  imports  income  inflation  \\\n",
      "10  Burundi        93.6     8.92    11.6     39.2     764       12.3   \n",
      "\n",
      "    life_expec  total_fer  gdpp  KMeans_Clusters  \n",
      "10        57.7       6.26   231                1  \n"
     ]
    }
   ],
   "source": [
    "burundi_data = country[country['country'] == 'Burundi']\n",
    "# Gib die Daten zu Haiti aus\n",
    "print(burundi_data)"
   ]
  },
  {
   "cell_type": "markdown",
   "id": "ef8508d2",
   "metadata": {},
   "source": [
    "### Hierarchical Clustering"
   ]
  },
  {
   "cell_type": "markdown",
   "id": "fdfed972",
   "metadata": {},
   "source": [
    "Beim hierarchischen Clustering werden die Datenpunkte schrittweise zu Clustern zusammengeführt, um eine Hierarchie von Clustern zu erstellen. Es gibt zwei Hauptarten des hierarchischen Clusterings: das agglomerative und das divise Verfahren. Hier wird agglomerative Verfahren verwendet.\n",
    "\n",
    "Beim agglomerativen hierarchischen Clustering beginnt man mit jedem Datenpunkt als eigenem Cluster und fügt dann schrittweise ähnliche Cluster zusammen, bis alle Datenpunkte zu einem einzigen Cluster zusammengeführt sind. Dabei wird eine bestimmte Ähnlichkeitsmetrik verwendet, wie z.B. die euklidische Distanz, um die Ähnlichkeit zwischen den Clustern zu berechnen."
   ]
  },
  {
   "cell_type": "code",
   "execution_count": 216,
   "id": "4d980293",
   "metadata": {},
   "outputs": [
    {
     "data": {
      "image/png": "[encoded data removed]",
      "text/plain": [
       "<Figure size 3600x864 with 1 Axes>"
      ]
     },
     "metadata": {
      "needs_background": "light"
     },
     "output_type": "display_data"
    }
   ],
   "source": [
    "#\n",
    "#Ein Dendrogramm wird durch hierarchische Clusteranalyse erzeugt und ist eine Art Baumdiagramm, das hierarchische Beziehungen zwischen verschiedenen Datensätzen darstellt.\n",
    "plt.figure(figsize=(50, 12))\n",
    "dend=hcluster.dendrogram(hcluster.linkage(scaled_country,method='ward'))"
   ]
  },
  {
   "cell_type": "markdown",
   "id": "214452a2",
   "metadata": {},
   "source": [
    "Aus dem obigen Dendogramm können wir die minimale Anzahl von Clustern als 2 und die maximale Anzahl von Clustern als 5 annehmen.  Wir nehmen 3, da es 3 visuel unterscheidbare Cluster gibt."
   ]
  },
  {
   "cell_type": "code",
   "execution_count": 217,
   "id": "de97eb2d",
   "metadata": {},
   "outputs": [],
   "source": [
    "# Getting labels from Agglomearative Hierarchical clustering\n",
    "hcluster = AgglomerativeClustering(n_clusters=3, affinity='euclidean', linkage='ward')  \n",
    "hcluster.fit_predict(scaled_country)\n",
    "hcluster_label = hcluster.labels_"
   ]
  },
  {
   "cell_type": "code",
   "execution_count": 218,
   "id": "e01a8229",
   "metadata": {},
   "outputs": [
    {
     "data": {
      "text/html": [
       "<div>\n",
       "<style scoped>\n",
       "    .dataframe tbody tr th:only-of-type {\n",
       "        vertical-align: middle;\n",
       "    }\n",
       "\n",
       "    .dataframe tbody tr th {\n",
       "        vertical-align: top;\n",
       "    }\n",
       "\n",
       "    .dataframe thead th {\n",
       "        text-align: right;\n",
       "    }\n",
       "</style>\n",
       "<table border=\"1\" class=\"dataframe\">\n",
       "  <thead>\n",
       "    <tr style=\"text-align: right;\">\n",
       "      <th></th>\n",
       "      <th>country</th>\n",
       "      <th>child_mort</th>\n",
       "      <th>exports</th>\n",
       "      <th>health</th>\n",
       "      <th>imports</th>\n",
       "      <th>income</th>\n",
       "      <th>inflation</th>\n",
       "      <th>life_expec</th>\n",
       "      <th>total_fer</th>\n",
       "      <th>gdpp</th>\n",
       "      <th>KMeans_Clusters</th>\n",
       "      <th>hcluster</th>\n",
       "    </tr>\n",
       "  </thead>\n",
       "  <tbody>\n",
       "    <tr>\n",
       "      <th>0</th>\n",
       "      <td>Mongolia</td>\n",
       "      <td>26.1</td>\n",
       "      <td>46.7</td>\n",
       "      <td>5.44</td>\n",
       "      <td>56.7</td>\n",
       "      <td>7710</td>\n",
       "      <td>39.20</td>\n",
       "      <td>66.2</td>\n",
       "      <td>2.64</td>\n",
       "      <td>2650</td>\n",
       "      <td>2</td>\n",
       "      <td>2</td>\n",
       "    </tr>\n",
       "    <tr>\n",
       "      <th>1</th>\n",
       "      <td>Sudan</td>\n",
       "      <td>76.7</td>\n",
       "      <td>19.7</td>\n",
       "      <td>6.32</td>\n",
       "      <td>17.2</td>\n",
       "      <td>3370</td>\n",
       "      <td>19.60</td>\n",
       "      <td>66.3</td>\n",
       "      <td>4.88</td>\n",
       "      <td>1480</td>\n",
       "      <td>1</td>\n",
       "      <td>2</td>\n",
       "    </tr>\n",
       "    <tr>\n",
       "      <th>2</th>\n",
       "      <td>Malawi</td>\n",
       "      <td>90.5</td>\n",
       "      <td>22.8</td>\n",
       "      <td>6.59</td>\n",
       "      <td>34.9</td>\n",
       "      <td>1030</td>\n",
       "      <td>12.10</td>\n",
       "      <td>53.1</td>\n",
       "      <td>5.31</td>\n",
       "      <td>459</td>\n",
       "      <td>1</td>\n",
       "      <td>1</td>\n",
       "    </tr>\n",
       "    <tr>\n",
       "      <th>3</th>\n",
       "      <td>Belgium</td>\n",
       "      <td>4.5</td>\n",
       "      <td>76.4</td>\n",
       "      <td>10.70</td>\n",
       "      <td>74.7</td>\n",
       "      <td>41100</td>\n",
       "      <td>1.88</td>\n",
       "      <td>80.0</td>\n",
       "      <td>1.86</td>\n",
       "      <td>44400</td>\n",
       "      <td>0</td>\n",
       "      <td>0</td>\n",
       "    </tr>\n",
       "    <tr>\n",
       "      <th>4</th>\n",
       "      <td>Congo, Dem. Rep.</td>\n",
       "      <td>116.0</td>\n",
       "      <td>41.1</td>\n",
       "      <td>7.91</td>\n",
       "      <td>49.6</td>\n",
       "      <td>609</td>\n",
       "      <td>20.80</td>\n",
       "      <td>57.5</td>\n",
       "      <td>6.54</td>\n",
       "      <td>334</td>\n",
       "      <td>1</td>\n",
       "      <td>1</td>\n",
       "    </tr>\n",
       "  </tbody>\n",
       "</table>\n",
       "</div>"
      ],
      "text/plain": [
       "            country  child_mort  exports  health  imports  income  inflation  \\\n",
       "0          Mongolia        26.1     46.7    5.44     56.7    7710      39.20   \n",
       "1             Sudan        76.7     19.7    6.32     17.2    3370      19.60   \n",
       "2            Malawi        90.5     22.8    6.59     34.9    1030      12.10   \n",
       "3           Belgium         4.5     76.4   10.70     74.7   41100       1.88   \n",
       "4  Congo, Dem. Rep.       116.0     41.1    7.91     49.6     609      20.80   \n",
       "\n",
       "   life_expec  total_fer   gdpp  KMeans_Clusters  hcluster  \n",
       "0        66.2       2.64   2650                2         2  \n",
       "1        66.3       4.88   1480                1         2  \n",
       "2        53.1       5.31    459                1         1  \n",
       "3        80.0       1.86  44400                0         0  \n",
       "4        57.5       6.54    334                1         1  "
      ]
     },
     "execution_count": 218,
     "metadata": {},
     "output_type": "execute_result"
    }
   ],
   "source": [
    "hcluster_country = pd.DataFrame(country)\n",
    "#adding hcluster labels in hcluster_df\n",
    "hcluster_country['hcluster'] = hcluster_label\n",
    "#first few rows of hcluster_df\n",
    "hcluster_country.head()"
   ]
  },
  {
   "cell_type": "code",
   "execution_count": 219,
   "id": "94ace8de",
   "metadata": {},
   "outputs": [
    {
     "name": "stderr",
     "output_type": "stream",
     "text": [
      "C:\\Users\\elena\\anaconda3\\lib\\site-packages\\seaborn\\_decorators.py:36: FutureWarning: Pass the following variables as keyword args: x, y. From version 0.12, the only valid positional argument will be `data`, and passing other arguments without an explicit keyword will result in an error or misinterpretation.\n",
      "  warnings.warn(\n"
     ]
    },
    {
     "data": {
      "image/png": "[encoded data removed]",
      "text/plain": [
       "<Figure size 432x288 with 1 Axes>"
      ]
     },
     "metadata": {
      "needs_background": "light"
     },
     "output_type": "display_data"
    }
   ],
   "source": [
    "#visulazing hcluster results\n",
    "#child mortality vs exports \n",
    "sns.scatterplot(hcluster_country['child_mort'],hcluster_country['gdpp'],hue='hcluster',data=hcluster_country,palette='viridis')\n",
    "plt.title(\"Child Mortality vs gdpp\", fontsize=15)\n",
    "plt.xlabel(\"Child Mortality\", fontsize=12)\n",
    "plt.ylabel(\"gdpp\", fontsize=12)\n",
    "plt.show()"
   ]
  },
  {
   "cell_type": "code",
   "execution_count": 220,
   "id": "6dbde0cf",
   "metadata": {},
   "outputs": [
    {
     "name": "stderr",
     "output_type": "stream",
     "text": [
      "C:\\Users\\elena\\anaconda3\\lib\\site-packages\\seaborn\\_decorators.py:36: FutureWarning: Pass the following variables as keyword args: x, y. From version 0.12, the only valid positional argument will be `data`, and passing other arguments without an explicit keyword will result in an error or misinterpretation.\n",
      "  warnings.warn(\n"
     ]
    },
    {
     "data": {
      "image/png": "[encoded data removed]",
      "text/plain": [
       "<Figure size 432x288 with 1 Axes>"
      ]
     },
     "metadata": {
      "needs_background": "light"
     },
     "output_type": "display_data"
    }
   ],
   "source": [
    "#visulazing hcluster results\n",
    "sns.scatterplot(hcluster_country['inflation'],hcluster_country['gdpp'],hue='hcluster',data=hcluster_country,palette='viridis')\n",
    "plt.title(\"Inflation vs gdpp\", fontsize=15)\n",
    "plt.xlabel(\"Inflation\", fontsize=12)\n",
    "plt.ylabel(\"gdpp\", fontsize=12)\n",
    "plt.show()\n",
    "\n"
   ]
  },
  {
   "cell_type": "code",
   "execution_count": 223,
   "id": "79e0fca8",
   "metadata": {},
   "outputs": [
    {
     "name": "stdout",
     "output_type": "stream",
     "text": [
      "Number of deveoped countries 33\n",
      "Number of developing countries 86\n",
      "Number of under-developing countries 32\n"
     ]
    }
   ],
   "source": [
    "##Anzahl der entwickelten Landes, der Entwicklungslandes, des unterentwickelten Landes finden\n",
    "developed=hcluster_country[hcluster_country['hcluster']==0]['country']\n",
    "developing=hcluster_country[hcluster_country['hcluster']==2]['country']\n",
    "under_developing=hcluster_country[hcluster_country['hcluster']==1]['country']\n",
    "\n",
    "print(\"Number of deveoped countries\",len(developed))\n",
    "print(\"Number of developing countries\",len(developing))\n",
    "print(\"Number of under-developing countries\",len(under_developing))\n",
    "\n"
   ]
  },
  {
   "cell_type": "code",
   "execution_count": 224,
   "id": "e4d147b8",
   "metadata": {},
   "outputs": [
    {
     "data": {
      "text/plain": [
       "['Malawi',\n",
       " 'Congo, Dem. Rep.',\n",
       " 'Lesotho',\n",
       " 'Burundi',\n",
       " 'Mauritania',\n",
       " 'Kenya',\n",
       " 'Sierra Leone',\n",
       " 'Comoros',\n",
       " 'Madagascar',\n",
       " 'Benin',\n",
       " 'Cameroon',\n",
       " 'Uganda',\n",
       " 'Afghanistan',\n",
       " 'Micronesia, Fed. Sts.',\n",
       " 'Haiti',\n",
       " 'Gambia',\n",
       " 'Rwanda',\n",
       " 'Congo, Rep.',\n",
       " 'Mozambique',\n",
       " 'Chad',\n",
       " 'Guinea',\n",
       " 'Niger',\n",
       " 'Angola',\n",
       " 'Liberia',\n",
       " 'Tanzania',\n",
       " 'Kiribati',\n",
       " 'Zambia',\n",
       " 'Guinea-Bissau',\n",
       " 'Mali',\n",
       " 'Central African Republic',\n",
       " 'Nigeria',\n",
       " 'Equatorial Guinea']"
      ]
     },
     "execution_count": 224,
     "metadata": {},
     "output_type": "execute_result"
    }
   ],
   "source": [
    "list(under_developing)"
   ]
  },
  {
   "cell_type": "markdown",
   "id": "dfc8c0b9",
   "metadata": {},
   "source": [
    "Bei dem hierarchischen Clustering wurden 32 Länder als unterentwickel eingestufft. Im vergleich dazu waren es bei K-Means 42. Auch bei den anderen Clustergruppen sind die Zuordnungen unterschiedlich ausgefallen."
   ]
  },
  {
   "cell_type": "markdown",
   "id": "22afecf0",
   "metadata": {},
   "source": [
    "# 2. use PCA to reduce the dimension to 2d, and visualize the cluster from K-means and Hierarchical clustering respectively"
   ]
  },
  {
   "cell_type": "code",
   "execution_count": 225,
   "id": "1e98dbc3",
   "metadata": {},
   "outputs": [],
   "source": [
    "from sklearn.decomposition import PCA"
   ]
  },
  {
   "cell_type": "markdown",
   "id": "bbc093b8",
   "metadata": {},
   "source": [
    " Es wird eine PCA-Reduktion auf 2 Dimensionen angewendet. Durch die Reduzierung der Daten auf 2 Dimensionen werden die Informationen in den ursprünglichen Variablen auf zwei neue Hauptkomponenten komprimiert. Dies ermöglicht eine einfachere Visualisierung und Interpretation der Daten, da sie auf einer zweidimensionalen Ebene dargestellt werden können."
   ]
  },
  {
   "cell_type": "code",
   "execution_count": 226,
   "id": "af745d79",
   "metadata": {},
   "outputs": [],
   "source": [
    "## Reduziere die Dimension auf 2D mit PCA\n",
    "pca = PCA(n_components=2)\n",
    "reduced_data = pca.fit_transform(scaled_country)"
   ]
  },
  {
   "cell_type": "code",
   "execution_count": 227,
   "id": "618b466a",
   "metadata": {},
   "outputs": [
    {
     "data": {
      "image/png": "[encoded data removed]",
      "text/plain": [
       "<Figure size 576x432 with 1 Axes>"
      ]
     },
     "metadata": {
      "needs_background": "light"
     },
     "output_type": "display_data"
    }
   ],
   "source": [
    "# K-means Clustering\n",
    "kmeans_labels = kmeans.labels_\n",
    "\n",
    "# Hierarchical Clustering\n",
    "hierarchical_labels = hcluster.labels_\n",
    "\n",
    "# Erstellen einer DataFrame für die reduzierten Daten und die Clusterzugehörigkeiten\n",
    "df_reduced = pd.DataFrame({'PC1': reduced_data[:, 0], 'PC2': reduced_data[:, 1], 'K-means Cluster': kmeans_labels, 'Hierarchical Cluster': hierarchical_labels})\n",
    "\n",
    "# Plotten die Cluster von K-means\n",
    "plt.figure(figsize=(8, 6))\n",
    "sns.scatterplot(x='PC1', y='PC2', hue='K-means Cluster', data=df_reduced, palette='viridis')\n",
    "plt.title(\"K-means Clustering\", fontsize=15)\n",
    "plt.xlabel(\"PC1\", fontsize=12)\n",
    "plt.ylabel(\"PC2\", fontsize=12)\n",
    "plt.show()\n"
   ]
  },
  {
   "cell_type": "markdown",
   "id": "bc0a424f",
   "metadata": {},
   "source": [
    "Bei der visualisierten Darstellung kann mann erkennen, dass manche Punkte sich überlappen,insbesondere zwischen cluster 1 und cluster 2,das bedeutet, dass diese Punkte ähnliche Merkmale oder Eigenschaften aufweisen, die sie für das Clustering ähnlich machen. Die Überlappung der Punkte kann darauf hinweisen, dass es Bereiche gibt, in denen die Zuordnung zu einem bestimmten Cluster unsicher ist oder dass es Datenpunkte gibt, die mehreren Clustern ähnlich sind. Außerdem sind beim cluster 0 einige Punkte zu sehen , die im Raum deutlich von ihrem eigentlichen Cluster entfernt sind. Dies kann auf Ausreißer oder Anomalien hinweisen."
   ]
  },
  {
   "cell_type": "code",
   "execution_count": 228,
   "id": "b97a5bf4",
   "metadata": {},
   "outputs": [
    {
     "name": "stdout",
     "output_type": "stream",
     "text": [
      "Länder im K-means Cluster 1:\n",
      "1                         Sudan\n",
      "2                        Malawi\n",
      "4              Congo, Dem. Rep.\n",
      "9                       Lesotho\n",
      "10                      Burundi\n",
      "13                   Mauritania\n",
      "14                     Pakistan\n",
      "16                        Kenya\n",
      "20                 Sierra Leone\n",
      "21                  Timor-Leste\n",
      "23                      Comoros\n",
      "32                   Madagascar\n",
      "35                        Benin\n",
      "41                      Eritrea\n",
      "46                         Iraq\n",
      "47                     Cameroon\n",
      "50                       Uganda\n",
      "51                     Botswana\n",
      "52                  Afghanistan\n",
      "61                        Haiti\n",
      "66                       Gambia\n",
      "67                        Ghana\n",
      "71                       Rwanda\n",
      "81                 South Africa\n",
      "83                  Congo, Rep.\n",
      "84                   Mozambique\n",
      "91                         Chad\n",
      "100                      Guinea\n",
      "101                       Niger\n",
      "105                      Angola\n",
      "114                     Liberia\n",
      "119                       Yemen\n",
      "122                    Tanzania\n",
      "126                         Lao\n",
      "127                     Namibia\n",
      "130                    Kiribati\n",
      "133                      Zambia\n",
      "134               Guinea-Bissau\n",
      "135                        Mali\n",
      "142    Central African Republic\n",
      "143                     Nigeria\n",
      "145           Equatorial Guinea\n",
      "Name: country, dtype: object\n"
     ]
    }
   ],
   "source": [
    "cluster_countries = pd.DataFrame({'country': country['country'], 'K-means Cluster': kmeans_labels})\n",
    "\n",
    "# Länder im K-means Cluster 1 anzeigen\n",
    "cluster_1_countries = cluster_countries[cluster_countries['K-means Cluster'] == 1]['country']\n",
    "print(\"Länder im K-means Cluster 1:\")\n",
    "print(cluster_1_countries)"
   ]
  },
  {
   "cell_type": "code",
   "execution_count": 229,
   "id": "5dc318cc",
   "metadata": {},
   "outputs": [
    {
     "data": {
      "image/png": "[encoded data removed]",
      "text/plain": [
       "<Figure size 576x432 with 1 Axes>"
      ]
     },
     "metadata": {
      "needs_background": "light"
     },
     "output_type": "display_data"
    }
   ],
   "source": [
    "# Plotten die Cluster von Hierarchical Clustering\n",
    "plt.figure(figsize=(8, 6))\n",
    "sns.scatterplot(x='PC1', y='PC2', hue='Hierarchical Cluster', data=df_reduced, palette='viridis')\n",
    "plt.title(\"Hierarchical Clustering\", fontsize=15)\n",
    "plt.xlabel(\"PC1\", fontsize=12)\n",
    "plt.ylabel(\"PC2\", fontsize=12)\n",
    "plt.show()"
   ]
  },
  {
   "cell_type": "markdown",
   "id": "e57881f9",
   "metadata": {},
   "source": [
    "Nach der Reduktion auf zwei Merkmale ist es zu sehen , dass beim hierarchischen Clustering mehr überlappende Punkte zu sehen sind als beim K-Means-Clustering. Dies kann darauf zu führen sein, dass K-Means und hierarchisches Clustering unterschiedliche Algorithmen zur Bestimmung der Clusterzugehörigkeit verwenden. Hierarchisches Clustering erzeugt eine hierarchische Struktur von Clustern, während K-Means die Punkte in diskrete Cluster partitioniert."
   ]
  },
  {
   "cell_type": "code",
   "execution_count": 231,
   "id": "161e3606",
   "metadata": {},
   "outputs": [
    {
     "name": "stdout",
     "output_type": "stream",
     "text": [
      "Hierarchical Cluster 1:\n",
      "2                        Malawi\n",
      "4              Congo, Dem. Rep.\n",
      "9                       Lesotho\n",
      "10                      Burundi\n",
      "13                   Mauritania\n",
      "16                        Kenya\n",
      "20                 Sierra Leone\n",
      "23                      Comoros\n",
      "32                   Madagascar\n",
      "35                        Benin\n",
      "47                     Cameroon\n",
      "50                       Uganda\n",
      "52                  Afghanistan\n",
      "53        Micronesia, Fed. Sts.\n",
      "61                        Haiti\n",
      "66                       Gambia\n",
      "71                       Rwanda\n",
      "83                  Congo, Rep.\n",
      "84                   Mozambique\n",
      "91                         Chad\n",
      "100                      Guinea\n",
      "101                       Niger\n",
      "105                      Angola\n",
      "114                     Liberia\n",
      "122                    Tanzania\n",
      "130                    Kiribati\n",
      "133                      Zambia\n",
      "134               Guinea-Bissau\n",
      "135                        Mali\n",
      "142    Central African Republic\n",
      "143                     Nigeria\n",
      "145           Equatorial Guinea\n",
      "Name: country, dtype: object\n"
     ]
    }
   ],
   "source": [
    "cluster_countries = pd.DataFrame({'country': country['country'], 'Hierarchical Cluster': hierarchical_labels})\n",
    "\n",
    "# Länder im Hirarchische Cluster 1 anzeigen\n",
    "cluster_1_countries = cluster_countries[cluster_countries['Hierarchical Cluster'] == 1]['country']\n",
    "print(\"Hierarchical Cluster 1:\")\n",
    "print(cluster_1_countries)"
   ]
  },
  {
   "cell_type": "markdown",
   "id": "af1ad598",
   "metadata": {},
   "source": [
    "Da Haiti und Burundi aufgrund der vorherigen Analyse und nach der Reduzierung immer noch den unterentwikelten Ländern angehört und die größte Kindersterblichkeitsrate hat, werde ich empfehlen diese beide Lander mit Spendengeldern zu unterstützen."
   ]
  },
  {
   "cell_type": "markdown",
   "id": "02a450ba",
   "metadata": {},
   "source": [
    "# please write the suggestion to CEO about the country you suggest"
   ]
  },
  {
   "cell_type": "markdown",
   "id": "246c5de7",
   "metadata": {},
   "source": [
    "Sehr geehrter CEO,\n",
    "\n",
    "Im Rahmen unserer Datenanalyse und Clusterbildung haben wir die sozioökonomischen und gesundheitlichen Faktoren mehrerer Länder untersucht, um die Kategorisierung und Bewertung ihrer Gesamtentwicklung vorzunehmen. In diesem Zusammenhang möchte ich Ihnen einen Vorschlag für die strategische Verwendung der Spendengelder für die Lander Haiti und Burundi unterbreiten.\n",
    "\n",
    "Beide Länder wurden  in unserer Analyse als unterentwickelte Lander eingestuft.\n",
    "Haiti weist hohe Raten von Kindersterblichkeit, niedrigem Bruttoinlandsprodukt (BIP) und niedrigen Gesundheitsausgaben im Verhältnis zum BIP auf. Dies deutet auf eine schwache Gesundheitsinfrastruktur und begrenzte Ressourcen für die Gesundheitsversorgung hin. Durch gezielte Investitionen könnten wir dazu beitragen, die Gesundheitsversorgung zu verbessern, den Zugang zu sauberem Wasser und sanitären Einrichtungen zu ermöglichen und Programme zur Ernährungssicherung zu unterstützen. Darüber hinaus könnten Bildungsinitiativen und die Förderung von wirtschaftlicher Entwicklung dazu beitragen, die langfristige Entwicklung des Landes zu unterstützen.\n",
    "\n",
    "Burundi weist ebenfalls hohe Raten von Kindersterblichkeit und niedrigem BIP auf. Die Gesundheitsausgaben im Verhältnis zum BIP sind ebenfalls gering. Unsere Unterstützung könnte darauf abzielen, den Zugang zu qualitativ hochwertiger Gesundheitsversorgung zu verbessern, insbesondere für Mütter und Kinder. Wir könnten auch Programme zur Verbesserung der landwirtschaftlichen Praktiken und Ernährungssicherheit unterstützen, um die langfristige Entwicklung des Landes zu fördern. Bildungsinvestitionen könnten ebenfalls dazu beitragen, die Lebensqualität und die Zukunftschancen der Menschen in Burundi zu verbessern.\n",
    "\n",
    "Beide Länder stehen vor erheblichen Herausforderungen in Bezug auf Gesundheit, Armutsbekämpfung und Bildung. Durch gezielte Investitionen können wir dazu beitragen, die Lebensbedingungen der Menschen in Haiti und Burundi zu verbessern und langfristige nachhaltige Veränderungen zu bewirken.\n",
    "\n",
    "Ich stehe Ihnen gerne zur Verfügung, um weitere Informationen zu unserer Analyse und Empfehlungen zu teilen. Wir können gemeinsam die nächsten Schritte planen, um die Spendengelder effektiv und verantwortungsbewusst einzusetzen.\n",
    "\n",
    "Vielen Dank für Ihr Vertrauen und Ihre Unterstützung.\n",
    "\n",
    "Mit freundlichen Grüßen,\n",
    "Elena Voit \n",
    "Datenwissenschaftler bei HELP International\n",
    "\n",
    "\n",
    "\n",
    "\n",
    "\n"
   ]
  }
 ],
 "metadata": {
  "kernelspec": {
   "display_name": "Python 3",
   "language": "python",
   "name": "python3"
  },
  "language_info": {
   "codemirror_mode": {
    "name": "ipython",
    "version": 3
   },
   "file_extension": ".py",
   "mimetype": "text/x-python",
   "name": "python",
   "nbconvert_exporter": "python",
   "pygments_lexer": "ipython3",
   "version": "3.8.8"
  }
 },
 "nbformat": 4,
 "nbformat_minor": 5
}
