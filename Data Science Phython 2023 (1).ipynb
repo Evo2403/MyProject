{
 "cells": [
  {
   "cell_type": "markdown",
   "id": "11a3c785",
   "metadata": {},
   "source": [
    "Elena Voit Matrikelnummer: 70477102"
   ]
  },
  {
   "cell_type": "markdown",
   "id": "f794277b",
   "metadata": {},
   "source": [
    "1. create the function called count_letter to extract the number of the letters from a sentence from python and output it as a dictionary (Dont forget to check the input type, raise an error if the input type is not what we want)"
   ]
  },
  {
   "cell_type": "code",
   "execution_count": 140,
   "id": "237de707",
   "metadata": {},
   "outputs": [],
   "source": [
    "from collections import Counter\n",
    "\n",
    "def count_letter(satz):\n",
    "    if type(satz) != str:\n",
    "        raise TypeError(\"Input must be a string.\")\n",
    "        \n",
    "    for buchstabe in satz:\n",
    "        ausgabe=[buchstabe for buchstabe in satz if buchstabe.isalpha()]\n",
    "        \n",
    "    return dict (Counter(ausgabe))\n",
    "        "
   ]
  },
  {
   "cell_type": "code",
   "execution_count": 141,
   "id": "0b33c4f8",
   "metadata": {},
   "outputs": [
    {
     "data": {
      "text/plain": [
       "{'h': 1, 'a': 2, 'l': 2, 'o': 1, 'd': 2, 'u': 1}"
      ]
     },
     "execution_count": 141,
     "metadata": {},
     "output_type": "execute_result"
    }
   ],
   "source": [
    "count_letter(\"hallo du da\")"
   ]
  },
  {
   "cell_type": "markdown",
   "id": "417d470b",
   "metadata": {},
   "source": [
    "2. explain the results: why numbers[::-1] get [5,4,3,2,1] and why numbers[4:2:-1] get [5,4]"
   ]
  },
  {
   "cell_type": "code",
   "execution_count": 76,
   "id": "1c7f8564",
   "metadata": {},
   "outputs": [
    {
     "name": "stdout",
     "output_type": "stream",
     "text": [
      "[5, 4, 3, 2, 1]\n",
      "[5, 4]\n"
     ]
    }
   ],
   "source": [
    "numbers =[1,2,3,4,5]\n",
    "# index   0 1 2 3 4\n",
    "#- index -5-4-3-2-1\n",
    "\n",
    "print (numbers[::-1])\n",
    "print (numbers [4:2:-1])"
   ]
  },
  {
   "cell_type": "markdown",
   "id": "ace46266",
   "metadata": {},
   "source": [
    "Mit Hilfe eines Index können wir herausfinden an welcher Stelle einzelne Elemente in einer Sequenz stehen.Dazu beginnen wir von Links mit 0 und zählen nach rechts weiter. Der negative Index fängt bei dem letzten Element inerhalb einer Sequent mit -1 an, und es wird von rechts nach links gezählt. mit Slicing können wir Teilsequenzen oder einzelne Elemente aus der uhrsprünglichen Sequenz extrahieren.Dazu wird der Startindex, Endindex und Srittgröße in Form [start:ende:schritt] eingegeben.\n",
    "\n",
    "Die erste Zeile gibt alle Elemente der Liste in umgekehrter Reinfolge aus.Es fängt bei 0 an und endet bei 5, der index -1 gibt dabei die Schrittrichtung und Schrittgröße an.\n",
    "\n",
    "Die zweite Zeile gibt ein Slice der Liste numbers aus, beginnend mit dem vierten Element (Index 4) und endend mit dem dritten Element (Index 2) in umgekehrter Reihenfolge. Da die Schrittweite als -1 angegeben wurde, gibt dieser Code [5, 4] aus, da das vierte und das dritte Element der Liste in umgekehrter Reihenfolge vorliegen.\n",
    "\n",
    "\n",
    "\n",
    "\n",
    "\n",
    "\n"
   ]
  },
  {
   "cell_type": "markdown",
   "id": "c585d022",
   "metadata": {},
   "source": [
    "3. How to use list slice and index to get [2,4,1] from the list: number = [1,2,3,4,5],\n",
    "   Hints: you can have several steps"
   ]
  },
  {
   "cell_type": "code",
   "execution_count": 136,
   "id": "3b4f2593",
   "metadata": {},
   "outputs": [],
   "source": [
    "number = [1,2,3,4,5]\n",
    "# index 0 1 2 3 4\n",
    "# -index -5-4-3-2-1\n",
    "\n",
    "list = number[1:4:2] + number [:1:]"
   ]
  },
  {
   "cell_type": "code",
   "execution_count": 137,
   "id": "bed6399b",
   "metadata": {},
   "outputs": [
    {
     "name": "stdout",
     "output_type": "stream",
     "text": [
      "[2, 4, 1]\n"
     ]
    }
   ],
   "source": [
    "print (list)"
   ]
  },
  {
   "cell_type": "code",
   "execution_count": null,
   "id": "7263e1ca",
   "metadata": {},
   "outputs": [],
   "source": []
  }
 ],
 "metadata": {
  "kernelspec": {
   "display_name": "Python 3",
   "language": "python",
   "name": "python3"
  },
  "language_info": {
   "codemirror_mode": {
    "name": "ipython",
    "version": 3
   },
   "file_extension": ".py",
   "mimetype": "text/x-python",
   "name": "python",
   "nbconvert_exporter": "python",
   "pygments_lexer": "ipython3",
   "version": "3.8.8"
  }
 },
 "nbformat": 4,
 "nbformat_minor": 5
}
