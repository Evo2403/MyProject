{
 "cells": [
  {
   "cell_type": "code",
   "execution_count": 2,
   "id": "473a1b32",
   "metadata": {},
   "outputs": [],
   "source": [
    "import pandas as pd\n",
    "import numpy as np\n"
   ]
  },
  {
   "cell_type": "code",
   "execution_count": 3,
   "id": "17f266dc",
   "metadata": {},
   "outputs": [],
   "source": [
    "patient_info = pd.read_csv(\"https://raw.githubusercontent.com/WHPAN0108/BHT-DataScience-S23/main/data_clean/data/patient_info.csv\")\n",
    "date = pd.read_csv(\"https://raw.githubusercontent.com/WHPAN0108/BHT-DataScience-S23/main/data_clean/data/date.csv\")"
   ]
  },
  {
   "cell_type": "code",
   "execution_count": 4,
   "id": "297a0295",
   "metadata": {},
   "outputs": [
    {
     "data": {
      "text/html": [
       "<div>\n",
       "<style scoped>\n",
       "    .dataframe tbody tr th:only-of-type {\n",
       "        vertical-align: middle;\n",
       "    }\n",
       "\n",
       "    .dataframe tbody tr th {\n",
       "        vertical-align: top;\n",
       "    }\n",
       "\n",
       "    .dataframe thead th {\n",
       "        text-align: right;\n",
       "    }\n",
       "</style>\n",
       "<table border=\"1\" class=\"dataframe\">\n",
       "  <thead>\n",
       "    <tr style=\"text-align: right;\">\n",
       "      <th></th>\n",
       "      <th>Participant_ID</th>\n",
       "      <th>Sex</th>\n",
       "      <th>Age</th>\n",
       "      <th>Smoking_status</th>\n",
       "      <th>BMI</th>\n",
       "      <th>Disease</th>\n",
       "    </tr>\n",
       "  </thead>\n",
       "  <tbody>\n",
       "    <tr>\n",
       "      <th>0</th>\n",
       "      <td>1003300</td>\n",
       "      <td>Male</td>\n",
       "      <td>62</td>\n",
       "      <td>Previous</td>\n",
       "      <td>33.7597</td>\n",
       "      <td>2</td>\n",
       "    </tr>\n",
       "    <tr>\n",
       "      <th>1</th>\n",
       "      <td>1004025</td>\n",
       "      <td>Male</td>\n",
       "      <td>60</td>\n",
       "      <td>Previous</td>\n",
       "      <td>28.1173</td>\n",
       "      <td>1</td>\n",
       "    </tr>\n",
       "    <tr>\n",
       "      <th>2</th>\n",
       "      <td>1005551</td>\n",
       "      <td>Male</td>\n",
       "      <td>69</td>\n",
       "      <td>Previous</td>\n",
       "      <td>26.4159</td>\n",
       "      <td>2</td>\n",
       "    </tr>\n",
       "    <tr>\n",
       "      <th>3</th>\n",
       "      <td>1005594</td>\n",
       "      <td>Male</td>\n",
       "      <td>64</td>\n",
       "      <td>Previous</td>\n",
       "      <td>24.7550</td>\n",
       "      <td>1</td>\n",
       "    </tr>\n",
       "    <tr>\n",
       "      <th>4</th>\n",
       "      <td>1005624</td>\n",
       "      <td>Male</td>\n",
       "      <td>64</td>\n",
       "      <td>Previous</td>\n",
       "      <td>35.0773</td>\n",
       "      <td>2</td>\n",
       "    </tr>\n",
       "    <tr>\n",
       "      <th>...</th>\n",
       "      <td>...</td>\n",
       "      <td>...</td>\n",
       "      <td>...</td>\n",
       "      <td>...</td>\n",
       "      <td>...</td>\n",
       "      <td>...</td>\n",
       "    </tr>\n",
       "    <tr>\n",
       "      <th>2213</th>\n",
       "      <td>6009769</td>\n",
       "      <td>Male</td>\n",
       "      <td>48</td>\n",
       "      <td>Previous</td>\n",
       "      <td>39.3345</td>\n",
       "      <td>2</td>\n",
       "    </tr>\n",
       "    <tr>\n",
       "      <th>2214</th>\n",
       "      <td>6011693</td>\n",
       "      <td>Male</td>\n",
       "      <td>62</td>\n",
       "      <td>Previous</td>\n",
       "      <td>30.8813</td>\n",
       "      <td>2</td>\n",
       "    </tr>\n",
       "    <tr>\n",
       "      <th>2215</th>\n",
       "      <td>6015403</td>\n",
       "      <td>Female</td>\n",
       "      <td>60</td>\n",
       "      <td>Previous</td>\n",
       "      <td>34.7276</td>\n",
       "      <td>1</td>\n",
       "    </tr>\n",
       "    <tr>\n",
       "      <th>2216</th>\n",
       "      <td>6019982</td>\n",
       "      <td>Male</td>\n",
       "      <td>54</td>\n",
       "      <td>Never</td>\n",
       "      <td>25.3287</td>\n",
       "      <td>2</td>\n",
       "    </tr>\n",
       "    <tr>\n",
       "      <th>2217</th>\n",
       "      <td>6020094</td>\n",
       "      <td>Female</td>\n",
       "      <td>63</td>\n",
       "      <td>Never</td>\n",
       "      <td>24.2972</td>\n",
       "      <td>2</td>\n",
       "    </tr>\n",
       "  </tbody>\n",
       "</table>\n",
       "<p>2218 rows × 6 columns</p>\n",
       "</div>"
      ],
      "text/plain": [
       "      Participant_ID     Sex  Age Smoking_status      BMI  Disease\n",
       "0            1003300    Male   62       Previous  33.7597        2\n",
       "1            1004025    Male   60       Previous  28.1173        1\n",
       "2            1005551    Male   69       Previous  26.4159        2\n",
       "3            1005594    Male   64       Previous  24.7550        1\n",
       "4            1005624    Male   64       Previous  35.0773        2\n",
       "...              ...     ...  ...            ...      ...      ...\n",
       "2213         6009769    Male   48       Previous  39.3345        2\n",
       "2214         6011693    Male   62       Previous  30.8813        2\n",
       "2215         6015403  Female   60       Previous  34.7276        1\n",
       "2216         6019982    Male   54          Never  25.3287        2\n",
       "2217         6020094  Female   63          Never  24.2972        2\n",
       "\n",
       "[2218 rows x 6 columns]"
      ]
     },
     "execution_count": 4,
     "metadata": {},
     "output_type": "execute_result"
    }
   ],
   "source": [
    "patient_info"
   ]
  },
  {
   "cell_type": "code",
   "execution_count": 5,
   "id": "9eab4740",
   "metadata": {},
   "outputs": [
    {
     "data": {
      "text/plain": [
       "Participant_ID     0\n",
       "Sex                0\n",
       "Age                0\n",
       "Smoking_status     3\n",
       "BMI               19\n",
       "Disease            0\n",
       "dtype: int64"
      ]
     },
     "execution_count": 5,
     "metadata": {},
     "output_type": "execute_result"
    }
   ],
   "source": [
    "#The dataset has 19 missing values in the variable bmi and 3 missing values in variable smoking_status \n",
    "patient_info.isnull().sum()"
   ]
  },
  {
   "cell_type": "markdown",
   "id": "3d605964",
   "metadata": {},
   "source": [
    "1. The missing value from BMI can be replaced with the mean value of  its regarding gender\n",
    "\n"
   ]
  },
  {
   "cell_type": "code",
   "execution_count": 6,
   "id": "a3f0feef",
   "metadata": {},
   "outputs": [],
   "source": [
    "## Calculate the mean BMI for each gender\n",
    "mean_bmi_by_gender = patient_info.groupby('Sex')['BMI'].mean()"
   ]
  },
  {
   "cell_type": "code",
   "execution_count": 7,
   "id": "297f002b",
   "metadata": {},
   "outputs": [],
   "source": [
    "# Replace missing BMI values with the mean BMI of their respective gender\n",
    "patient_info['BMI'] = patient_info.apply(\n",
    "    lambda row: mean_bmi_by_gender[row['Sex']] if pd.isna(row['BMI']) else row['BMI'],\n",
    "    axis=1)"
   ]
  },
  {
   "cell_type": "code",
   "execution_count": 8,
   "id": "e24d6300",
   "metadata": {
    "scrolled": true
   },
   "outputs": [
    {
     "data": {
      "text/plain": [
       "Participant_ID    0\n",
       "Sex               0\n",
       "Age               0\n",
       "Smoking_status    3\n",
       "BMI               0\n",
       "Disease           0\n",
       "dtype: int64"
      ]
     },
     "execution_count": 8,
     "metadata": {},
     "output_type": "execute_result"
    }
   ],
   "source": [
    "#Test 0 Missing BMI values\n",
    "patient_info.isnull().sum()"
   ]
  },
  {
   "cell_type": "code",
   "execution_count": null,
   "id": "9ca1608f",
   "metadata": {},
   "outputs": [],
   "source": []
  },
  {
   "cell_type": "markdown",
   "id": "73f800c3",
   "metadata": {},
   "source": [
    "2. Do the sanity check for all the columns in 2 files, and remove the sample which does not pass the sanity check"
   ]
  },
  {
   "cell_type": "code",
   "execution_count": 9,
   "id": "7e3b6667",
   "metadata": {},
   "outputs": [
    {
     "name": "stdout",
     "output_type": "stream",
     "text": [
      "Participant_ID: [1003300 1004025 1005551 ... 6015403 6019982 6020094]\n",
      "Sex: ['Male' 'Female']\n",
      "Age: [62 60 69 64 66 58 63 40 67 61 65 44 55 52 57 56 70 43 59 68 45 46 54 48\n",
      " 50 51 47 53 42 49 41  6]\n",
      "Smoking_status: ['Previous' 'Never' 'Current' 'Prefer not to answer' nan]\n",
      "BMI: [33.7597 28.1173 26.4159 ... 30.8813 34.7276 24.2972]\n",
      "Disease: [2 1]\n"
     ]
    }
   ],
   "source": [
    "for column in patient_info:\n",
    "    print(f\"{column}: {patient_info[column].unique()}\")"
   ]
  },
  {
   "cell_type": "code",
   "execution_count": 10,
   "id": "52c97cd0",
   "metadata": {},
   "outputs": [],
   "source": [
    "# Die Spalten Sex, Age und Disease sind in Ordnung. Weiter gehr es mit Prüfung von Participant_ID"
   ]
  },
  {
   "cell_type": "code",
   "execution_count": 11,
   "id": "aada4444",
   "metadata": {},
   "outputs": [
    {
     "name": "stdout",
     "output_type": "stream",
     "text": [
      "Alle Patienten-IDs sind numerisch und bestehen aus 7 Ziffern.\n"
     ]
    }
   ],
   "source": [
    "#prüfen der Participant_ID\n",
    "\n",
    "df_valid_ids = patient_info['Participant_ID'].astype(str).str.match(r'^\\d{7}$')\n",
    "\n",
    "alles_ok=df_valid_ids.all()\n",
    "\n",
    "if alles_ok:\n",
    "    \n",
    "    print(\"Alle Patienten-IDs sind numerisch und bestehen aus 7 Ziffern.\")\n",
    "else:\n",
    "    print(\"Es gibt Patienten-IDs, die nicht numerisch sind oder nicht aus 7 Ziffern bestehen.\")\n",
    "    \n"
   ]
  },
  {
   "cell_type": "code",
   "execution_count": 12,
   "id": "61a30be4",
   "metadata": {},
   "outputs": [],
   "source": [
    "# alle Patientennummer haben 7 Ziffern und sind numerisch"
   ]
  },
  {
   "cell_type": "code",
   "execution_count": 13,
   "id": "e1b31764",
   "metadata": {},
   "outputs": [
    {
     "name": "stdout",
     "output_type": "stream",
     "text": [
      "Min value of BMI:  -31.4133\n",
      "Max value of BMI: 100.357\n"
     ]
    }
   ],
   "source": [
    "#Prüfen der BMI:\n",
    "print(\"Min value of BMI: \", patient_info.BMI.min())\n",
    "print(\"Max value of BMI:\", patient_info.BMI.max())"
   ]
  },
  {
   "cell_type": "code",
   "execution_count": 14,
   "id": "a17ebe22",
   "metadata": {},
   "outputs": [],
   "source": [
    "#Es gibt BMI Werte, die nicht zwischen 15 und 60 Liegen. Also werden diese löschen"
   ]
  },
  {
   "cell_type": "code",
   "execution_count": 15,
   "id": "821acb46",
   "metadata": {},
   "outputs": [],
   "source": [
    "patient_info_cleand = patient_info[(patient_info['BMI'] >= 15) & (patient_info['BMI'] <= 60)]\n",
    "\n"
   ]
  },
  {
   "cell_type": "code",
   "execution_count": 16,
   "id": "eb17cca0",
   "metadata": {},
   "outputs": [
    {
     "name": "stdout",
     "output_type": "stream",
     "text": [
      "Min value of BMI:  16.0037\n",
      "Max value of BMI: 58.9468\n"
     ]
    }
   ],
   "source": [
    "#Test der BMI\n",
    "print(\"Min value of BMI: \", patient_info_cleand.BMI.min())\n",
    "print(\"Max value of BMI:\", patient_info_cleand.BMI.max())"
   ]
  },
  {
   "cell_type": "code",
   "execution_count": 17,
   "id": "a21a706c",
   "metadata": {},
   "outputs": [],
   "source": [
    "# hier werden nur die zulässige Werte für Spalte \"Smoking_status\" definiert und im neuen Datensatz berücksichtigt.\n",
    "allowed_values = [\"Never\", \"Previous\", \"Current\", \"Prefer not to answer\"]\n",
    "patient_info_cleand = patient_info_cleand[patient_info_cleand['Smoking_status'].isin(allowed_values)]\n"
   ]
  },
  {
   "cell_type": "code",
   "execution_count": 18,
   "id": "52bb1bc4",
   "metadata": {},
   "outputs": [
    {
     "data": {
      "text/plain": [
       "Participant_ID    0\n",
       "Sex               0\n",
       "Age               0\n",
       "Smoking_status    0\n",
       "BMI               0\n",
       "Disease           0\n",
       "dtype: int64"
      ]
     },
     "execution_count": 18,
     "metadata": {},
     "output_type": "execute_result"
    }
   ],
   "source": [
    "#Test 0 Missing Values\n",
    "patient_info_cleand.isnull().sum()"
   ]
  },
  {
   "cell_type": "code",
   "execution_count": 19,
   "id": "d48ca8f1",
   "metadata": {},
   "outputs": [
    {
     "name": "stdout",
     "output_type": "stream",
     "text": [
      "      Participant_ID     Sex  Age Smoking_status      BMI  Disease\n",
      "0            1003300    Male   62       Previous  33.7597        2\n",
      "1            1004025    Male   60       Previous  28.1173        1\n",
      "2            1005551    Male   69       Previous  26.4159        2\n",
      "3            1005594    Male   64       Previous  24.7550        1\n",
      "4            1005624    Male   64       Previous  35.0773        2\n",
      "...              ...     ...  ...            ...      ...      ...\n",
      "2213         6009769    Male   48       Previous  39.3345        2\n",
      "2214         6011693    Male   62       Previous  30.8813        2\n",
      "2215         6015403  Female   60       Previous  34.7276        1\n",
      "2216         6019982    Male   54          Never  25.3287        2\n",
      "2217         6020094  Female   63          Never  24.2972        2\n",
      "\n",
      "[2213 rows x 6 columns]\n"
     ]
    }
   ],
   "source": [
    "print (patient_info_cleand)"
   ]
  },
  {
   "cell_type": "code",
   "execution_count": 20,
   "id": "04b1d872",
   "metadata": {},
   "outputs": [],
   "source": [
    "date = pd.read_csv(\"https://raw.githubusercontent.com/WHPAN0108/BHT-DataScience-S23/main/data_clean/data/date.csv\")"
   ]
  },
  {
   "cell_type": "code",
   "execution_count": 21,
   "id": "1b647d34",
   "metadata": {},
   "outputs": [
    {
     "data": {
      "text/html": [
       "<div>\n",
       "<style scoped>\n",
       "    .dataframe tbody tr th:only-of-type {\n",
       "        vertical-align: middle;\n",
       "    }\n",
       "\n",
       "    .dataframe tbody tr th {\n",
       "        vertical-align: top;\n",
       "    }\n",
       "\n",
       "    .dataframe thead th {\n",
       "        text-align: right;\n",
       "    }\n",
       "</style>\n",
       "<table border=\"1\" class=\"dataframe\">\n",
       "  <thead>\n",
       "    <tr style=\"text-align: right;\">\n",
       "      <th></th>\n",
       "      <th>Participant_ID</th>\n",
       "      <th>VisitDate</th>\n",
       "    </tr>\n",
       "  </thead>\n",
       "  <tbody>\n",
       "    <tr>\n",
       "      <th>0</th>\n",
       "      <td>1003300</td>\n",
       "      <td>1/7/2022</td>\n",
       "    </tr>\n",
       "    <tr>\n",
       "      <th>1</th>\n",
       "      <td>1003300</td>\n",
       "      <td>27/10/2021</td>\n",
       "    </tr>\n",
       "    <tr>\n",
       "      <th>2</th>\n",
       "      <td>1004025</td>\n",
       "      <td>19/05/2010</td>\n",
       "    </tr>\n",
       "    <tr>\n",
       "      <th>3</th>\n",
       "      <td>1005551</td>\n",
       "      <td>25/08/2021</td>\n",
       "    </tr>\n",
       "    <tr>\n",
       "      <th>4</th>\n",
       "      <td>1005551</td>\n",
       "      <td>29/06/2021</td>\n",
       "    </tr>\n",
       "    <tr>\n",
       "      <th>...</th>\n",
       "      <td>...</td>\n",
       "      <td>...</td>\n",
       "    </tr>\n",
       "    <tr>\n",
       "      <th>2886</th>\n",
       "      <td>6011693</td>\n",
       "      <td>27/10/2017</td>\n",
       "    </tr>\n",
       "    <tr>\n",
       "      <th>2887</th>\n",
       "      <td>6015403</td>\n",
       "      <td>14/08/2018</td>\n",
       "    </tr>\n",
       "    <tr>\n",
       "      <th>2888</th>\n",
       "      <td>6019982</td>\n",
       "      <td>19/01/2015</td>\n",
       "    </tr>\n",
       "    <tr>\n",
       "      <th>2889</th>\n",
       "      <td>6020094</td>\n",
       "      <td>13/06/2021</td>\n",
       "    </tr>\n",
       "    <tr>\n",
       "      <th>2890</th>\n",
       "      <td>6020094</td>\n",
       "      <td>22/04/2022</td>\n",
       "    </tr>\n",
       "  </tbody>\n",
       "</table>\n",
       "<p>2891 rows × 2 columns</p>\n",
       "</div>"
      ],
      "text/plain": [
       "      Participant_ID   VisitDate\n",
       "0            1003300    1/7/2022\n",
       "1            1003300  27/10/2021\n",
       "2            1004025  19/05/2010\n",
       "3            1005551  25/08/2021\n",
       "4            1005551  29/06/2021\n",
       "...              ...         ...\n",
       "2886         6011693  27/10/2017\n",
       "2887         6015403  14/08/2018\n",
       "2888         6019982  19/01/2015\n",
       "2889         6020094  13/06/2021\n",
       "2890         6020094  22/04/2022\n",
       "\n",
       "[2891 rows x 2 columns]"
      ]
     },
     "execution_count": 21,
     "metadata": {},
     "output_type": "execute_result"
    }
   ],
   "source": [
    "date"
   ]
  },
  {
   "cell_type": "code",
   "execution_count": 22,
   "id": "01f66862",
   "metadata": {},
   "outputs": [
    {
     "name": "stdout",
     "output_type": "stream",
     "text": [
      "Alle Patienten-IDs sind numerisch und bestehen aus 7 Ziffern.\n"
     ]
    }
   ],
   "source": [
    "#prüfen der Participant_ID für datensatz \"date\"\n",
    "\n",
    "df_valid_ids = date['Participant_ID'].astype(str).str.match(r'^\\d{7}$')\n",
    "\n",
    "alles_ok=df_valid_ids.all()\n",
    "\n",
    "if alles_ok:\n",
    "    \n",
    "    print(\"Alle Patienten-IDs sind numerisch und bestehen aus 7 Ziffern.\")\n",
    "else:\n",
    "    print(\"Es gibt Patienten-IDs, die nicht numerisch sind oder nicht aus 7 Ziffern bestehen.\")\n",
    "    \n"
   ]
  },
  {
   "cell_type": "code",
   "execution_count": 23,
   "id": "3e097144",
   "metadata": {},
   "outputs": [],
   "source": [
    "#alle Pazientennumern bestehen aus 7 Ziffern"
   ]
  },
  {
   "cell_type": "markdown",
   "id": "4a92a217",
   "metadata": {},
   "source": [
    "3. Calculate the number of visits of each patient, if the VisitDate is missing, means they don't visit the hospital during that period"
   ]
  },
  {
   "cell_type": "code",
   "execution_count": 24,
   "id": "0a17f92f",
   "metadata": {},
   "outputs": [],
   "source": [
    "# die fehlenden VisitDates werden mit 0 ersetzt \n",
    "date['VisitDate'].fillna(0, inplace=True)"
   ]
  },
  {
   "cell_type": "code",
   "execution_count": 25,
   "id": "03257c87",
   "metadata": {},
   "outputs": [
    {
     "data": {
      "text/plain": [
       "Participant_ID    0\n",
       "VisitDate         0\n",
       "dtype: int64"
      ]
     },
     "execution_count": 25,
     "metadata": {},
     "output_type": "execute_result"
    }
   ],
   "source": [
    "date.isnull().sum()"
   ]
  },
  {
   "cell_type": "code",
   "execution_count": 26,
   "id": "0df80da7",
   "metadata": {},
   "outputs": [
    {
     "name": "stdout",
     "output_type": "stream",
     "text": [
      "      Participant_ID  Number of Visits\n",
      "0            1003300                 2\n",
      "1            1004025                 1\n",
      "2            1005551                 2\n",
      "3            1005594                 1\n",
      "4            1005624                 2\n",
      "...              ...               ...\n",
      "2211         6009769                 1\n",
      "2212         6011693                 4\n",
      "2213         6015403                 1\n",
      "2214         6019982                 1\n",
      "2215         6020094                 2\n",
      "\n",
      "[2216 rows x 2 columns]\n"
     ]
    }
   ],
   "source": [
    "#Berechnung der Besuchsanzahl für jeden Patienten\n",
    "visits = date.groupby('Participant_ID')['VisitDate'].count().reset_index()\n",
    "visits.rename(columns={'VisitDate': 'Number of Visits'}, inplace=True)\n",
    "\n",
    "print (visits)\n"
   ]
  },
  {
   "cell_type": "markdown",
   "id": "9be1a5ee",
   "metadata": {},
   "source": [
    "4. Merge two files with columns: Patient_ID, Sex, Age, BMI, Smoking_status, Number_of_visit, Disease"
   ]
  },
  {
   "cell_type": "code",
   "execution_count": 27,
   "id": "b3f14b1a",
   "metadata": {},
   "outputs": [
    {
     "name": "stdout",
     "output_type": "stream",
     "text": [
      "      Participant_ID     Sex  Age Smoking_status      BMI  Disease  \\\n",
      "0            1003300    Male   62       Previous  33.7597        2   \n",
      "1            1004025    Male   60       Previous  28.1173        1   \n",
      "2            1005551    Male   69       Previous  26.4159        2   \n",
      "3            1005594    Male   64       Previous  24.7550        1   \n",
      "4            1005624    Male   64       Previous  35.0773        2   \n",
      "...              ...     ...  ...            ...      ...      ...   \n",
      "2208         6009769    Male   48       Previous  39.3345        2   \n",
      "2209         6011693    Male   62       Previous  30.8813        2   \n",
      "2210         6015403  Female   60       Previous  34.7276        1   \n",
      "2211         6019982    Male   54          Never  25.3287        2   \n",
      "2212         6020094  Female   63          Never  24.2972        2   \n",
      "\n",
      "      Number of Visits  \n",
      "0                    2  \n",
      "1                    1  \n",
      "2                    2  \n",
      "3                    1  \n",
      "4                    2  \n",
      "...                ...  \n",
      "2208                 1  \n",
      "2209                 4  \n",
      "2210                 1  \n",
      "2211                 1  \n",
      "2212                 2  \n",
      "\n",
      "[2213 rows x 7 columns]\n"
     ]
    }
   ],
   "source": [
    "df3 = pd.merge(patient_info_cleand, visits, on = 'Participant_ID' )\n",
    "print (df3)"
   ]
  },
  {
   "cell_type": "markdown",
   "id": "76e29ffb",
   "metadata": {},
   "source": [
    "# Task 2 : Statistics (you don't need to check the model assumption in this exercise)"
   ]
  },
  {
   "cell_type": "markdown",
   "id": "41bdebee",
   "metadata": {},
   "source": [
    "## 1. Is the BMI different between the healthy and control group? make the box/violin chart ( factor 1 means disease, 2 means healthy)\n"
   ]
  },
  {
   "cell_type": "code",
   "execution_count": 28,
   "id": "f7e0693b",
   "metadata": {},
   "outputs": [],
   "source": [
    "import seaborn as sns\n",
    "import matplotlib.pyplot as plt"
   ]
  },
  {
   "cell_type": "markdown",
   "id": "819928d7",
   "metadata": {},
   "source": [
    "H0: es gibt keine Unterschied im BMI zwischen der beiden Gruppen\n",
    "H1: es gibt Unterschide im BMI zwischen der beiden Gruppen"
   ]
  },
  {
   "cell_type": "code",
   "execution_count": 30,
   "id": "3428d3ab",
   "metadata": {},
   "outputs": [],
   "source": [
    "#Dafür filtere ich die die beiden Gruppen aus den gesammten Datensatz und schpeichere die BMIs für die jeweilige Gruppe in separate Tabelle\n",
    "group_disease_data = df3.loc[df3[\"Disease\"]==1,[\"BMI\"]]\n",
    "\n",
    "group_healthy_data = df3.loc[df3[\"Disease\"]==2,[\"BMI\"]]\n"
   ]
  },
  {
   "cell_type": "markdown",
   "id": "3c8f31d6",
   "metadata": {},
   "source": [
    "Berechnung der Mittelwerte und Standartabweichungen für jede Gruppe"
   ]
  },
  {
   "cell_type": "code",
   "execution_count": 31,
   "id": "332e8cbd",
   "metadata": {},
   "outputs": [
    {
     "data": {
      "text/plain": [
       "BMI    29.041336\n",
       "dtype: float64"
      ]
     },
     "execution_count": 31,
     "metadata": {},
     "output_type": "execute_result"
    }
   ],
   "source": [
    "group_disease_data.mean()"
   ]
  },
  {
   "cell_type": "code",
   "execution_count": 32,
   "id": "dd866d53",
   "metadata": {},
   "outputs": [
    {
     "data": {
      "text/plain": [
       "BMI    5.118812\n",
       "dtype: float64"
      ]
     },
     "execution_count": 32,
     "metadata": {},
     "output_type": "execute_result"
    }
   ],
   "source": [
    "group_disease_data.std()"
   ]
  },
  {
   "cell_type": "code",
   "execution_count": 33,
   "id": "eb3f67bf",
   "metadata": {},
   "outputs": [
    {
     "data": {
      "text/plain": [
       "BMI    29.089782\n",
       "dtype: float64"
      ]
     },
     "execution_count": 33,
     "metadata": {},
     "output_type": "execute_result"
    }
   ],
   "source": [
    "group_healthy_data.mean()"
   ]
  },
  {
   "cell_type": "code",
   "execution_count": 34,
   "id": "ed51251a",
   "metadata": {},
   "outputs": [
    {
     "data": {
      "text/plain": [
       "BMI    5.213808\n",
       "dtype: float64"
      ]
     },
     "execution_count": 34,
     "metadata": {},
     "output_type": "execute_result"
    }
   ],
   "source": [
    "group_healthy_data.std()"
   ]
  },
  {
   "cell_type": "markdown",
   "id": "746086d6",
   "metadata": {},
   "source": [
    "Und Visualisierung der Daten"
   ]
  },
  {
   "cell_type": "code",
   "execution_count": 35,
   "id": "efc9c555",
   "metadata": {},
   "outputs": [
    {
     "data": {
      "text/plain": [
       "<AxesSubplot:xlabel='Disease', ylabel='BMI'>"
      ]
     },
     "execution_count": 35,
     "metadata": {},
     "output_type": "execute_result"
    },
    {
     "data": {
      "image/png": "[encoded data removed]",
      "text/plain": [
       "<Figure size 432x288 with 1 Axes>"
      ]
     },
     "metadata": {
      "needs_background": "light"
     },
     "output_type": "display_data"
    }
   ],
   "source": [
    "sns.boxplot(x='Disease', y='BMI', data=df3)"
   ]
  },
  {
   "cell_type": "code",
   "execution_count": 36,
   "id": "885c7e36",
   "metadata": {},
   "outputs": [
    {
     "data": {
      "text/plain": [
       "<AxesSubplot:xlabel='Disease', ylabel='BMI'>"
      ]
     },
     "execution_count": 36,
     "metadata": {},
     "output_type": "execute_result"
    },
    {
     "data": {
      "image/png": "[encoded data removed]",
      "text/plain": [
       "<Figure size 432x288 with 1 Axes>"
      ]
     },
     "metadata": {
      "needs_background": "light"
     },
     "output_type": "display_data"
    }
   ],
   "source": [
    "sns.violinplot(x=\"Disease\", y='BMI', data=df3)"
   ]
  },
  {
   "cell_type": "markdown",
   "id": "6df7561b",
   "metadata": {},
   "source": [
    "Es ist keine sichtbare Differenz erkennbar. Es kann ein T-Test durchgeführt werden um zu überprüfen ob der Mittelwert zweier Gruppen statistisch signifikant unterschiedlich ist. Es wird ein p-wert ermittelt, welcher die Wahrscheinlichkeit angibt, dass ein Unterschied im BMI zwischen den Gruppen allein aufgrund des Zufalls auftritt oder nicht. Wenn der p-Wert kleiner ist als das gewählte Signifikanzniveau (alpha=typischerweise kleiner als 0,05), wird davon ausgegangen, dass es einen statistisch signifikanten Unterschied gibt. \n",
    "Basierend auf den vorliegenden Daten und der durchgeführten statistischen Analyse wurden keine ausreichenden Beweise gefunden, um die Nullhypothese zu verwerfen. Daher wird H0 bestätigt."
   ]
  },
  {
   "cell_type": "code",
   "execution_count": 37,
   "id": "f35609ce",
   "metadata": {},
   "outputs": [
    {
     "name": "stdout",
     "output_type": "stream",
     "text": [
      "Es gibt keinen statistisch signifikanten Unterschied im BMI zwischen den Gruppen.\n",
      "p-Wert: 0.8468311334245384\n"
     ]
    }
   ],
   "source": [
    "from scipy.stats import ttest_ind\n",
    "\n",
    "t_statistic, p_value = ttest_ind(group_disease_data['BMI'], group_healthy_data['BMI'], equal_var=False)\n",
    "\n",
    "alpha = 0.05\n",
    "\n",
    "\n",
    "if p_value < alpha:\n",
    "    \n",
    "    \n",
    "    print(\"Es gibt einen statistisch signifikanten Unterschied im BMI zwischen den Gruppen.\")\n",
    "    \n",
    "else:\n",
    "    \n",
    "    print(\"Es gibt keinen statistisch signifikanten Unterschied im BMI zwischen den Gruppen.\")\n",
    "    \n",
    "    print (\"p-Wert:\", p_value)\n"
   ]
  },
  {
   "cell_type": "markdown",
   "id": "b5b72d63",
   "metadata": {},
   "source": [
    "## 2. Is the proportion of Smoke status different between the healthy and control group?"
   ]
  },
  {
   "cell_type": "markdown",
   "id": "e6422080",
   "metadata": {},
   "source": [
    "H0: Es gibt keinen Unterschied im Raucherstatus in beiden gruppen\n",
    "H1: Es gibt Unterschied im Raucherstatus in beiden gruppen"
   ]
  },
  {
   "cell_type": "code",
   "execution_count": 38,
   "id": "3ca8df50",
   "metadata": {},
   "outputs": [
    {
     "data": {
      "text/html": [
       "<div>\n",
       "<style scoped>\n",
       "    .dataframe tbody tr th:only-of-type {\n",
       "        vertical-align: middle;\n",
       "    }\n",
       "\n",
       "    .dataframe tbody tr th {\n",
       "        vertical-align: top;\n",
       "    }\n",
       "\n",
       "    .dataframe thead th {\n",
       "        text-align: right;\n",
       "    }\n",
       "</style>\n",
       "<table border=\"1\" class=\"dataframe\">\n",
       "  <thead>\n",
       "    <tr style=\"text-align: right;\">\n",
       "      <th></th>\n",
       "      <th>Disease</th>\n",
       "      <th>Smoking_status</th>\n",
       "    </tr>\n",
       "  </thead>\n",
       "  <tbody>\n",
       "    <tr>\n",
       "      <th>0</th>\n",
       "      <td>2</td>\n",
       "      <td>Previous</td>\n",
       "    </tr>\n",
       "    <tr>\n",
       "      <th>1</th>\n",
       "      <td>1</td>\n",
       "      <td>Previous</td>\n",
       "    </tr>\n",
       "    <tr>\n",
       "      <th>2</th>\n",
       "      <td>2</td>\n",
       "      <td>Previous</td>\n",
       "    </tr>\n",
       "    <tr>\n",
       "      <th>3</th>\n",
       "      <td>1</td>\n",
       "      <td>Previous</td>\n",
       "    </tr>\n",
       "    <tr>\n",
       "      <th>4</th>\n",
       "      <td>2</td>\n",
       "      <td>Previous</td>\n",
       "    </tr>\n",
       "    <tr>\n",
       "      <th>...</th>\n",
       "      <td>...</td>\n",
       "      <td>...</td>\n",
       "    </tr>\n",
       "    <tr>\n",
       "      <th>2208</th>\n",
       "      <td>2</td>\n",
       "      <td>Previous</td>\n",
       "    </tr>\n",
       "    <tr>\n",
       "      <th>2209</th>\n",
       "      <td>2</td>\n",
       "      <td>Previous</td>\n",
       "    </tr>\n",
       "    <tr>\n",
       "      <th>2210</th>\n",
       "      <td>1</td>\n",
       "      <td>Previous</td>\n",
       "    </tr>\n",
       "    <tr>\n",
       "      <th>2211</th>\n",
       "      <td>2</td>\n",
       "      <td>Never</td>\n",
       "    </tr>\n",
       "    <tr>\n",
       "      <th>2212</th>\n",
       "      <td>2</td>\n",
       "      <td>Never</td>\n",
       "    </tr>\n",
       "  </tbody>\n",
       "</table>\n",
       "<p>2213 rows × 2 columns</p>\n",
       "</div>"
      ],
      "text/plain": [
       "      Disease Smoking_status\n",
       "0           2       Previous\n",
       "1           1       Previous\n",
       "2           2       Previous\n",
       "3           1       Previous\n",
       "4           2       Previous\n",
       "...       ...            ...\n",
       "2208        2       Previous\n",
       "2209        2       Previous\n",
       "2210        1       Previous\n",
       "2211        2          Never\n",
       "2212        2          Never\n",
       "\n",
       "[2213 rows x 2 columns]"
      ]
     },
     "execution_count": 38,
     "metadata": {},
     "output_type": "execute_result"
    }
   ],
   "source": [
    "#zuerst werden die notwendige Daten aus dem gesamten Datensatz rausgefiltert\n",
    "smoking = df3[[\"Disease\",\"Smoking_status\"]]\n",
    "\n",
    "smoking"
   ]
  },
  {
   "cell_type": "code",
   "execution_count": 39,
   "id": "1c89e8c0",
   "metadata": {},
   "outputs": [
    {
     "data": {
      "text/html": [
       "<div>\n",
       "<style scoped>\n",
       "    .dataframe tbody tr th:only-of-type {\n",
       "        vertical-align: middle;\n",
       "    }\n",
       "\n",
       "    .dataframe tbody tr th {\n",
       "        vertical-align: top;\n",
       "    }\n",
       "\n",
       "    .dataframe thead th {\n",
       "        text-align: right;\n",
       "    }\n",
       "</style>\n",
       "<table border=\"1\" class=\"dataframe\">\n",
       "  <thead>\n",
       "    <tr style=\"text-align: right;\">\n",
       "      <th>Disease</th>\n",
       "      <th>1</th>\n",
       "      <th>2</th>\n",
       "      <th>All</th>\n",
       "    </tr>\n",
       "    <tr>\n",
       "      <th>Smoking_status</th>\n",
       "      <th></th>\n",
       "      <th></th>\n",
       "      <th></th>\n",
       "    </tr>\n",
       "  </thead>\n",
       "  <tbody>\n",
       "    <tr>\n",
       "      <th>Current</th>\n",
       "      <td>92</td>\n",
       "      <td>258</td>\n",
       "      <td>350</td>\n",
       "    </tr>\n",
       "    <tr>\n",
       "      <th>Never</th>\n",
       "      <td>214</td>\n",
       "      <td>636</td>\n",
       "      <td>850</td>\n",
       "    </tr>\n",
       "    <tr>\n",
       "      <th>Prefer not to answer</th>\n",
       "      <td>5</td>\n",
       "      <td>4</td>\n",
       "      <td>9</td>\n",
       "    </tr>\n",
       "    <tr>\n",
       "      <th>Previous</th>\n",
       "      <td>254</td>\n",
       "      <td>750</td>\n",
       "      <td>1004</td>\n",
       "    </tr>\n",
       "    <tr>\n",
       "      <th>All</th>\n",
       "      <td>565</td>\n",
       "      <td>1648</td>\n",
       "      <td>2213</td>\n",
       "    </tr>\n",
       "  </tbody>\n",
       "</table>\n",
       "</div>"
      ],
      "text/plain": [
       "Disease                 1     2   All\n",
       "Smoking_status                       \n",
       "Current                92   258   350\n",
       "Never                 214   636   850\n",
       "Prefer not to answer    5     4     9\n",
       "Previous              254   750  1004\n",
       "All                   565  1648  2213"
      ]
     },
     "execution_count": 39,
     "metadata": {},
     "output_type": "execute_result"
    }
   ],
   "source": [
    "# Um bessere Vorstellung von den Daten zu bekommen, wird eine Kreuztabelle erstellt\n",
    "cross_table = pd.crosstab(smoking['Smoking_status'],smoking['Disease'],margins=True )\n",
    "\n",
    "cross_table"
   ]
  },
  {
   "cell_type": "code",
   "execution_count": 40,
   "id": "0b8713b9",
   "metadata": {},
   "outputs": [
    {
     "name": "stdout",
     "output_type": "stream",
     "text": [
      "Chi-Quadrat-Statistik: 4.456815606566221\n",
      "p-Wert: 0.8137378632997907\n"
     ]
    }
   ],
   "source": [
    "#es wird ein Chi-Quadrat Test durchgeführt\n",
    "from scipy.stats import chi2_contingency\n",
    "chi2, p_value, _, _ = chi2_contingency(cross_table)\n",
    "print(\"Chi-Quadrat-Statistik:\", chi2)\n",
    "print(\"p-Wert:\", p_value)"
   ]
  },
  {
   "cell_type": "markdown",
   "id": "887c8e2b",
   "metadata": {},
   "source": [
    "Die Chi-Quadrat-Statistik von 4.4568 und der p-Wert von 0.2161 deuten darauf hin, dass es keine ausreichenden Hinweise dafür gibt, dass die beobachteten Häufigkeiten in den verschiedenen Kategorien statistisch signifikant voneinander abweichen."
   ]
  },
  {
   "cell_type": "code",
   "execution_count": 41,
   "id": "dbd84515",
   "metadata": {},
   "outputs": [],
   "source": [
    "group_disease_data_s = df3.loc[df3[\"Disease\"]==1,[\"Smoking_status\"]]\n",
    "\n",
    "group_healthy_data_s = df3.loc[df3[\"Disease\"]==2,[\"Smoking_status\"]]\n"
   ]
  },
  {
   "cell_type": "markdown",
   "id": "467fc4ed",
   "metadata": {},
   "source": [
    "## 3. Is the smoke status related to the number of Hospital visits regardless of the disease? (ignore the \"Prefer not to answer\")"
   ]
  },
  {
   "cell_type": "markdown",
   "id": "70097556",
   "metadata": {},
   "source": [
    "H0: es gibt keine Zusammenhang zwischen Raucherstatus und der Anzahl der Krankenhausbesuche \n",
    "H1: es gibt einen Zusammenhang zwischen Raucherstatus und der Anzahl der Krankenhausbesuche "
   ]
  },
  {
   "cell_type": "code",
   "execution_count": 80,
   "id": "55214c88",
   "metadata": {},
   "outputs": [
    {
     "data": {
      "text/html": [
       "<div>\n",
       "<style scoped>\n",
       "    .dataframe tbody tr th:only-of-type {\n",
       "        vertical-align: middle;\n",
       "    }\n",
       "\n",
       "    .dataframe tbody tr th {\n",
       "        vertical-align: top;\n",
       "    }\n",
       "\n",
       "    .dataframe thead th {\n",
       "        text-align: right;\n",
       "    }\n",
       "</style>\n",
       "<table border=\"1\" class=\"dataframe\">\n",
       "  <thead>\n",
       "    <tr style=\"text-align: right;\">\n",
       "      <th></th>\n",
       "      <th>Number of Visits</th>\n",
       "      <th>Smoking_status</th>\n",
       "    </tr>\n",
       "  </thead>\n",
       "  <tbody>\n",
       "    <tr>\n",
       "      <th>0</th>\n",
       "      <td>2</td>\n",
       "      <td>Previous</td>\n",
       "    </tr>\n",
       "    <tr>\n",
       "      <th>1</th>\n",
       "      <td>1</td>\n",
       "      <td>Previous</td>\n",
       "    </tr>\n",
       "    <tr>\n",
       "      <th>2</th>\n",
       "      <td>2</td>\n",
       "      <td>Previous</td>\n",
       "    </tr>\n",
       "    <tr>\n",
       "      <th>3</th>\n",
       "      <td>1</td>\n",
       "      <td>Previous</td>\n",
       "    </tr>\n",
       "    <tr>\n",
       "      <th>4</th>\n",
       "      <td>2</td>\n",
       "      <td>Previous</td>\n",
       "    </tr>\n",
       "    <tr>\n",
       "      <th>...</th>\n",
       "      <td>...</td>\n",
       "      <td>...</td>\n",
       "    </tr>\n",
       "    <tr>\n",
       "      <th>2208</th>\n",
       "      <td>1</td>\n",
       "      <td>Previous</td>\n",
       "    </tr>\n",
       "    <tr>\n",
       "      <th>2209</th>\n",
       "      <td>4</td>\n",
       "      <td>Previous</td>\n",
       "    </tr>\n",
       "    <tr>\n",
       "      <th>2210</th>\n",
       "      <td>1</td>\n",
       "      <td>Previous</td>\n",
       "    </tr>\n",
       "    <tr>\n",
       "      <th>2211</th>\n",
       "      <td>1</td>\n",
       "      <td>Never</td>\n",
       "    </tr>\n",
       "    <tr>\n",
       "      <th>2212</th>\n",
       "      <td>2</td>\n",
       "      <td>Never</td>\n",
       "    </tr>\n",
       "  </tbody>\n",
       "</table>\n",
       "<p>2204 rows × 2 columns</p>\n",
       "</div>"
      ],
      "text/plain": [
       "      Number of Visits Smoking_status\n",
       "0                    2       Previous\n",
       "1                    1       Previous\n",
       "2                    2       Previous\n",
       "3                    1       Previous\n",
       "4                    2       Previous\n",
       "...                ...            ...\n",
       "2208                 1       Previous\n",
       "2209                 4       Previous\n",
       "2210                 1       Previous\n",
       "2211                 1          Never\n",
       "2212                 2          Never\n",
       "\n",
       "[2204 rows x 2 columns]"
      ]
     },
     "execution_count": 80,
     "metadata": {},
     "output_type": "execute_result"
    }
   ],
   "source": [
    "values = ['Current', 'Never', 'Previous']\n",
    "smoking_visits = df3[df3['Smoking_status'].isin(values)][[\"Number of Visits\", \"Smoking_status\"]]\n",
    "\n",
    "smoking_visits"
   ]
  },
  {
   "cell_type": "code",
   "execution_count": 81,
   "id": "67c920dc",
   "metadata": {},
   "outputs": [
    {
     "data": {
      "text/plain": [
       "Text(0, 0.5, 'Number of Visits')"
      ]
     },
     "execution_count": 81,
     "metadata": {},
     "output_type": "execute_result"
    },
    {
     "data": {
      "image/png": "[encoded data removed]",
      "text/plain": [
       "<Figure size 432x288 with 1 Axes>"
      ]
     },
     "metadata": {
      "needs_background": "light"
     },
     "output_type": "display_data"
    }
   ],
   "source": [
    "sns.boxplot(x=smoking_visits['Smoking_status'], y=smoking_visits['Number of Visits'])\n",
    "\n",
    "plt.xlabel('Smoking Status')\n",
    "plt.ylabel('Number of Visits')"
   ]
  },
  {
   "cell_type": "code",
   "execution_count": 83,
   "id": "51696501",
   "metadata": {},
   "outputs": [
    {
     "name": "stdout",
     "output_type": "stream",
     "text": [
      "F-Wert: 0.43325317191327717\n",
      "p-Wert: 0.6484516004443337\n"
     ]
    }
   ],
   "source": [
    "from scipy import stats\n",
    "group_current = smoking_visits[smoking_visits['Smoking_status'] == 'Current']['Number of Visits']\n",
    "group_never = smoking_visits[smoking_visits['Smoking_status'] == 'Never']['Number of Visits']\n",
    "group_previous = smoking_visits[smoking_visits['Smoking_status'] == 'Previous']['Number of Visits']\n",
    "\n",
    "# ANOVA-Test\n",
    "f_value, p_value = stats.f_oneway(group_current, group_never, group_previous)\n",
    "\n",
    "# Ausgabe der Ergebnisse\n",
    "print(\"F-Wert:\", f_value)\n",
    "print(\"p-Wert:\", p_value)"
   ]
  },
  {
   "cell_type": "markdown",
   "id": "d61e6b75",
   "metadata": {},
   "source": [
    "Der niedriger F-Wert ist ein Hinweis dafür, dass die Varianzunterschiede zwischen den Gruppen gering sind und die Gruppen ähnliche Mittelwerte aufweisen.\n",
    "Der p-Wert von 0.6484516004443337 bedeutet , dass es keine ausreichenden statistischen Beweise für signifikanten Unterschied in der Anzahl der Krankenhausbesuche zwischen den Raucherstatusgruppen \"Current\", \"Never\" und \"Previous\" gibt.\n",
    "Basierend auf den vorliegenden Daten und der durchgeführten statistischen Analyse wurden keine ausreichenden Beweise gefunden, um die Nullhypothese zu verwerfen. Daher wird H0 bestätigt."
   ]
  },
  {
   "cell_type": "markdown",
   "id": "5462ad1f",
   "metadata": {},
   "source": [
    "## 4. Is the number of visits higher in the Disease group than in the Healthy group?"
   ]
  },
  {
   "cell_type": "code",
   "execution_count": 51,
   "id": "fa364670",
   "metadata": {},
   "outputs": [],
   "source": [
    "disease_visit = df3.loc[df3[\"Disease\"]==1,['Number of Visits']]\n",
    "\n",
    "healthy_visit = df3.loc[df3[\"Disease\"]==2,['Number of Visits']]"
   ]
  },
  {
   "cell_type": "markdown",
   "id": "e88ec080",
   "metadata": {},
   "source": [
    "Berechnung der Mittelwerte und Standartabweichungen für jede Gruppe"
   ]
  },
  {
   "cell_type": "code",
   "execution_count": 52,
   "id": "d56a5319",
   "metadata": {},
   "outputs": [
    {
     "data": {
      "text/plain": [
       "Number of Visits    1.306195\n",
       "dtype: float64"
      ]
     },
     "execution_count": 52,
     "metadata": {},
     "output_type": "execute_result"
    }
   ],
   "source": [
    "disease_visit.mean()\n"
   ]
  },
  {
   "cell_type": "code",
   "execution_count": 53,
   "id": "05a37bc3",
   "metadata": {},
   "outputs": [
    {
     "data": {
      "text/plain": [
       "Number of Visits    0.79004\n",
       "dtype: float64"
      ]
     },
     "execution_count": 53,
     "metadata": {},
     "output_type": "execute_result"
    }
   ],
   "source": [
    "disease_visit.std()"
   ]
  },
  {
   "cell_type": "code",
   "execution_count": 54,
   "id": "cded84f1",
   "metadata": {},
   "outputs": [
    {
     "data": {
      "text/plain": [
       "Number of Visits    1.304005\n",
       "dtype: float64"
      ]
     },
     "execution_count": 54,
     "metadata": {},
     "output_type": "execute_result"
    }
   ],
   "source": [
    "healthy_visit.mean()"
   ]
  },
  {
   "cell_type": "code",
   "execution_count": 55,
   "id": "7d6ee158",
   "metadata": {},
   "outputs": [
    {
     "data": {
      "text/plain": [
       "Number of Visits    0.939161\n",
       "dtype: float64"
      ]
     },
     "execution_count": 55,
     "metadata": {},
     "output_type": "execute_result"
    }
   ],
   "source": [
    "healthy_visit.std()"
   ]
  },
  {
   "cell_type": "markdown",
   "id": "4977056d",
   "metadata": {},
   "source": [
    "Beide Mittelwerte in Verbindung mit der Standartabweichung deuten auf eine geringe Steuertung der Daten hin, die Mittelwerte der beiden Gruppen untrscheiden sich nur wenig von einander"
   ]
  },
  {
   "cell_type": "code",
   "execution_count": 56,
   "id": "6d48a131",
   "metadata": {
    "scrolled": true
   },
   "outputs": [
    {
     "data": {
      "text/plain": [
       "<AxesSubplot:xlabel='Disease', ylabel='Number of Visits'>"
      ]
     },
     "execution_count": 56,
     "metadata": {},
     "output_type": "execute_result"
    },
    {
     "data": {
      "image/png": "[encoded data removed]",
      "text/plain": [
       "<Figure size 432x288 with 1 Axes>"
      ]
     },
     "metadata": {
      "needs_background": "light"
     },
     "output_type": "display_data"
    }
   ],
   "source": [
    "sns.boxplot(x='Disease', y= \"Number of Visits\", data=df3)"
   ]
  },
  {
   "cell_type": "markdown",
   "id": "72f3ea5e",
   "metadata": {},
   "source": [
    "Visuel ist fast kein Unterschied zu erkennen, bei der Gruppe der \"gesunden\" gibt es einige wenige Fälle, die über 10 Krankenhausbesuche hatten. Die Standartabweichung ist bei dieser Gruppe ist auch etwas größer als bei der Gruppe der Kranken."
   ]
  },
  {
   "cell_type": "code",
   "execution_count": 57,
   "id": "e71f74f3",
   "metadata": {},
   "outputs": [
    {
     "name": "stdout",
     "output_type": "stream",
     "text": [
      "Es gibt keinen statistisch signifikanten Unterschied im der Anzahl im Krankenhausbesuche zwischen den Gruppen.\n",
      "p-Wert: 0.9568844735087191\n"
     ]
    }
   ],
   "source": [
    "t_statistic, p_value = ttest_ind(disease_visit['Number of Visits'], healthy_visit['Number of Visits'], equal_var=False)\n",
    "\n",
    "alpha = 0.05\n",
    "\n",
    "\n",
    "if p_value < alpha:\n",
    "    \n",
    "    \n",
    "    print(\"Es gibt einen statistisch signifikanten Unterschied im der Anzahl der Krankenhausbesuche zwischen den Gruppen.\")\n",
    "    \n",
    "else:\n",
    "    \n",
    "    print(\"Es gibt keinen statistisch signifikanten Unterschied im der Anzahl im Krankenhausbesuche zwischen den Gruppen.\")\n",
    "    \n",
    "    print (\"p-Wert:\", p_value)\n"
   ]
  },
  {
   "cell_type": "markdown",
   "id": "91791049",
   "metadata": {},
   "source": [
    "p-Wert kleiner ist größer gewählte Signifikanzniveau (alpha= 0,05), wird davon ausgegangen, dass es keinen statistisch signifikanten Unterschied zwischen beiden gruppen gibt. \n",
    "Basierend auf den vorliegenden Daten und der durchgeführten statistischen Analyse wurden keine ausreichenden Beweise gefunden, um die Nullhypothese zu verwerfen. Daher wird H0 bestätigt."
   ]
  },
  {
   "cell_type": "markdown",
   "id": "8ba91190",
   "metadata": {},
   "source": [
    "## 5. Do Male has a higher current smoke percentage compared to Female? "
   ]
  },
  {
   "cell_type": "markdown",
   "id": "f7eef2c1",
   "metadata": {},
   "source": [
    "H0: es gibt keine Zusammenhang zwischen aktuelem Raucherstatus und dem Geschlecht\n",
    "H1: es gibt einen Zusammenhang zwischen aktuelem Raucherstatus und und dem Geschlecht"
   ]
  },
  {
   "cell_type": "code",
   "execution_count": 74,
   "id": "99c0e181",
   "metadata": {},
   "outputs": [],
   "source": [
    "#herausfiltern nur aktuelle raucher\n",
    "curent_smoke=df3[df3[\"Smoking_status\"] == 'Current']"
   ]
  },
  {
   "cell_type": "code",
   "execution_count": 79,
   "id": "36a19861",
   "metadata": {},
   "outputs": [
    {
     "data": {
      "text/html": [
       "<div>\n",
       "<style scoped>\n",
       "    .dataframe tbody tr th:only-of-type {\n",
       "        vertical-align: middle;\n",
       "    }\n",
       "\n",
       "    .dataframe tbody tr th {\n",
       "        vertical-align: top;\n",
       "    }\n",
       "\n",
       "    .dataframe thead th {\n",
       "        text-align: right;\n",
       "    }\n",
       "</style>\n",
       "<table border=\"1\" class=\"dataframe\">\n",
       "  <thead>\n",
       "    <tr style=\"text-align: right;\">\n",
       "      <th>Smoking_status</th>\n",
       "      <th>Current</th>\n",
       "    </tr>\n",
       "    <tr>\n",
       "      <th>Sex</th>\n",
       "      <th></th>\n",
       "    </tr>\n",
       "  </thead>\n",
       "  <tbody>\n",
       "    <tr>\n",
       "      <th>Female</th>\n",
       "      <td>106</td>\n",
       "    </tr>\n",
       "    <tr>\n",
       "      <th>Male</th>\n",
       "      <td>244</td>\n",
       "    </tr>\n",
       "  </tbody>\n",
       "</table>\n",
       "</div>"
      ],
      "text/plain": [
       "Smoking_status  Current\n",
       "Sex                    \n",
       "Female              106\n",
       "Male                244"
      ]
     },
     "execution_count": 79,
     "metadata": {},
     "output_type": "execute_result"
    }
   ],
   "source": [
    "## Um bessere Vorstellung von den Daten zu bekommen, wird eine Kreuztabelle erstellt\n",
    "smoking_gender = pd.crosstab(curent_smoke['Sex'], curent_smoke['Smoking_status'])\n",
    "smoking_gender"
   ]
  },
  {
   "cell_type": "code",
   "execution_count": 77,
   "id": "f18692ba",
   "metadata": {},
   "outputs": [
    {
     "name": "stdout",
     "output_type": "stream",
     "text": [
      "Chi-Quadrat-Statistik: 0.0\n",
      "p-Wert: 1.0\n"
     ]
    }
   ],
   "source": [
    "#es wird ein Chi-Quadrat Test durchgeführt\n",
    "chi2, p_value, _, _ = chi2_contingency(smoking_gender)\n",
    "print(\"Chi-Quadrat-Statistik:\", chi2)\n",
    "print(\"p-Wert:\", p_value)"
   ]
  },
  {
   "cell_type": "markdown",
   "id": "3d8a9d87",
   "metadata": {},
   "source": [
    "Eine Chi-Quadrat-Statistik von 0.0 und ein p-Wert von 1.0 deuten darauf hin, dass es keinen Zusammenhang zwischen dem Geschlecht und dem aktuellen Raucherstatus gibt. Basierend auf den vorliegenden Daten und der durchgeführten statistischen Analyse wurden keine ausreichenden Beweise gefunden, um die Nullhypothese zu verwerfen. Daher wird H0 bestätigt"
   ]
  },
  {
   "cell_type": "code",
   "execution_count": null,
   "id": "2280ebb4",
   "metadata": {},
   "outputs": [],
   "source": []
  }
 ],
 "metadata": {
  "kernelspec": {
   "display_name": "Python 3",
   "language": "python",
   "name": "python3"
  },
  "language_info": {
   "codemirror_mode": {
    "name": "ipython",
    "version": 3
   },
   "file_extension": ".py",
   "mimetype": "text/x-python",
   "name": "python",
   "nbconvert_exporter": "python",
   "pygments_lexer": "ipython3",
   "version": "3.8.8"
  }
 },
 "nbformat": 4,
 "nbformat_minor": 5
}
